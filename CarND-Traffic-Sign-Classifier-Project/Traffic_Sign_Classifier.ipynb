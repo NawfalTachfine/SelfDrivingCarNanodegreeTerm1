{
 "cells": [
  {
   "cell_type": "markdown",
   "metadata": {},
   "source": [
    "# Self-Driving Car Engineer Nanodegree\n",
    "\n",
    "## Deep Learning\n",
    "\n",
    "## Project: Build a Traffic Sign Recognition Classifier\n",
    "\n",
    "In this notebook, a template is provided for you to implement your functionality in stages, which is required to successfully complete this project. If additional code is required that cannot be included in the notebook, be sure that the Python code is successfully imported and included in your submission if necessary. \n",
    "\n",
    "> **Note**: Once you have completed all of the code implementations, you need to finalize your work by exporting the iPython Notebook as an HTML document. Before exporting the notebook to html, all of the code cells need to have been run so that reviewers can see the final implementation and output. You can then export the notebook by using the menu above and navigating to  \\n\",\n",
    "    \"**File -> Download as -> HTML (.html)**. Include the finished document along with this notebook as your submission. \n",
    "\n",
    "In addition to implementing code, there is a writeup to complete. The writeup should be completed in a separate file, which can be either a markdown file or a pdf document. There is a [write up template](https://github.com/udacity/CarND-Traffic-Sign-Classifier-Project/blob/master/writeup_template.md) that can be used to guide the writing process. Completing the code template and writeup template will cover all of the [rubric points](https://review.udacity.com/#!/rubrics/481/view) for this project.\n",
    "\n",
    "The [rubric](https://review.udacity.com/#!/rubrics/481/view) contains \"Stand Out Suggestions\" for enhancing the project beyond the minimum requirements. The stand out suggestions are optional. If you decide to pursue the \"stand out suggestions\", you can include the code in this Ipython notebook and also discuss the results in the writeup file.\n",
    "\n",
    "\n",
    ">**Note:** Code and Markdown cells can be executed using the **Shift + Enter** keyboard shortcut. In addition, Markdown cells can be edited by typically double-clicking the cell to enter edit mode."
   ]
  },
  {
   "cell_type": "markdown",
   "metadata": {},
   "source": [
    "---\n",
    "## Step 0: Load The Data"
   ]
  },
  {
   "cell_type": "code",
   "execution_count": 1,
   "metadata": {
    "collapsed": true
   },
   "outputs": [],
   "source": [
    "# Load pickled data\n",
    "import pickle\n",
    "\n",
    "# TODO: Fill this in based on where you saved the training and testing data\n",
    "\n",
    "training_file = 'traffic-signs-data/train.p'\n",
    "validation_file = 'traffic-signs-data/valid.p'\n",
    "testing_file = 'traffic-signs-data/test.p'\n",
    "\n",
    "with open(training_file, mode='rb') as f:\n",
    "    train = pickle.load(f)\n",
    "with open(validation_file, mode='rb') as f:\n",
    "    valid = pickle.load(f)\n",
    "with open(testing_file, mode='rb') as f:\n",
    "    test = pickle.load(f)\n",
    "    \n",
    "X_train, y_train = train['features'], train['labels']\n",
    "X_valid, y_valid = valid['features'], valid['labels']\n",
    "X_test, y_test = test['features'], test['labels']"
   ]
  },
  {
   "cell_type": "markdown",
   "metadata": {},
   "source": [
    "---\n",
    "\n",
    "## Step 1: Dataset Summary & Exploration\n",
    "\n",
    "The pickled data is a dictionary with 4 key/value pairs:\n",
    "\n",
    "- `'features'` is a 4D array containing raw pixel data of the traffic sign images, (num examples, width, height, channels).\n",
    "- `'labels'` is a 1D array containing the label/class id of the traffic sign. The file `signnames.csv` contains id -> name mappings for each id.\n",
    "- `'sizes'` is a list containing tuples, (width, height) representing the original width and height the image.\n",
    "- `'coords'` is a list containing tuples, (x1, y1, x2, y2) representing coordinates of a bounding box around the sign in the image. **THESE COORDINATES ASSUME THE ORIGINAL IMAGE. THE PICKLED DATA CONTAINS RESIZED VERSIONS (32 by 32) OF THESE IMAGES**\n",
    "\n",
    "Complete the basic data summary below. Use python, numpy and/or pandas methods to calculate the data summary rather than hard coding the results. For example, the [pandas shape method](http://pandas.pydata.org/pandas-docs/stable/generated/pandas.DataFrame.shape.html) might be useful for calculating some of the summary results. "
   ]
  },
  {
   "cell_type": "markdown",
   "metadata": {},
   "source": [
    "### Provide a Basic Summary of the Data Set Using Python, Numpy and/or Pandas"
   ]
  },
  {
   "cell_type": "code",
   "execution_count": 2,
   "metadata": {},
   "outputs": [
    {
     "name": "stdout",
     "output_type": "stream",
     "text": [
      "Number of training examples = 34799\n",
      "Number of testing examples = 12630\n",
      "Image data shape = [26 25]\n",
      "Number of classes = 43\n"
     ]
    }
   ],
   "source": [
    "### Replace each question mark with the appropriate value. \n",
    "### Use python, pandas or numpy methods rather than hard coding the results\n",
    "\n",
    "# TODO: Number of training examples\n",
    "n_train = X_train.shape[0]\n",
    "\n",
    "# TODO: Number of validation examples\n",
    "n_validation = X_valid.shape[0]\n",
    "\n",
    "# TODO: Number of testing examples.\n",
    "n_test = X_test.shape[0]\n",
    "\n",
    "# TODO: What's the shape of an traffic sign image?\n",
    "image_shape = train['sizes'][0]\n",
    "\n",
    "# TODO: How many unique classes/labels there are in the dataset.\n",
    "n_classes = len(set(train['labels']))\n",
    "\n",
    "print(\"Number of training examples =\", n_train)\n",
    "print(\"Number of testing examples =\", n_test)\n",
    "print(\"Image data shape =\", image_shape)\n",
    "print(\"Number of classes =\", n_classes)"
   ]
  },
  {
   "cell_type": "markdown",
   "metadata": {},
   "source": [
    "### Include an exploratory visualization of the dataset"
   ]
  },
  {
   "cell_type": "markdown",
   "metadata": {},
   "source": [
    "Visualize the German Traffic Signs Dataset using the pickled file(s). This is open ended, suggestions include: plotting traffic sign images, plotting the count of each sign, etc. \n",
    "\n",
    "The [Matplotlib](http://matplotlib.org/) [examples](http://matplotlib.org/examples/index.html) and [gallery](http://matplotlib.org/gallery.html) pages are a great resource for doing visualizations in Python.\n",
    "\n",
    "**NOTE:** It's recommended you start with something simple first. If you wish to do more, come back to it after you've completed the rest of the sections. It can be interesting to look at the distribution of classes in the training, validation and test set. Is the distribution the same? Are there more examples of some classes than others?"
   ]
  },
  {
   "cell_type": "code",
   "execution_count": 3,
   "metadata": {
    "collapsed": true
   },
   "outputs": [],
   "source": [
    "### Data exploration visualization code goes here.\n",
    "### Feel free to use as many code cells as needed.\n",
    "import matplotlib.pyplot as plt\n",
    "# Visualizations will be shown in the notebook.\n",
    "%matplotlib inline"
   ]
  },
  {
   "cell_type": "code",
   "execution_count": 4,
   "metadata": {
    "collapsed": true
   },
   "outputs": [],
   "source": [
    "import numpy as np\n",
    "import pandas as pd\n",
    "import random as rd\n",
    "\n",
    "# reading mapping between sign labels and class IDs\n",
    "ref = list(pd.read_csv('signnames.csv')['SignName'])"
   ]
  },
  {
   "cell_type": "markdown",
   "metadata": {},
   "source": [
    "## Visualizing sample images with their labels from the training set"
   ]
  },
  {
   "cell_type": "code",
   "execution_count": 5,
   "metadata": {
    "scrolled": true
   },
   "outputs": [
    {
     "data": {
<<<<<<< HEAD
      "image/png": "iVBORw0KGgoAAAANSUhEUgAAAP8AAAEVCAYAAAAvoDOaAAAABHNCSVQICAgIfAhkiAAAAAlwSFlz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\n743jQwoAAAAASUVORK5CYII=\n",
      "text/plain": [
       "<matplotlib.figure.Figure at 0x7f47e7757ef0>"
=======
      "image/png": "iVBORw0KGgoAAAANSUhEUgAAAP8AAAEVCAYAAAAvoDOaAAAABHNCSVQICAgIfAhkiAAAAAlwSFlz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\nL5quhgAAAABJRU5ErkJggg==\n",
      "text/plain": [
       "<matplotlib.figure.Figure at 0x7f2c021b6ef0>"
>>>>>>> 0c1bb3b8d80e9b1251a89528b0105a1fb1e9b431
      ]
     },
     "metadata": {},
     "output_type": "display_data"
    },
    {
     "data": {
<<<<<<< HEAD
      "image/png": "iVBORw0KGgoAAAANSUhEUgAAAP8AAAEVCAYAAAAvoDOaAAAABHNCSVQICAgIfAhkiAAAAAlwSFlz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\nC9uZs88/RcMGAAAAAElFTkSuQmCC\n",
      "text/plain": [
       "<matplotlib.figure.Figure at 0x7f47958ee208>"
=======
      "image/png": "iVBORw0KGgoAAAANSUhEUgAAAP8AAAEVCAYAAAAvoDOaAAAABHNCSVQICAgIfAhkiAAAAAlwSFlz\nAAALEgAACxIB0t1+/AAAIABJREFUeJztnXuUXXWV5z/7vupdeZAnSSCEd8IjhJBGQcU3ojRiK4IO\ngw6Ka1rXjLPa6aFtV4Njr25xWh3/aLXjiNKCKAoogigY3iqRhEcIzzzIu1JJJanU61bVfez5456y\nb4rfPqlUpW6FnP1ZKyu3ft/zO+d3f/fsc8797bv3FlXFcZzkkZroATiOMzG48TtOQnHjd5yE4sbv\nOAnFjd9xEoobv+MkFDf+NzgioiJykqE9IiKfil5/XEQeGOUx3iIirxxinzoReVFEZo3mmMP2daOI\n3DrW/Rj7/vMcBbSZIvKSiNSNx7EnmsQYv4h8TkRWiciAiPzwMOzvWhF5WUS6RaRdRO4TkZbDMNRx\nQVVvU9X3jLLv46p66tDfIrJJRN51kG7XAY+p6s6oz+dFZKOIdInIDhH5pohkqvY5X0QeFpG+aF4P\ntv9RIyI5EekQkea47VS1HXg4ei9HHYkxfmAH8I/AzWPdkYi8Dfgn4CpVbQFOB+4Y636PMj4D/Kjq\n718BS1S1FTgDOBv4b1X67cAzwDHA3wM/F5Hp4zS2twLPqmrPCLa9jcp7OepIjPGr6l2q+gtgz2HY\n3XnAH1X1mWjfe1X1FlXtBhCRH4rId0XkwejJ4FEROX6os4icFml7ReQVEbmiSqsTkX8RkS3RE8V3\nRaShSv+fItIW3T3/y0gHLCKfEJEnqv5WEflrEVkXjfErInKiiPwxujvfISK5aNuLRGRb9PpHwHHA\nr0SkR0T+NnCs44ATgZVDbaq6QVU7hzYBysBJ0fanAEuAG1Q1r6p3As8DfxXYd1ZEbheRO6M7+I0i\n8jMRuTV6H8+LyCki8ncisktEtorI8CeeS4BfV/19vIj8Pur/gIhMq9JWAguqP7+jhcQY/2FmJfBe\nEfmyiFxgfCf8OPAVYBrwLJU7CCLSBDwI/BiYAVwFfFtEFkX9bgJOARZTMY45wD9EfS8GvgC8GzgZ\nGOuj8cXAucD5wN8Cy6Nxz6Nyd75qeAdVvRrYAlyqqs2q+rXAfs8ENqpqsbpRRD4mIl1AB5U7/79F\n0qJo++6qzZ+L2qv7NwC/AAaAK1R1MJIupfKUMYXK08NvqZzbc4D/XXWcIS4B7qv6+2PAJ6l8Hjkq\nczz0fovA+mi8RxVu/KNAVR8HPkTlbnUfsEdEviEi6arN7lPVx1R1gMpj7JtEZB7wAWCTqv5AVYuq\n+jRwJ/BhERHg08D/iJ4muql8vbgy2ucVwA9Uda2q9gI3jvGt3KSqXar6ArAWeEBVN6rqfuB+4JxR\n7ncy0D28UVV/HD32nwJ8F2iPpGZg/7DN9wPVayitwG+ADcAnVbVUpT2uqr+NDPVnwHTgq6paAH4C\nzBeRyQAisgDIqmr1AuYPVPVVVc1T+fq2eNhYuqP3dFSROfgmyUNEXgCGHvPeFxn7Aajq/cD9IpIC\n3k7lpHuF/7jLbK3atkdE9gLHRvv9CxHprNpdhsqdazrQCKyuXAcqwwGGLirHAqur+m0e7XuMaK96\nnQ/8PdqV+n0caLgHoKrrojn+NpWLaA8V466mlQMvIOcDWSrrLMOj0YaPu6Pq4pCP/m8GOoH3c+Aj\nP8DOqtd90bbVtER9jyrc+AOo6qKDb/XnbcvAChF5iMqj8hDzhl5Eq8pTqSw6bgUeVdV3D99XdCHJ\nA4tUdXvgcG3V+6Xy3XsiOFgo6Boq35Mzwx/9q8hQWRcAeCHavqXq0f9sKl+Nhngg2u8KEbkoWokf\nDZcA3xrpxpFH4iQqX0OOKhLz2C8iGRGpp3IXTYtIfbWr6RD3dZmIXCkiU6TCMuBtwJNVm10iIhdG\ni2ZfAVaq6lbgXuAUEbk6WrzKish5InJ6dCH5HvBNEZkRHWuOiLw32ucdwCdEZKGINAI3jGb8h4F2\nYIElquo2YB2wbKhNRD5V9Z4WAn8HrIi2f5XKusgN0edyOXAWla9D1fv9GpULwophi3IjIlozWAY8\ncgjdllH5mjbWp6wjjsQYP/AlKnfV64H/FL3+0ij3tY/Kd/N1QBdwK/B/VPW2qm1+TMU491JZVPs4\nQHRnew+V7/E7qDxy3gQMLRr+LyoLTE9Gi2O/A06N+t4P/F/goWibh0Y5/rHyz8CXRKRTRL5gbPNv\nwNVVf18APC8ivVQeu38NfLFKvxJYSmVuvwp8WFV3D9+pqn6FyqLf70Rk6iGO+51UvDT9h9Dn41TW\nJ446xJN5HH6k8iOibao62ovLG57IA/IM8E5VbZvo8QCIyLeBtar67RFuPwN4FDjnEC8Ybwj8O78z\nLkRejoUTPY5hPEvlx0YjQlV3UfkB11GJG7+TGFR1+USP4UjCH/sdJ6EkacHPcZwq3PgdJ6G48TtO\nQnHjd5yE4sbvOAnFjd9xEoobv+MkFDd+x0kobvyOk1Dc+B0nobjxO05CceN3nITixu84CcWN33ES\nypji+aM88t+ikhfv/6nqV+O2r6tv1KaWSeGB1OXMfo31Rqm0opUbEooxWn/+dVml/8xgX97URhX9\nfEA272FStt7UMtlszD5jpHI52F4oFGI62Tssa3h/ABqjWftMp+1TLpWKOR1j5jGTtc+d+sbwuZOK\nmcO4/KSx3WJ3ae+zXOwLtg/ku+zdlcPnd3dPgf6B4oiGOWrjj3LU/yuVAhLbgKdE5B5VfdHq09Qy\niXddFi4yM/MkuyDKOaeFNenYZ/bZva/D1F5e87CpbXpmjakVB8JzGntNyNjp3hvmnGZqk4+daWpp\n2w5I5cMn0q62HWafctq+0OQLA6Y2WLKrXaVzYaNrabbzbjbFaJqzyyBOmW0nMT797HCe0eacfeES\nM+EwpGIulJRjtJibUe/up4Ptm9Y+aO+uN1x46s7frrfHMIyxPPYvA9ZHRR4GqRRHuGwM+3Mcp4aM\nxfjnUFWYgsrdf87YhuM4Tq0Yi/GHnnFe9wQsItdJpTT2qgHjkdRxnNozFuPfxoHVY+ZSyUN/AKq6\nXFWXqurSuobGMRzOcZzDyViM/yngZBE5IapKcyVwz+EZluM4482oV/tVtSgin6NSDjkN3BxVe43p\nJIiGl6rLZfs6VDYcLJmMvboq2RgtZa/Pp+LcPBIeoxKzckzJ1FJF261IYdDWYtxeahwvzkPQ2zu8\nQO5/kI9xUeWabFfl5NYp4fb6sKsXoKcrvIIN0N4dU5qv3i7cUzLGH+ehSaVs74eI3TNun+kYr2i5\nd294fwP251IsGl6YQ/BHj8nPr6pDZZccx3mD4b/wc5yE4sbvOAnFjd9xEoobv+MkFDd+x0koNa7S\nq2g57IoqxLi2yuWw+yKVtq9dcW7ATMbul45xAxaMXarG7E9sV5+k7Ui7cskOBNFB+5eSxf6wS6y/\nYAfhDBqRgADNrXawzaQpx5hafSq8z/37Npp9dre3mVpvyQ7sKfSdaWr9+fD7Huy03WgtDbbrsKUx\n5n5ZsD/rznZ7/gd6w5/noDF2gJJhR4dSeNfv/I6TUNz4HSehuPE7TkJx43echOLG7zgJpaar/Yqd\nE65orF4CqLHKno5JxJZJ21o2Lg1WTJomS4kLBtKYrG+DBXuVPV208wwO9Nrpywb7OoPtRW0w+7RO\ntVftp0xqNTUp216Hno6w12HnLjudWH9MnkFN23n6SoN2rrvd214Ntpd77HHsjQneKffbxyoP2PNR\n6u83tVTZClqyT9QUVvDRyO/nfud3nITixu84CcWN33ESihu/4yQUN37HSShu/I6TUGoe2FNWI7DH\nKD8EmBny0qmYwJ4YN2A2LugnHZfDz2iPyfmWydoutkxMYr28UZEFYKBou42ymeZg++yp4co1AFOb\nbXdevm+3qXV0bDe1fXt3BtulZLt0czHzUaq3XX0q9nzku7YG2ws715p9tuzZZmrFmPFPajDKygH1\nKbvykRiBa4P9tiu4rz/cp1iMSRY4DL/zO05CceN3nITixu84CcWN33ESihu/4yQUN37HSShjcvWJ\nyCagGygBRVVdGttBQY0QPTXcHQBWWr1cnKsvJtKuvs52zeVythuwJRsuNDpQsktQSc529eXLMXkL\n1XZ9HnOMXQn95AWLg+1nnXqe2eek+barD+k1pZ5OO8Jt+7bXgu3PrX3C7LPutRgXG/Ycz2i2XWyz\nm8MRkF11dn68TqsUFtDfFxPx1xMTmVq0IxYt91zBPgUoG3kjC8UaleuKeLuqdhyG/TiOU0P8sd9x\nEspYjV+BB0RktYhcdzgG5DhObRjrY/8FqrpDRGYAD4rIy6r6WPUG0UXhOoCGppjvlo7j1JQx3flV\ndUf0/y7gbmBZYJvlqrpUVZfW1dmLX47j1JZRG7+INIlIy9Br4D2AHS3hOM4RxVge+2cCd0sl1C0D\n/FhVf3PwbmF3SHnQdq8UesIusYGYZIoDPbaLKoX99WPy9JNMTbLhiLmObjuqbH/B1ibPnWlqpy08\ny9Tedq6tnbNgXrA9jf3UlRuImftuO0osN3e6qRUXhOf4L993utlnoDzL1HbvtOfxqSefNrWuvt+H\nhQbbpdtYZ0cX9sR81jEV1hiMiQYspsJmmGq0IxnrMmH3ZiptR4MOZ9TGr6obgbNH299xnInFXX2O\nk1Dc+B0nobjxO05CceN3nITixu84CaXGCTzLpMtht5J07zV7vfxc+OcDTdjuvN7+mHp2trcGaTnO\n1AqFsLumv952G01aeLypffnqj5rawkbbjZbu2GBqHbd+Ldjevilcww+gVLRdSsVyTORkxj59MnXh\nunXzFx5r9qmb/g5Tm3ZmOFoR4LSPXWpqL68Lv7fHV9mut2177BOkpWi7TFOpcNQnAFl7rlL14X3m\nGu391deHtRfXWXX/Ascd8ZaO4xxVuPE7TkJx43echOLG7zgJxY3fcRJKTVf7VcsUB7uDWn5nm9mv\nU3cF2+vr7FX2ssaVtKo3tfq6FlNLNYW1RbPeZPa55FI7reG8feFSUgA77/2FqZU3h/PjARR788H2\nqc2296BlzimmVtdir86ns/b8798T9kjseW2T2aew6UFTy6x/ytTmXvZOU1t0XtiDMPWEM8w+qcY7\nTG3ja3YwmaTsgLGy2MFCmgl7JHIN9mp/NhvOQ1lX90ezz3D8zu84CcWN33ESihu/4yQUN37HSShu\n/I6TUNz4HSeh1NTVVyoW6NwXdumVCnYeuUwu7NZobLHdV1OnzDa1uvomU8vFpBefMm9+sP39b7KD\nTk55dbWp7bv3dlPL9Nm52BoXnWtqMi+cI68uJjAmPXmGrRnuTQCJKbHW2hMef1MpHPAD0PvIKlNj\n3fOmtOuXtmtuxmXhMc47c4nZ5/IrPmVqDz5k5wvcvHmnqRUG7XJdpbIRZBQzv8V8eH9xZe+G43d+\nx0kobvyOk1Dc+B0nobjxO05CceN3nITixu84CeWgrj4RuRn4ALBLVc+I2qYCPwXmA5uAK1TVTpoX\nUdYy+UK49FZDnR3BNHXKtGD7zGNsV199zo44K6jtDskYZZAA3nPWwmD7CR3rzD6d991mal29HaY2\n753vMrXWD/5nU2Py3HB72p4PJEYbJVkmGe02dVMWmFr+MTu6cGD13aa2+44fBdun9ISjHwGOWXyR\nqR2bssuXrd+zydT299m1vPL94bHkB8O2AnbZsP68nddyOCO58/8QuHhY2/XAClU9GVgR/e04zhuI\ngxq/qj4GDE+texlwS/T6FuCDh3lcjuOMM6P9zj9TVdsAov/tn4g5jnNEMu4/7xWR64DrAHJ19vdp\nx3Fqy2jv/O0iMhsg+j+cZwtQ1eWqulRVl2aM1EOO49Se0Rr/PcA10etrgF8enuE4jlMrRuLqux24\nCJgmItuAG4CvAneIyLXAFuAjIzlYOpWjtWlOUGtssMsgaSmc9HPzxu1mn+Kg7fIo1tnummNPsZNx\nnmCUSOr54+/NPrmuLaY251124snWD11tauVJhjsP6MmHr+fZZrMLcV/GRnt3sLypvT12n6YZtru3\n8e3LTE0G7EjB3Y/eGWxvu/sJs8+8RvscOH6+bTKdKx4ztVfW2/0G8+HJ6ouJBCwUw+7ZgQE7OnY4\nBzV+Vb3KkOwz13GcIx7/hZ/jJBQ3fsdJKG78jpNQ3PgdJ6G48TtOQqlpAs+UQJOE3WyDXebvhNjR\nEU762dtvu3hI29c1mTrV1M5daCf+nNr/QrB9y1o7qWPz9JNNbfKy95laucF2Ve5b9aSprdgc/khP\nuMB2pS46NiY6Uuy5Khftz2z39rDL6aFH7SSX02bYbtGzjrc/l5lvtesh1reFa/yVnrETq+78g51Y\ntemv7LqGx556oqm9usl+b+VCOEKvWLRd0li1/w4hQNPv/I6TUNz4HSehuPE7TkJx43echOLG7zgJ\nxY3fcRJKjWv1DbLXqNXXud9OZpkfCCcyTKXt4WdSdoTYzEnhenYAl19g17QbfPBfg+2FLVvNPgMX\nftTU9Dj7WNs332NqG18ZnlXtPzh1/iXB9l2v/MbsszJtz8fCmeebWturfzK1F7eG3VQnLXm32ee4\naXbI34YN9rFajgsnVgVouiis9a//tdmH4h9NaUrGPtbFU041tb7mTlN7thTOc1EnObNPKh123W5Y\nv8Hs87p9jHhLx3GOKtz4HSehuPE7TkJx43echOLG7zgJpaar/UqaMk3hgdTZQ8nq7mC7iH3tqs9N\nNrXpLSeZ2qSSHQBTeC28ql+P7VlofcsFpiaTw3MBkO61PQGnvc3Oujdjxsxg+x9W2vNx/7N20Mns\nd7zZ1Da12fvsmxwu1zV3oZ3BeWrRPgeeWm17OPoHw4ExAFNmhT9PnR0uAQfwytO256lumZ1X74zZ\n9me2cdo2U+sxYqfSrXY5jGwu/Dk/98wzZp/h+J3fcRKKG7/jJBQ3fsdJKG78jpNQ3PgdJ6G48TtO\nQhlJua6bgQ8Au1T1jKjtRuDTwJAP7ouqGhMpUSGdTtE6KVw3KpOzk4+JVVCqZNSEAtIxQT+pVNgN\nBVAasK+Hu7aH8+qlU7PMPjS02FrMtffYuWfY3dTOXVhoey3Y3vXyPrNP4wm26zMr9jwWDLctQKE5\nPMcx00sua+SlA5rzdhmqTMx5kJp2WrA9e/xfmH2yL6+1j9VZsrWptmuusTUmT2J32I3ZGxPstqMr\nrA0O5M0+wxnJnf+HwMWB9m+q6uLo30EN33GcI4uDGr+qPgbYv7BwHOcNyVi+839ORNaIyM0iMuWw\njchxnJowWuP/DnAisBhoA75ubSgi14nIKhFZNTg48vLBjuOML6MyflVtV9WSqpaB7wFm8XRVXa6q\nS1V1aS4XVwnecZxaMirjF5Hq8imXA/byqOM4RyQjcfXdDlwETBORbcANwEUishhQYBPwmZEcrFwu\n0te3J6h1dtqln4qFsCsnE1OSS40SSADFou1SKpRtl6MOhiPSmsR2edEco8kh1FaqolTYb2pbVz8S\nbN/9WnjeAWac93ZTS6ftuRoo226lfRqOfsvH3G9Ewm5ggPpiTD47tcdY7ApHXPZ02NGFpYJdJqvQ\nb7/n+pT93rq7u01te9v2YPvWdjsScM/+sLs3n7ePM5yDGr+qXhVo/v6Ij+A4zhGJ/8LPcRKKG7/j\nJBQ3fsdJKG78jpNQ3PgdJ6HUNIFnsVhkT0c4GWehWDT7pVJhV05JbVdZOsbtki/aZaHyYkdtTa4L\n/0JR8nYpJuJ+1ah2NFqcGzCdO8bUFrzt8mD7/uyjZp9frH3c1FILF5gaGi6jVtHCn2cK22XX0znH\n1Dr3zTa1uGnMNu8Mtje2tJt9JG2fA6kG20XY277Z1Nq2vGBq69vCY+zssd3Vg8Xw+V0ux0zGMPzO\n7zgJxY3fcRKKG7/jJBQ3fsdJKG78jpNQ3PgdJ6HU1NUnImRSYVdPKW1HUtXVhSOz6urq7T6ZOFff\nc6a2P7vQ1I6bFU7GWeywo+zYusnWzrLdaEq4LiBAqWTXyJOmcKLIUy481exz+j33mdqUku2qbM7Y\nLtOBDc8H25uOn2v2kd42UytNtl1Y5ZizeGD7pmB7cb19DqRy9g7Tdok/Nq9Zb2rr2+z31tkXPvc1\n02r2aWwK20SqzXZhvm7bEW/pOM5RhRu/4yQUN37HSShu/I6TUNz4HSeh1HS1v7mxiTcvOS+ovfja\nGrtjOrzqWZezV/sFeyV62nx7RXSgPhxkAdB6ZriE1o6X/2T22f+HP5haw/lnm1p/80pTe+KJcH48\ngEIhnI9v1sxnzD6TGu0AnVzGXmU/56Spprbn3ieC7Ssftt/XtGPtc2DusXZuugY7hR/5DeGgq4Ft\nXWaf488Nn6MA+zJ22bP7n3zA1NYX7ICghqZwabPZMeW/CkY006bMy2af4fid33ESihu/4yQUN37H\nSShu/I6TUNz4HSehuPE7TkIZSbmuecC/A7OAMrBcVb8lIlOBnwLzqZTsukJVbT8IUJfLctIJ4Vxs\ne3rs0kQDpYbw2LB9PIO2N4x1r/aa2qNP7DW1y9788WB7brXtOsy12+4r3RwOfgFoWHqBqc2ebbup\nVq7cFD6W2mXDTl10qalls3YJreOPs11i11w6L9j+8IYdZp9Cy5tMbf4s+7PObnzJ1NrvfSjYXu6x\n8wVqwyWmtrdku+zW99knXWmynYPwmHrDnVqwS9jt3h0+B4qFkVfCHsmdvwj8jaqeDpwPfFZEFgLX\nAytU9WRgRfS34zhvEA5q/KrapqpPR6+7gZeAOcBlwC3RZrcAHxyvQTqOc/g5pO/8IjIfOAdYCcxU\n1TaoXCAA++dIjuMccYzY+KVSP/lO4POqan/pfH2/60RklYis6u2zv2s7jlNbRmT8IpKlYvi3qepd\nUXO7iMyO9NlAcHVCVZer6lJVXdrUGFOr3nGcmnJQ4xcRAb4PvKSq36iS7gGuiV5fA/zy8A/PcZzx\nYiRRfRcAVwPPi8izUdsXga8Cd4jItcAW4CMH21Eqm6Zh+pSg1thiPxVIf12wvWRXVaJkpwSksWi7\na/pfs6PHyu8/MdiePvksexyP3G9qu+6729RmzfxrU1u4cJGpLVgQ/kgbwynfxohdeiszLzxX75hn\n5y0sGSW+ALIb7HJXnffcamqpLdvDwgnnmn2mX3i+qfVu+J2pzSja5rQ3a59zW7rCJew2d9hu0YGB\ncDm3Ysmew+Ec1PhV9QnAKhz3zhEfyXGcIwr/hZ/jJBQ3fsdJKG78jpNQ3PgdJ6G48TtOQqltua5U\nijqjzJBVfgigWDSuUXZuSSRl+wGzYmudO+2ySg+8Ei7HdM6FdlRc/zrD1QR0PbnK1LID/2xqU67+\nrKnVzzgtLGTCpcYASMVkwEzF3B+MJJIAlMO+1rTG+GfX2vPRedftptbxkh052Xpi2LU47SPvM/ts\n2LjC1O769a9Nbe12u2xbW6cd8Lp/MByJNzhgfy7FcnjuYz6R1+F3fsdJKG78jpNQ3PgdJ6G48TtO\nQnHjd5yE4sbvOAmlpq6+lKTI5sIRek0xYWd9PeFIpXKM2yhVtJ0eObVdKF2dtrvmO3eGa7Fd86FP\nmH3e+9FPmVrmVvtY3atfNLWB7TeZms48Idhev3ix2ad+pp2EqWFaOAoToNDXb2q9u8JJTYu94dp5\nAN0PPWpqmW1bTK319FNMbdoVnw+2b91qu2BvvefnpvbbFzeaWleXXfMwxvOMGG47YiJTS1b03iH4\n+vzO7zgJxY3fcRKKG7/jJBQ3fsdJKG78jpNQarrajwiZTDiXWZ3hBQDIZMJLmDELqOQy9lvTGC9B\n2cxYBoWOPcH23/z2KbNPw1/aq+xvvfpaU+u6/1emJq/YZb4K28Ir5sW1T5t9ysccY2oDTeFSaQDl\nor0cXdoXDpAazNur/ZoKl/gC0JOXmtq0Ky8ztR0d4ZyMP33sSbPPyq3hzxmgkLLLlzVOtvP0EVNG\nq78vH2wvFuz5LZTCngU9hOV+v/M7TkJx43echOLG7zgJxY3fcRKKG7/jJBQ3fsdJKAd19YnIPODf\ngVlUQg2Wq+q3RORG4NPAUK2hL6qqneCssi8kHS7xlMnarr5cLhzEUIrJIVeIyUuXStnuPGK0dDEc\nyLK3/dlgO8C99282tSnvfbOpnfLJcEAKQHPXa6bW9Xi4BNj6F+3ST/TFRJDstcuXZTIx945J9cHm\n0y56i9lFW99vatlzzja119rs3H8P/j7s0lu3v8PsM2nmQlObLPZ77snbVag3b3rZ1PbnC8F2IcZ1\nqOE+aMy5PYyR+PmLwN+o6tMi0gKsFpEHI+2bqvovIz6a4zhHDCOp1dcGtEWvu0XkJWDOeA/McZzx\n5ZC+84vIfOAcYGXU9DkRWSMiN4uIHfjtOM4Rx4iNX0SagTuBz6tqF/Ad4ERgMZUng68b/a4TkVUi\nsqprf9dhGLLjOIeDERm/iGSpGP5tqnoXgKq2q2pJVcvA94Blob6qulxVl6rq0tZJrYdr3I7jjJGD\nGr+ICPB94CVV/UZV++yqzS4H1h7+4TmOM16MZLX/AuBq4HkRGfJpfRG4SkQWU8katgn4zEgOKIYH\nTlK2206t+L2YS1c6bYtGkCAAxbTtIrT65dTO3da/2y7TdMsvHjK1udPtSLvzT5xtase99xPB9vkf\nnmn2mVIw3EZAvsPOdScZI48c0JcNT9aumPnt22O7e3c+vdLU/vCMrbUZbrRiJuyKBJAB2w24c8dO\nU2vfb7v6urr7TK11Ujh/Zbpoz2+xMxwJGBOU+jpGstr/hLHLWJ++4zhHNv4LP8dJKG78jpNQ3Pgd\nJ6G48TtOQnHjd5yEUtMEniJiRoJlYlxzqVRYk5gIvFTGdilJjKsvFRMNmDMiEtNij0PKtlbqs105\n27eHE2AC3L/Tdje1Pv9qsH3a5Olmn5lTbLdXvtWO+DtuYbg0GEDPrr3B9tWPPWP26eqwy5f19dil\nwUoF+wPt7Q67xPZ22u68LW3rTG1vn32eFlvssmcLl5xjanOawufBnl22m7XzxbDrUGLOxeH4nd9x\nEoobv+MkFDd+x0kobvyOk1Dc+B0nobjxO05CqW2tPiCt4etNNmVHdKUlHDWXTttuqEGxtXJMlb+Y\nnKCV9KWy6OmnAAAGlElEQVQBUulRdAIkRiuX7H12x9TIy3f0BNv37A23A6xL21rDaXaCpplL5ppa\ncWs4cWn3Dtudt6/ffl/dXXYi0Z071ptae3u47l5vTM7SmXPsmoFnLnqTqc05eYmpzT82psZf4ZVg\n++qHbVdfXTnsHjyEoD6/8ztOUnHjd5yE4sbvOAnFjd9xEoobv+MkFDd+x0kotY3qUyFdDkfGlct2\nXTIrqi9Vtodfl7O1UjkmCmwgJmliyXA5xlxCJR0T8RfjIYxz2ajhLgUoGj3LMe+5VLT317nLdoum\nBuzP7LiecDRd/X47oem+vH2sXVs2mdqmbXY9xGJdOF38rNMWm33OWXKBqU2qs99zsWiPo2PngKlN\nrg9HLDZa2W6BRuNzPpS7ud/5HSehuPE7TkJx43echOLG7zgJxY3fcRLKQVf7RaQeeAyoi7b/uare\nICInAD8BpgJPA1erxtStAiiV0L1GYEe6wew2WO4Mtpd77aq/9Vl7VbZUtleVe2KCZgaNfHx1Yl9D\n7VHEo3ERRqPQynFBRGqvKhfzMZ6FvN0vVQxrr8as2u9smWpqA/1GeSpAYlbFW1vDefUWzD/d7FPq\ntVfmd2+zcxD29Nh5F1O5cEkugMI0I3gq5hyWrGG6hzmH3wDwDlU9m0o57otF5HzgJuCbqnoysA+4\ndsRHdRxnwjmo8WuFoZjPbPRPgXcAP4/abwE+OC4jdBxnXBjRd34RSUcVencBDwIbgE5VHfpFzDZg\nzvgM0XGc8WBExq+qJVVdDMwFlgGhL0zBL5sicp2IrBKRVfu77e/ojuPUlkNa7VfVTuAR4HxgsogM\nrTrMBXYYfZar6lJVXTqpJfxTS8dxas9BjV9EpovI5Oh1A/Au4CXgYeDD0WbXAL8cr0E6jnP4GUlg\nz2zgFqn4U1LAHap6r4i8CPxERP4ReAb4/sF21JfP8/yLz4W1jO3q29cRdvXt3f6S2SfXbLtJsg12\nWaVy0S5dVTCuleWYQJu4IByNufZKTA5CUVvLGQEfhUE7YGlPbzjPHUBPyQ7E6c3b48jQFO7Ta3uD\nZao9H1OnTTa1gUE7B2G2LjyO1IBd/qu/YJfyKhXsY6Xqw8cCWLTILtd10tywi3Pz6qfMPs8a3s2Y\nCnav46DGr6prgNeNXFU3Uvn+7zjOGxD/hZ/jJBQ3fsdJKG78jpNQ3PgdJ6G48TtOQpHY6LHDfTCR\n3cBQorNpgO1TqR0+jgPxcRzIG20cx6vq9JHssKbGf8CBRVap6tIJObiPw8fh4/DHfsdJKm78jpNQ\nJtL4l0/gsavxcRyIj+NAjtpxTNh3fsdxJhZ/7HechDIhxi8iF4vIKyKyXkSun4gxROPYJCLPi8iz\nIrKqhse9WUR2icjaqrapIvKgiKyL/jeyOo77OG4Uke3RnDwrIpfUYBzzRORhEXlJRF4Qkf8etdd0\nTmLGUdM5EZF6EfmTiDwXjePLUfsJIrIymo+fiki49t1IUdWa/gPSVNKALQBywHPAwlqPIxrLJmDa\nBBz3rcASYG1V29eA66PX1wM3TdA4bgS+UOP5mA0siV63AK8CC2s9JzHjqOmcUCnV2By9zgIrqSTQ\nuQO4Mmr/LvBfx3KcibjzLwPWq+pGraT6/glw2QSMY8JQ1ceAvcOaL6OSCBVqlBDVGEfNUdU2VX06\net1NJVnMHGo8JzHjqClaYdyT5k6E8c8Btlb9PZHJPxV4QERWi8h1EzSGIWaqahtUTkLAzjgy/nxO\nRNZEXwvG/etHNSIyn0r+iJVM4JwMGwfUeE5qkTR3Iow/lGtkolwOF6jqEuB9wGdF5K0TNI4jie8A\nJ1Kp0dAGfL1WBxaRZuBO4POqOmHZXgPjqPmc6BiS5o6UiTD+bcC8qr/N5J/jjaruiP7fBdzNxGYm\naheR2QDR/7smYhCq2h6deGXge9RoTkQkS8XgblPVu6Lmms9JaBwTNSfRsQ85ae5ImQjjfwo4OVq5\nzAFXAvfUehAi0iQiLUOvgfcAa+N7jSv3UEmEChOYEHXI2CIupwZzIiJCJQfkS6r6jSqppnNijaPW\nc1KzpLm1WsEctpp5CZWV1A3A30/QGBZQ8TQ8B7xQy3EAt1N5fCxQeRK6FjgGWAGsi/6fOkHj+BHw\nPLCGivHNrsE4LqTyCLsGeDb6d0mt5yRmHDWdE+AsKklx11C50PxD1Tn7J2A98DOgbizH8V/4OU5C\n8V/4OU5CceN3nITixu84CcWN33ESihu/4yQUN37HSShu/I6TUNz4HSeh/H9rM6TCBMYBygAAAABJ\nRU5ErkJggg==\n",
      "text/plain": [
       "<matplotlib.figure.Figure at 0x7f2bb434f1d0>"
>>>>>>> 0c1bb3b8d80e9b1251a89528b0105a1fb1e9b431
      ]
     },
     "metadata": {},
     "output_type": "display_data"
    },
    {
     "data": {
<<<<<<< HEAD
      "image/png": "iVBORw0KGgoAAAANSUhEUgAAAP8AAAEVCAYAAAAvoDOaAAAABHNCSVQICAgIfAhkiAAAAAlwSFlz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\nhaLgF6JQFPxCFIqCX4hCUfALUSj/H3u82NUaSDKjAAAAAElFTkSuQmCC\n",
      "text/plain": [
       "<matplotlib.figure.Figure at 0x7f479583f0b8>"
=======
      "image/png": "iVBORw0KGgoAAAANSUhEUgAAAP8AAAEVCAYAAAAvoDOaAAAABHNCSVQICAgIfAhkiAAAAAlwSFlz\nAAALEgAACxIB0t1+/AAAIABJREFUeJztnXuQXVeV3r91zn11q/VqZMltWZZkY4NlG0uejiGYGRsY\nXB6HKkMyTEElxEkRRE2NK6FC/nARKjBVVIpJBQhJqqBE7MIkBOMBGzw8ZvB4zMgewFg2er+QZL3b\nej9a6se999yVP+4VaYm9Vt9+ndv2/n5VXd2919ln7/P47rl3r7vWElUFISQ+kk5PgBDSGSh+QiKF\n4ickUih+QiKF4ickUih+QiKF4ifjIiLXicgFEUnb2PZficgLjv1nIvJvpneGZDJQ/LMYEXlIRDaI\nyKiIfOMK26qW7Uzr529FZNUkx3mfiBwTkUVj2soiskNEPqGqB1W1R1WzKR4SmUVQ/LObowA+D+BR\nw/bHAHoBLALwNIDHJzOIqj4D4IcAvjKm+TMABgCsm8w+yeyH4p/FqOqTqvp9AKcCtrOqul+bX9EU\nABmAN09huH8P4G4R+SciciuAhwB8XFVVRFaIiIpIAQBEZL6IPCIiAyJyREQ+b30kaL2r2Cki50Tk\nf7bmSmYBFP/rHBE5C2AEwP8A8J8nux9VPQfgTwF8Dc13Gn+uqnuNzR8DUEfzxWYNgHsB/M7n+NbH\niO+h+S5iEYC9AO6a7BzJ9ELxv85R1QUA5qP5pP71FPf1VwB+ieZ98d9D24jIEgB/BOCTqnpRVY8D\n+DKADwc2vx/AdlX9rqrWAPw3AK9NZY5k+ih0egJk6qjqRRH5GoATInJzS5C/RUR+H8BPWv8eUNVb\nnN1tAzCqqg3DvhxAEcCAyG/fwScADgW2vWZse+sjRGg70gEo/jcOCYBuAEsBXCZ+VX0eQM80jXMI\nwCiARapaH2fbAQDLLv0jzVeLZfbmJE/4tn8WIyIFEakASAGkIlIZs+j2PhFZIyKpiMwD8CUAZwDs\nmMk5qeoAgJ8C+KKIzBORRERuEJG7A5v/CMAtIvJPW/P+twCunsn5kfah+Gc3nwEwDOBhAP+i9fdn\nWrYFAL4N4ByaC2lvBnCfqo7kMK9/CaAEYDuaLzjfBdB35UaqehLAhwB8AU2PxY0A/iGH+ZE2ECbz\nICRO+OQnJFIofkIiheInJFIofkIiheInJFIofkIiheInJFIofkIiheInJFIofkIiheInJFIofkIi\nheInJFIofkIiheInJFIofkIiheInJFKmlMBTRO5Ds8pLCuB/qeoXvO3TNNVisRjeF+yMQpPJNeQl\nKBqTdTYwD2efxkxkknUovOPy5mgn1rXnnyT267wzFLKGPZZ3tqzrKeI9b+wz0nAzTjnHloRv8VJq\n769WqznzsGfhz9HGutb+fRUeq1aro55lbd2Qk07j1arQshvA+wAcBvASgI+o6narT6VS0eXXhZO3\nJg07EWzDOBRV+6JnzlUqFsIvQABQFPtmr2bhUnVJ6tSvdOahziVKnDnWqsOmrWDcSHPndpl9SkV7\n/ucGh0xblthzLDSq4bHKc8w+acMW3WA1vD8AEFRMW3neomD7NXPtsoPHjtilBS7W7PtjpGbPEc6L\nXqlUCrYn3ourUTZx36GjGB4ZbUv8U3nbfyeAPaq6T1WraNaJe2AK+yOE5MhUxL8UlxdqONxqI4S8\nDpjKZ/7QW4vfeY8rImsBrAWAQoE1QgiZLUzlyX8Yl1dfuRbNstGXoarrVLVfVftT77MxISRXpiL+\nlwDcKCIrRaSEZqHGp6dnWoSQmWbS78NVtS4iDwH4GzRdfY+q6javj8B+tRHHFVUwetVhr7ym3nqn\n476que6mcHvieEysVVkAULFXy5PUPh9Fx9aoh49teMT2phScN2TOUKjDPrZMwjutdC00+ywo2Kv9\nF14bMG0q9rFJI+ytKDru0hT2/lTtk5UaxwwAmTOeItzP8nIBQHFSDvDLmdKHcFX9MYAfT3kWhJDc\n4Tf8CIkUip+QSKH4CYkUip+QSKH4CYmUXL9yJwCKhksv86LwjACH1Hvt8o7Mi8xyJmJGzDlhcYkz\nRy9wA3XbjSaJ45srhW3qzKNmDwVx3FeeG9M6spoRHAUA4gQYFRP7XI2oExRWDwdBnRq0XW91L6DG\nudaVon3TDdWcORq3nPeVOM912C588hMSKRQ/IZFC8RMSKRQ/IZFC8RMSKbkH2CfGKmXDWcHWRniF\nWJ3AHjgBGAUnksUL6mhMIpjCyTQGEScwxonqSL1oG2OO5UI4VRQAqDNW3Umt5XkQEmO8YtkJ4Oqy\nr8v8ReF0XABwVWWeaatUeoLtcyp26q/USEEGAN4tl9UGTdvhgwdM24lh6z5wgswM20TuUD75CYkU\nip+QSKH4CYkUip+QSKH4CYkUip+QSMnX1SdAYrj0vMpBVnkqL8gCTkBKIbXdXpWybbPcK0nBdhsh\ntX1DlaI9lldeq5jauf/Kle5g+5xiuB3wc8+VSmXT1rtggW3rnh9sn9tju+XKXfb1rFVHTNvIsF1V\nqDo6GmxPnMpMSd0eK6mfNW3lynWmbW/BrlT03M7NwfaGUWrMw4l/+t1tJ7x3QsgbAoqfkEih+AmJ\nFIqfkEih+AmJFIqfkEiZkqtPRPYDGASQAairav84HVA38rRp1Y6kKhguvbpTdqv7TdeYtv4b3mra\n+ubZ7rfSnLC7rNhtl6DqEvu4MselNDJ0wbTVRsJ56QBAs3BUYlK1oxWTUTtyL3HGKh2x3V7FkfA+\nG85YQ875yGq2rVYLu/MAoF4N2+p1u48VRQoA9cQ+j/Nveb9pmze/z7RV0h3B9iy15ZloWBNuXsgr\nmA4//7tV9eQ07IcQkiN8209IpExV/ArgpyLysoisnY4JEULyYapv++9S1aMishjAMyKyU1XXj92g\n9aKwFgCKRftrqYSQfJnSk19Vj7Z+HwfwFIA7A9usU9V+Ve330mcRQvJl0uIXkTkiMvfS3wDuBbB1\nuiZGCJlZpvK2fwmAp1qRdQUA/1dV/3q8TqmEI+PEexkySmilSTg5IwAsW/lm07ZSTpu27l3HTduw\n4Vkc9pJtDtsuu1EnUq02arvYanXbXWaVcfISO6ZuqTSnn2NMjajEhhOJqV5i0oJzqzplshIjgWd3\n3Y7ErJ217w9J7X6919jvbE8NHDFtI4bLuurcH2XDDWiV/goxafGr6j4At0+2PyGks9DVR0ikUPyE\nRArFT0ikUPyERArFT0ik5JrAUwCUDHfOaN12k0gatnn17AqOq2z0zH7TVj1g2xpZeO5atJNcni/Z\n32rMjOMCgKS7y7QVK3YU4dzusGur0mMn25zXE062CQBzuu1+JSNJJwAU5oUjIAsL7ESWxV47uWdx\ngT1WOs/uVyiFXXPn1z9r9nnp/zxi2jB3pWkanWNHhG4e2GP3y6zoVNtvN2xEb+oEqvXxyU9IpFD8\nhEQKxU9IpFD8hEQKxU9IpORcrkvMCJ7Ui/U3VjYFdh62k4PnTVvj+ptNmxw/aNuGwqv6N7zzQbPP\nte97m72/RXZgUmqs2gNAocfpVwmvbheNMl4A0FO2g1XKBdvrAGMlHQDS8sSfK47zBurszg0+OhMO\n1PrVE3YAapbZeRcXrrC9HxePD5i2M2dt71O9ET64khMB36gbuQSdsndXwic/IZFC8RMSKRQ/IZFC\n8RMSKRQ/IZFC8RMSKfm6+lShhosisyskQRA2OungcOrYftO2a+kK09b/Vjsz2eCmLcH2c/Uhs8/v\n3XG3aZu7ste0eW4vu0gZ0JiAq6edPWbOSRbHyaZGYkCrzBQA4yq3xvL8eU7ZtuF924PtBze+bPbR\nsl3qrXjtdaZt0+bnTNuI2n671Dr/zrWcjqc2n/yERArFT0ikUPyERArFT0ikUPyERArFT0ikjOvq\nE5FHAbwfwHFVvbXV1gvgOwBWANgP4E9U9cz4wylUww4dHTWilABUjbxkVm4/ACioXepoz86wyw4A\nrn2LHfG3oPdosP3ENrtK2Z5f3GPaVl1zr2lLup38fl55LcOWOL6yRmKP5Xjm3Gg6NSbiRed5taYa\nzkRKI3bE3N6f/zDYfvHkRbPPgptvM21F+zbF4ZN2aTY492opsWRouzBT4yYQt+7d5bSz5TcA3HdF\n28MAnlXVGwE82/qfEPI6Ylzxq+p6AFdWLnwAwGOtvx8D8IFpnhchZIaZ7Gf+Jao6AACt34unb0qE\nkDyY8a/3ishaAGsBoOSUUiaE5Mtkn/zHRKQPAFq/zaL2qrpOVftVtb9QcPISEUJyZbLifxrApcR1\nDwL4wfRMhxCSF+24+r4N4B4Ai0TkMIDPAvgCgCdE5GMADgL4UHvDiTOkE1lmuIDEiXpqJM7+LoRd\ndgCw+4wd0XWbEQ2YbNto9tn69BOmbfHb+m3bbVeZNs9dliRhl5jnlit4iTOdfp41MUZ0vHnuWGL5\nMAHgtcOmad8LLwTba7ATcVZWXG/adr76S9M2WDNNqDv3qhrnynPpWpqYSLmuccWvqh8xTO9texRC\nyKyD3/AjJFIofkIiheInJFIofkIiheInJFJy/cqdKpAZ0VnqRD3BiARsNOwQK3V8Sl6Oy90Hdpi2\n3jXvCrbfsNSu71fd/aJp2/zkU6bt7mV2/b/uheGagQDQyMIuzkZq+/MS74Q40XRGiblmN8Pl5A3l\nJS2tOPXzBn79E9N2ev+xYHu5781mn+4uuz7hrpMnTFuS2vUm5zi390g17CN0nXbqpXFtDz75CYkU\nip+QSKH4CYkUip+QSKH4CYkUip+QSMk9u0ZmuO0yJ6rPykko7muXbRMnmWVStZNB7joUdhstu+n3\nzT6V0z8ybcdfeNy0HXjn20zbTe99u2kTI6oPVjuA1LE5ZfDcUEHzmnn+K2es9KydH3bvc8+YtqGR\n8ER6V7zF7HP03G7TNuz4NzO1w/pUnISsRlhlVrVd2VbyWq9+4u+M2/aWhJA3FBQ/IZFC8RMSKRQ/\nIZFC8RMSKbmv9ifGMnClNPGpjI4Mmba62EEWXuBGVrNX+8+d2BVsP3DdMrPPquXXmbbqrn2mbecP\nnzZtfbetNm1zrqkE2xMnTMTKIQfYq/YAUHD2aZXX8p42BcMTBACntz9v2k5sedW0FRcuDLZfdZWd\nq/FvX7WDuxpOAFqaOKvzzpGnxmp/NbPPR9WIgmo/gx+f/IREC8VPSKRQ/IRECsVPSKRQ/IRECsVP\nSKS0U67rUQDvB3BcVW9ttX0OwMcBXEpo9mlV/XE7A5o53BL7daiRhN12xbLtWik7Na3mVUqmbdQp\n8zWchcfbfmi72eeW37ODforH9pu2kz9/1rRt++u7Tdvb//m9wXax0/5BnWgbz3Xk5Um0Sql5gSfJ\nhYumbc+zPzVtZ06eN21dt64Jtu8+s8Xsc/yc7e4te49LJzCp4fhMEzGC3ZzzW6uH+0ykXFc7T/5v\nALgv0P5lVV3d+mlL+ISQ2cO44lfV9QBO5zAXQkiOTOUz/0MisllEHhWR8NeoCCGzlsmK/6sAbgCw\nGsAAgC9aG4rIWhHZICIb6s7XFQkh+TIp8avqMVXNVLUB4OsA7nS2Xaeq/araX/AKcxBCcmVS4heR\nvjH/fhDA1umZDiEkL9px9X0bwD0AFonIYQCfBXCPiKxG0xO0H8An2hlMYZfr8qLOLE9U6uTiU9hu\nwKw+YtoKJdsN2J2Fc7SNnD9l9nnpyDnTdvfqd5u26nrbtXX4R98wbTetCZehWnz79WYfKwIP8KP6\nLHceAFieViddIAaPbDRtBzfZ7tSsMse09S0Nn4+ndti5FU8752OhM38vynG4buf3s8rOOZ4+JKkl\n3fZz+I0rflX9SKD5kbZHIITMSvgNP0IiheInJFIofkIiheInJFIofkIiJecEngJIeMhC0Yn2Mlx6\nUnPKTDmHVnXcIZWi3a8oYZeM1GzX4dEjtotq/+p/ZNoWLLMTf55/dYNp2/bM+mB7z/UrzD6VhfaX\nrzzHUea5ogx3WTpqu7yO/f3fmbYze+0knaWl5nfMcKy+P7y/s/Y1q/XYIZAjjntZEvuEJHXb9dyw\naqJ5LtgJtgfnNIFtCSFvICh+QiKF4ickUih+QiKF4ickUih+QiIlV1efABAjTCxVO/vhqFE/z8sO\n0CiGa9YBQDmxD7uR2fNICmEXUEnsPvVRO6pv12sHTNt7VtluwItH/9K07f2bcI2/q+94u9nnpnev\nMm12xlUgKdjPDqvb6Im9Zp8jz//CtNUbPaZt+fJbTdvzB/8+2D5oRNIBgNTsO6vuuKQzx8+WOS7C\nQsm4Vxt28ptazXKZTm8CT0LIGxCKn5BIofgJiRSKn5BIofgJiZRcV/sVgiwLD5k5q5Sq4ZVNtzSR\nEUAEAJWSc9hZ1TSNjhglqJyX0FLZXjk+fuCgadt5lZ1z77Zb+k3bqY2vhPf3/W+Zfa5+66dM24Jl\nvaat4UT2pIbp6Mv/YPY5sHObvb+Ft5i2C8UB07bv8Mlg+4gTAtOl9jXrLtlBP9XUDhYaclbu1ajz\nlajTx/EwtQuf/IRECsVPSKRQ/IRECsVPSKRQ/IRECsVPSKS0U65rGYBvArgaQAPAOlX9ioj0AvgO\ngBVoluz6E1U94+8sQVIMu0rKdpUsdBXDr1EFp+zWoJP/bMlC2311cfSiaes2Xitr1VGzT6lYNG2N\n2mnTtmXbJtO2+HY7kKX71T3B9lO/tstTHXr+D03b/H92j2lLy04ky4Ww+23/L+zgnYvD9rlauuom\n07bn+E7Tdmo0fI8USt1mn0bdPq7BESfwK7Hnn3iuOSPIqObk/ZNk6s/tdvZQB/ApVb0ZwDsA/JmI\nrALwMIBnVfVGAM+2/ieEvE4YV/yqOqCqr7T+HgSwA8BSAA8AeKy12WMAPjBTkySETD8Teu8gIisA\nrAHwIoAlqjoANF8gACye7skRQmaOtsUvIj0Avgfgk6p6fgL91orIBhHZkDlligkh+dKW+EWkiKbw\nv6WqT7aaj4lIX8veB+B4qK+qrlPVflXtTwv2ggghJF/GFb+ICIBHAOxQ1S+NMT0N4MHW3w8C+MH0\nT48QMlO0E9V3F4CPAtgiIhtbbZ8G8AUAT4jIxwAcBPCh8XaUiKJUCr/1dyodYaQeNhacLH61uh2d\nd2rE/vihzkcTK1JttGaPlVmlmABUR+x+54bsXHe7zy03bXfdsjrYXv/582afrd+3cwIuWXO7abv6\nLbbLdGj7xmD70V/+zOwjXUtMW32+fa4ObDxm2kYaRtkwJ1djxYiyAwB1XGw1N3LPsRn3VeKEizba\nT9VnMq74VfUF2CXA3jv1KRBCOgG/4UdIpFD8hEQKxU9IpFD8hEQKxU9IpOScwBNQ4/VmNLMj9Gp1\nw/WS2q9d9eoF03b6hPNNQyf6qiBh12Li+CmHnSSXtaoTIeYkJ311129M28p3vTPY3rf8VbPPuV1/\nZ9q2fP+vTFvvv77ftB174blg+4UTtstu/ko7aenpwROm7dWz4SSdAFCrhW9xmeQXzpxbDknBvmZD\nzn3VMFzWmePPc6p/tQ2f/IRECsVPSKRQ/IRECsVPSKRQ/IRECsVPSKTk6uqDpMjSuUFTktrJClE3\n3HZO1FNXwXOj2RFWDSvECkCtFt5nQ5yadalTM7DsJPc0Ek8CQH3wsGnb9Jtw/b/5N9r1/dIBO7nn\nkZ9907TtW2S7TPet/0mwvS4LzD71q+xztWn/AdN2IbOjOzMj0q5Ws++3atWJ0hT7mnWVnGepc4/U\nrAhD516EkaDW63IlfPITEikUPyGRQvETEikUPyGRQvETEim5rvYnougphZcje5yyVqiFV3PnVLrM\nLlW1V/QvGnndACBxIiYkCa/KipMPrp7ZK8cNJx+cOoE9qNmegIFDLwfbD/XdZ/a5dtkye6jddi7B\nrY+tM21DZ8LBNt1LwjkGAUBK9gr8wGk7T18js69Z3bg2WdX2VBScVfusakum7lyzxFmGTzQ8RyN1\nJQA7r95E4JOfkEih+AmJFIqfkEih+AmJFIqfkEih+AmJlHFdfSKyDMA3AVwNoAFgnap+RUQ+B+Dj\nAC4lV/u0qv7Y25c2MtSHzwRtQ3XbNVczSl7VM/u1K/VKeY3YrrIksU9JargBnYpcrk+m6gSXZI4b\nsOS5CC8MB9tf2bHd7LP4trebtvLAIdN2diAcRAQAWpgTbJ9/rV3i68hZ251Xg+0KFic/nhp58KyA\nHwBQxy2n1VHb5uQFLDu2zLj3G86N1TDcg/BcxFfQjp+/DuBTqvqKiMwF8LKIPNOyfVlV/2vboxFC\nZg3t1OobADDQ+ntQRHYAWDrTEyOEzCwT+swvIisArAHwYqvpIRHZLCKPisjCaZ4bIWQGaVv8ItID\n4HsAPqmq5wF8FcANAFaj+c7gi0a/tSKyQUQ21OtOwg5CSK60JX4RKaIp/G+p6pMAoKrHVDVT1QaA\nrwO4M9RXVdepar+q9hcK+SYOIoTYjCt+EREAjwDYoapfGtPeN2azDwLYOv3TI4TMFO08iu8C8FEA\nW0RkY6vt0wA+IiKr0fQt7AfwifF2JBCkVskrJ6+eGm6ZCxeHzD5Jw/6I4blynApJEMNvlyS2WxFG\nJCAAiOduangRf47/UMPHfWZgl9lly0J7/fYf37TGtI0M/ty0FXreFGyXnrLZ58CBAdMmRft8JFXb\nVigY94Hj0u12citm6pSISyqmrViyr3VSD0d+lsSeY2Z8hJYJ1PFqZ7X/BYS91a5PnxAyu+E3/AiJ\nFIqfkEih+AmJFIqfkEih+AmJlHwTeKYJuufOC9saRkkuALVqOAqv6kQ9GdWMAACSeEk6PVdJ2A9Y\nKNgunlRsF49kTlSfE+XoVH4CDFdPktnRaHsO2C67JTe+w7QtuHq5aUt7w9F7+4fCiT0B4HzVPrDM\nO2jnmhXT8PPNGcounwX4mTMTO1mrOt9uzRAeL01LZp+CcZ0n4urjk5+QSKH4CYkUip+QSKH4CYkU\nip+QSKH4CYmU3APsxYioazjhdGkp7EqbU7Cj6RoN2+1Sd2r1qeMqKRjupsxx2WnBcyva0WOJEw2Y\nOHUNE6NGoRrRlACQDdlu1m2v7TZtdyxeadrKveEEnqfO2kk/resMAGlquyrFdQOGjzt1nntO0CfU\nqQGpZlJNoFiypTZSDd+rakRoAo67t/38nXzyExIrFD8hkULxExIpFD8hkULxExIpFD8hkZKrq6+R\nZRi+eC5oEzg5/Q1v2WjNdv+kjksmccbKnBp/VvLRupcs1EnEmaROXUAnYlGckEWrhlvqJBlNHP/Q\n4LlB07avPNfut/dIsH3+Qru2S7mry7R1Oclaq2nNthk+sbpzf9TVdqVWnJp7iZNws7vb7jc6dDHY\nfnHYPq5CGr6eOgFfH5/8hEQKxU9IpFD8hEQKxU9IpFD8hETKuKv9IlIBsB5AubX9d1X1syKyEsDj\nAHoBvALgo6pqR9NcwihRlTnRFImEV9OrNW9F314t96oF150gkaRorbDa82g4q/ZFp2RUwynl5WSY\nQ2oFJjnH5a0PZ84tUumzA3tGXguvYA86536RE7BUcUpoDRbsVXErvV/iXBfvXiw4c3TSNSJzTnIp\nDU+y6hW2NTw+Vkm5EO08+UcBvEdVb0ezHPd9IvIOAH8B4MuqeiOAMwA+1vaohJCOM674tcmlmM9i\n60cBvAfAd1vtjwH4wIzMkBAyI7T1mV9E0laF3uMAngGwF8BZ/f8Bx4cB2KVeCSGzjrbEr6qZqq4G\ncC2AOwHcHNos1FdE1orIBhHZ4H3WJoTky4RW+1X1LICfAXgHgAUiv/0+47UAjhp91qlqv6r2F7wF\nDEJIrowrfhG5SkQWtP7uAvCHAHYAeA7AH7c2exDAD2ZqkoSQ6aedR3EfgMdEJEXzxeIJVf2hiGwH\n8LiIfB7ArwE8Mt6OEgHKRvmkuuO/ygy3jOc+USf4JXNsNWenaSHsy/EqJDUct1HdyfkmYttqjhuw\nbpyrQsl+nffyJ8KZY1Ipm7YFxfAcXzPy1QFAUrZz+JWKdumqYjps2qxrkznzEC94xzkfNcf1PKr2\nsYkRpGO1AwDUuJ4TKNc1rvhVdTOANYH2fWh+/ieEvA7hN/wIiRSKn5BIofgJiRSKn5BIofgJiRRR\nrzbRdA8mcgLAgda/iwCczG1wG87jcjiPy3m9zWO5ql7Vzg5zFf9lA4tsUNX+jgzOeXAenAff9hMS\nKxQ/IZHSSfGv6+DYY+E8LofzuJw37Dw69pmfENJZ+LafkEjpiPhF5D4R2SUie0Tk4U7MoTWP/SKy\nRUQ2isiGHMd9VESOi8jWMW29IvKMiPym9duuazWz8/iciBxpnZONInJ/DvNYJiLPicgOEdkmIv+u\n1Z7rOXHmkes5EZGKiPxKRDa15vHnrfaVIvJi63x8R0TsUMd2UNVcfwCkaKYBux5ACcAmAKvynkdr\nLvsBLOrAuH8A4A4AW8e0/RcAD7f+fhjAX3RoHp8D8B9yPh99AO5o/T0XwG4Aq/I+J848cj0naFan\n7Gn9XQTwIpoJdJ4A8OFW+9cA/OlUxunEk/9OAHtUdZ82U30/DuCBDsyjY6jqegCnr2h+AM1EqEBO\nCVGNeeSOqg6o6iutvwfRTBazFDmfE2ceuaJNZjxpbifEvxTAoTH/dzL5pwL4qYi8LCJrOzSHSyxR\n1QGgeRMCWNzBuTwkIptbHwtm/OPHWERkBZr5I15EB8/JFfMAcj4neSTN7YT4Q6lGOuVyuEtV7wDw\nRwD+TET+oEPzmE18FcANaNZoGADwxbwGFpEeAN8D8ElVPZ/XuG3MI/dzolNImtsunRD/YQDLxvxv\nJv+caVT1aOv3cQBPobOZiY6JSB8AtH4f78QkVPVY68ZrAPg6cjonIlJEU3DfUtUnW825n5PQPDp1\nTlpjTzhpbrt0QvwvAbixtXJZAvBhAE/nPQkRmSMicy/9DeBeAFv9XjPK02gmQgU6mBD1kthafBA5\nnBMRETRzQO5Q1S+NMeV6Tqx55H1Ockuam9cK5hWrmfejuZK6F8B/7NAcrkfT07AJwLY85wHg22i+\nfayh+U7oYwDeBOBZAL9p/e7t0Dz+N4AtADajKb6+HObxLjTfwm4GsLH1c3/e58SZR67nBMDb0EyK\nuxnNF5pfnZsIAAAAQElEQVT/NOae/RWAPQD+EkB5KuPwG36ERAq/4UdIpFD8hEQKxU9IpFD8hEQK\nxU9IpFD8hEQKxU9IpFD8hETK/wM+iruBxURm8AAAAABJRU5ErkJggg==\n",
      "text/plain": [
       "<matplotlib.figure.Figure at 0x7f2bb42a4080>"
>>>>>>> 0c1bb3b8d80e9b1251a89528b0105a1fb1e9b431
      ]
     },
     "metadata": {},
     "output_type": "display_data"
    },
    {
     "data": {
<<<<<<< HEAD
      "image/png": "iVBORw0KGgoAAAANSUhEUgAAAP8AAAEVCAYAAAAvoDOaAAAABHNCSVQICAgIfAhkiAAAAAlwSFlz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\n5xeiUOT8QhSKnF+IQvln/3SrzgqpbUIAAAAASUVORK5CYII=\n",
      "text/plain": [
       "<matplotlib.figure.Figure at 0x7f4795811550>"
=======
      "image/png": "iVBORw0KGgoAAAANSUhEUgAAAP8AAAEVCAYAAAAvoDOaAAAABHNCSVQICAgIfAhkiAAAAAlwSFlz\nAAALEgAACxIB0t1+/AAAIABJREFUeJztnXuwJHd13z+nZ+beuy+9ESyLQBhwAFMgyFqQgB1sYyxT\nJEBhCBRFhKNisQulTJkkRXBshE0ScBkoUklwLZaMIAKh8CgUQiXICkGlPAQCCyEQ5mUJBIsWtBLa\n133M9Mkf3VuMlj7nzp1779yVft9P1dSd27/u/p3+dZ/pnt93zjnm7gghyqPaagOEEFuDnF+IQpHz\nC1Eocn4hCkXOL0ShyPmFKBQ5/ymImbmZPT5oe5WZfWbCdV9jZjdulp2nEmb252b2h1ttx4OJ4p3f\nzObN7HIzu9PMDpvZX5vZb560zsvN7Pa2/Wtm9uJ19rm77fNAu8+vm9lbzWzHatu6+1Xu/vz19P9Q\nxN1/x93/ZKvteDBRvPMDfeB7wD8ATgf+ELjGzM4HMLM9wH8Gfh84DfgXwIfM7NxpOjOzs4D/C2wD\n/p677wJ+HTgDeNx6DmSNdvRn1VdH372t6luM4e56nfQCbgVe2r5/JnDwpPYf0TjuNPt+G/AVoErW\nceB3gG8C9wL/EbC27TXAjSet+/j2/dnAtcD9wOeBP+lY9/Xtfv+2XfZE4DrgEPA3wMvH1n9/2/d/\nAw4DNwGPS+x+DvB/gPtoPlBfM7af9wKfBo4Cz6P5oP1AO5Z3Av/6xJgAjwc+B/wE+DHwkXa5Ae8G\nDrZttwJPGevjbe375wJ3AW9s1z0A/PaYnWcD/7Udpy+05+TG6Lgeqq8tN+BUewEPBxaBJ7b/99oL\n8R+171/cXlg7ptz//wPeuso6DnyK5mng0a2DXNS2Zc5/NXANsAN4CvD9jnWvA86iefLY0Trpb9M8\nAT2jdbZfaNd/f/uhcGHbfhVwdWDzo9sPiFcCg9bBLhjbz0+AZ9M8bS60jv9JYBdwPvAN4JJ2/Q8D\nfzC27nPa5b8BfLEdFwOeBOwe62Pc+YfAH7e2vAA4Bpw5Nk5XA9uBJ7djUJzz67F/DDMb0FzgV7r7\n1wHcfURzoX4IWGr/vs7dj07Zzdk0d6LVeLu73+fu3wU+C1ywiu094KXAH7n7UXe/DbiyY9V/5+6H\n3P048ELgDnf/S3cfuvuXgI8BvzW2/sfd/fPuPqQZm8iOVwF/5e4fdvcVd7/H3W8Za/+ku/9vd6+B\nFeAfA//K3Q+7+x3AO4FXt+uuAI8BHunui+5+49jyXTRPK+but7t7NJYrwB+3tnwaOAL8nbFxeou7\nH3P3rwXj9JBHzt9iZhXwQWAZuHRs+fOAP6W5m8zRzA38hZn9jBOY2aPN7MiJV9DVPcDuCUz64dj7\nY8DOVdZ/GD+dvzjBnR3rjbc/Bnimmd134kXjxI+Ywo7zgG8n9o33ew7NWI7bdyewp33/L2nu7J83\ns6+a2T8FcPf/CfwHmq8id5vZfjM7LejvnvYD62Tbu8Zp/H0xyPkBMzPgcppH/pe6+8pY8wXADe5+\ns7vX7v4Fmu++zzt5P+7+XXffeeIVdPdXwEvaD5uN5Ec0j7rnjS17dMd642Gc3wM+5+5njL12uvvv\nTtH/98gnLMf7/TE/vbuP2/p9AHf/obu/1t0fCbwO+E8n5Ex3//fu/neBXwB+nmYCdi2cGKdHjS07\nL1j3IY2cv+G9NN8f/2H7ODzOF4BfOnGnN7OnA79EM9k0De+iUQ2uNLPHtPvcY2bvMrOnTrnPE19P\nPg5cZmbbzezJwMWrbPYp4OfN7NVmNmhfv2hmT5rChKuA57WyaN/Mzu56Ohqz9Rrg35jZrnYcfp9G\nVcHMXmZmJ5zzXpoPjlFr2zPbr2dHaeZmRmsxsmOcngj8k7Uf7oOf4p2/vfBeR3OH/+HYY/urANz9\nc8BlwEfN7DDNd+J/6+6fifaZ4e6HgL9Pc+e7qd3n9TQTYt9a5+FcSvNo+0OaCbC/XMWWw8DzgVcA\nP2i3ewcwv9aO27mJF9DMsB8CbgGelmzyz2gc+DvAjTRzKVe0bb9IMzZHaNSL33P3v6X50HwfzQfC\nnTRfof5srbbSjNPpNMf7QZoJxqUp9vOg5oR8JESxmNk7gEe4+2pPSg8pir/zi/Iwsyea2VOt4ULg\nEuATW23XrNmyX3kJsYXsonnUfyTNj4DeSfObg6LQY78QhaLHfiEKRc4vRKHI+YUoFDm/EIUi5xei\nUOT8QhSKnF+IQpHzC1Eocn4hCkXOL0ShyPmFKBQ5vxCFIucXolDk/EIUyrri+c3sIuA9NPns/8Ld\n356t3+v1vN/v7tLdki27w45nHY7c5PlcI4mNqfVJX6kV4Xbx57xZYmNdx22pGd39VUne0ia9XtSW\ndOaZjcF4THEqVyU9odNcq2v3idFoSF3XEx3d1PH8bf7zb9CUmrqLJtHlK9s86J3Mz8/7ox65p7Nt\nZRRXcBqNui+K0Wgx3Ca5ZsnKFfR6cVs/aLM6HsNRYsgwOUW93lzYZlXcX78K7O9tj/fXS2w8Epcn\nGCUX9GDQnbx4fiG2YzS8L25bivsaDuP0e3XgQFZN6f3JZj7KPuiTCzJsi+/NFuQtveeeg6ysLE90\ncOt57L8Q+Ja7f8fdl2kqoLxoHfsTQsyQ9Tj/Hh5Y7OAuflp0QQhxirOe7/xdjxY/89xjZvuAfQD9\nnoqzCnGqsJ47/108sNLJo2hyvz8Ad9/v7nvdfW8l5xfilGE9zv8F4Alm9lgzm6Mp/HDtxpglhNhs\npn7sd/ehmV0K/A8aqe8Kd/9quk3tLC4ud7bVidRnwSz7IHmSqHuZfDWdjFaPhp3LPSu7F82+A4nC\nRqZ81sNuOwCiQ+v1toXbpM9jiR2VxYV95ud3dC5fWBjEdtSxEnDv4uGwbZgoVr3gGqkSpaJOpMNG\n5Ar66mcyZtjEaNjd36he6VzeGBLtcHL1bl06f1v6+NPr2YcQYmvQL/yEKBQ5vxCFIucXolDk/EIU\nipxfiEKZbZVeq7DBQmfTfPIxND/olod81C0bAlRB9CDA0nIsoSQqD1H8zjAJ3hnVWaRaLMtUiR3T\nxKTYyvG4MTYxHZCqSmS7fnfbMLEjC9AZetwWRRACsfKVjGEWvWmJdFslMmAS+8Vg0N1fvRJf31EM\n0VrC9HTnF6JQ5PxCFIqcX4hCkfMLUShyfiEKZaaz/VWvx86dZwet8Qz8rp3dAR/333dv3FcVH9p8\nIi24ZUPSPYNd1/Gs7OJyPLu9shTPYGd5yKpkxjnKuZfm4kvSeKWz/RwL2+rl7nPm/e6AH4DllZ/E\nffXi85KNRx1Ms2eBNp7M9vcHcYBUP1E/8PgaqUfd18hccL1BrB5kORJ/Zt2J1xRCPKSQ8wtRKHJ+\nIQpFzi9Eocj5hSgUOb8QhTJbqc+M+UFQxqkfSyhHjh/pXL6SlpKKpcNeL5ZdLJFXqn63BLSyEktD\ng7k4L90gyau3vBjLaJYEC42CoCX3OO9fNR/n4rMkAsaTHHO+3H3OjmWBTkn0S5KSkTrZJ9Zd+cg9\nsT0Jj6ksye9XxfuMzgvAaBjIkWnZqSiyZ/LQHt35hSgUOb8QhSLnF6JQ5PxCFIqcX4hCkfMLUSjr\nkvrM7A7gME0WuKG7783W7/V6nHXa6Z1tx4dZ9Fv38kzU8EBSBDhje3ceQYBAVQRgOZBe+v2khFMi\nvSwnNs57t0QFUC/FYxXJXtlYjZKqUFVybHVybIvDbqlyWMeSYz9JJuijTM6LbTQCuSzL4Rc3MUwk\n2ETxXcXGIIdfeoF3XztryeG3ETr/r7j7jzdgP0KIGaLHfiEKZb3O78BnzOyLZrZvIwwSQsyG9T72\nP9vdf2Bm5wLXmdnX3f2G8RXaD4V9APPz8XdtIcRsWded391/0P49CHwCuLBjnf3uvtfd9w4G8SSW\nEGK2TO38ZrbDzHadeA88H7htowwTQmwu63nsfzjwiba0UR/4kLv/92wDM6MKHv2Xjx+ON+x1R9pV\nSeLJOhFsqiqWXYajOKnmcpDcs0qiyqyK2wbzcVTfjkGc6PLQ3fFYRRFpeXReLL/hyTgm+xx6IDkO\nF5OukijNRPfKEm6aRceW6HLJMY+mLfMVX3JYUH/N6tg9PdrhGhJ4Tu387v4d4GnTbi+E2Fok9QlR\nKHJ+IQpFzi9Eocj5hSgUOb8QhTLTBJ6j4Yj7Dt3T2ba0EktAy4HMMzcfy2H9+VhbWVyJJaUVYtlr\nNAxku6RWXOWJxpMkdcxq/A2HWfLJblusl3zOZ4kik2i6qhf/aCuSvaok7KyXSWyBdLhamwWSWJXI\ncpkMWAWyM0CVXDvDKDQVGAbHbYlsF0p9awjr051fiEKR8wtRKHJ+IQpFzi9Eocj5hSiUmc72u48Y\nLnYHpQw9LqE1t3BG5/Jt289OOjsaNh1bvD/eroqHpB8MVy8JMFpJZnk9mbVfWkzy9I3i/nqDbhvn\ntsXKSJaXbpgoEp6oJnPbdnUu7y/ECkE/yeN49Gh8PpeT8bBgBj5SAQBImuqk7Fk21Z5pC1EptVGd\nBAqFt22V6xJCrIKcX4hCkfMLUShyfiEKRc4vRKHI+YUolNkG9njNkShgZS6WKLb3A3klkQfDwAdg\nftv2sG2ZWG4ajbr3WY8S+ScLmkna6mEmKSWBJ/3uHIm9uThtunuWOy9uGyV1vjxo68/FeQvnk+zO\ni0uxZBqH2iS5C5PjWknOZz8J4vIsT2LSFgXwWHbtRGXIJPUJIVZDzi9Eocj5hSgUOb8QhSLnF6JQ\n5PxCFMqqUp+ZXQG8EDjo7k9pl50FfAQ4H7gDeLm737vqvqio+t3RZaefszPcbtdCt0xy/6H7wm2W\nVmJppZeW60rysAVtPowlxyqR0epEKhtl8mESedhb6B7HOigJBTCYj6VPy/IFjuK8i6Ol7ii8Y/fG\nY7WY3IqW4zR9kOTjq6McipZIYknewuFKPB6WXFe9RCIMrU9srAMbfYNz+L0fuOikZW8Crnf3JwDX\nt/8LIR5ErOr87n4DcOikxS8CrmzfXwm8eIPtEkJsMtN+53+4ux8AaP+eu3EmCSFmwab/vNfM9gH7\nAPr97IeYQohZMu2d/24z2w3Q/j0Yreju+919r7vv7fVmGkoghEiY1vmvBS5u318MfHJjzBFCzIpJ\npL4PA88FzjGzu4C3AG8HrjGzS4DvAi+bpDOr5ljYvqezbWFXHO115Oj3uxu2xVFg2+MgNhYPx3LT\nKJHthoE0N0iyMw6SaK5MNiIpXVXNJUkw+0HkYZZcsh9fBnPb4vMyTCIP66C0ma/E95tRL5bKMvsz\ndcvD1kR6yyS2OtMcY7L4vEiFzcp1WbDHtArZSazq/O7+yqDp1ybvRghxqqFf+AlRKHJ+IQpFzi9E\nocj5hSgUOb8QhTLbX91YDVV3JNiRY3G9uFFQE+7cs8+Mu1rurgkIcORQnKRzuBxLfZFgUyVSmSWR\ne3USMWdVLOcN5rvr4AFUoVyWSWVJcslBHPG3sD3e57HD3RGXo0Qe7CXRipmEZdmxBdt5Vgcv+zFa\nIvVliVDrUSJIBhF/lkifvbWE70XdrnsPQogHJXJ+IQpFzi9Eocj5hSgUOb8QhSLnF6JQZir1GU7V\n65bSTttxRrjdwhlndy7f5bFs9MND94dtw+W47hvEUo5592flMJFxlpZi6bBOarFVc3Hik8F8HLJY\n9dZemy6LVBsm4Wi9QRzx15/vHuOVxSTpZyJ99ufjvrD4OhgF0YWjKWrnQZ6ks8rupYkMOKy77e9l\n+maSEHRSdOcXolDk/EIUipxfiEKR8wtRKHJ+IQplprP9Va/H9tNP62zb1psPt/vJke4Z2yzvnxPv\nr9+LZ15XshJaUTBFFuyRzLKbJYEsSZ6+cEYfqKKZ6ipWJJaX4qCqo8fi2fn5bXGA0fy27rJh2Yx+\nlPcPwJfj7Xpz8TjWYa675NK3LJdgrN5YEmxTJTP3/SCJ3yi5Fj1QnuKchR02TbymEOIhhZxfiEKR\n8wtRKHJ+IQpFzi9Eocj5hSiUScp1XQG8EDjo7k9pl10GvBb4Ubvam93906vtazgccs/dP+5uOzMO\n7Jnb1h3YM5w/PdxmJZFWFrbFfSWp81g81p37b7gU5wT0LE9fL5Yq5+bi4B3PykkFUk8mAZnFEluv\nSspTJcEqHlRk7s/FEuzKKB7HOgh+AajqOAgqCsQxTypGZ4E9nkl9WX6/NdTRmgAfBXasIbffJHf+\n9wMXdSx/t7tf0L5WdXwhxKnFqs7v7jcAh2ZgixBihqznO/+lZnarmV1hZnEObSHEKcm0zv9e4HHA\nBcAB4J3Rima2z8xuNrObs592CiFmy1TO7+53u/vImyoF7wMuTNbd7+573X1vL5gEEkLMnqmc38x2\nj/37EuC2jTFHCDErJpH6Pgw8FzjHzO4C3gI818wuoKkBdQfwukk689pZOdb96H9/dW+43Wm9bknv\n6PFYajq2GEeq9RPZJcub1oty+K0k8krSlyVPQpaUrkrVnLq70TJZLsnTR1LWavHYkbBtudd9bNsH\n8TFXgzi3Yr0cy2ijYbxdNQgi9DzeZpTkZDRLojSze2mSc68OTkAQ7Ne0BdeiZXn/TmJV53f3V3Ys\nvnziHoQQpyT6hZ8QhSLnF6JQ5PxCFIqcX4hCkfMLUSgzTeDpXrOy3C3B1YeTSLX6zs7lxw99P9zm\n6OFYhkryPTKf6Cu9IGrLR0k0V5akcxB/9i6uHA7bqlEcetjvd/fnw6PhNsvH419eDpfiaDqvYtlu\nfr7bjsVRkhA0iWS0YSzdZokurdct9fUTRaxOSrZlEX9h8lSgTvRZC665XpJINE4MO7nUpzu/EIUi\n5xeiUOT8QhSKnF+IQpHzC1Eocn4hCmWmUh/uWN0ty9goiXA71i17HR7GCR8z2eV4EvE3TKS5Oqhp\nN8qSSw52hG29QZzMcvH4/WGbJ3X3BkGTBdF+ANu2d9fVA6iIJcJjSTSjzXcf27bkfuOjOGKumktq\n/C3FSTXrIIFMPxn7QRCRCDBMk3SGTWTBdr1A6stEu+EaEnVG6M4vRKHI+YUoFDm/EIUi5xeiUOT8\nQhTKbGf7EzwxxRZ2dS4/s7893GZxMVYCholKUNdJbrdhENgT5FMDsGRWud+LA3QGSdvxYZKPj+62\nXdu7xxCgn9wClpfiQBxPcuetBOrCYBAH79R13NdgPtkuOC9ZW3QuIQ4GAtIpfU/b4l32gvH3RKFJ\n5YMJ0Z1fiEKR8wtRKHJ+IQpFzi9Eocj5hSgUOb8QhTJJua7zgA8AjwBqYL+7v8fMzgI+ApxPU7Lr\n5e4e19wCwPEgP9ookTV6g23B3mLqUSznWRIyMRomQSJB3jTrJ3JeIlEtD2Npa3kpDqgZDuPP7MFC\nIBEm0lCmGnkSINVLchAOl7vHf2hJoFNiSJWOcRxYtRxcB17H59ksDuzp9WKXGYV59eKSXAB1HWl9\nmZw3m8CeIfBGd38S8Czg9Wb2ZOBNwPXu/gTg+vZ/IcSDhFWd390PuPuX2veHgduBPcCLgCvb1a4E\nXrxZRgohNp41fec3s/OBpwM3AQ939wPQfEAA5260cUKIzWPin/ea2U7gY8Ab3P3+SUsBm9k+YB9A\nL/vZpBBipkx057dmBuRjwFXu/vF28d1mtrtt3w0c7NrW3fe7+15331tVcn4hThVWdX5rbvGXA7e7\n+7vGmq4FLm7fXwx8cuPNE0JsFpM89j8beDXwFTO7pV32ZuDtwDVmdgnwXeBlE/UYyBfmsVyzeOSe\nzuXLSVmlrISTJzJJXWelmoKySknkng2Sr0dJDrz5RNpaWYmj6QbRVytPSj8lMpQRb9cPJFiAXnA+\nl47dF++vn/SVlPKqBkn5skG3pDdajq83kmugl4RA1pbkNEzC+mIZMMl3uAE5/FZ1fne/kTiX4K+t\n2wIhxJagX/gJUShyfiEKRc4vRKHI+YUoFDm/EIUy8wSekahhHktzS4vdskxQ5QjIpZAqib6qkpJR\nbt1SVC+J3Ov34yHuJZLjcJSU5EraVoLyVH48HqwdC0k0XRIB2e/HEttC1X3cwyqJZEyOy5MItyro\nC2BuoTvJ67BOSrYNYxmwHiVyZBLxR3J9R4eWjX18lU6O7vxCFIqcX4hCkfMLUShyfiEKRc4vRKHI\n+YUolJlKfU6cdtAS2ctH3dJLnSSXrJI2RnHyxqw+ms11R9pVgzjhoydyDYF0CFBFBdyAwUIc8dcb\ndEtb/SSXQt9iaSuJfSOO94Kq3z0mmbw5qJKxT/rK4tuqfrcM2+vH0lsm9Y1W4oi/vsXSZ6+Kr5GR\nd1+PWfTpRqA7vxCFIucXolDk/EIUipxfiEKR8wtRKDMP7HHvni3NZsWjIJ0s91ySDi5UD1azoz/o\nnjnOZubrpK/RSjzjzJQ52iJT+r1MTUly+CXj2EvCS0bD4JwlfZEEXGXnOpvvH0abZcOblTYLrl+A\nehjnVszKttV1d3+j5BrYCCVAd34hCkXOL0ShyPmFKBQ5vxCFIucXolDk/EIUyqpSn5mdB3wAeARN\n6rD97v4eM7sMeC3wo3bVN7v7p9OdueOBnDNKpZzuz6heJrElwRk+TMox9eLgjLm57uCMKpFdRnUm\n9SUBRsk+q6Qs1GjpaOfyQHkDwJKxz6TKeinebjkKkMqkskzeTC4PSxqj6y0LJMuSQ2Zlt7yOpdvR\nKAtMCtqy8QjP2eQS4CQ6/xB4o7t/ycx2AV80s+vatne7+59N3JsQ4pRhklp9B4AD7fvDZnY7sGez\nDRNCbC5r+s5vZucDTwduahddama3mtkVZnbmBtsmhNhEJnZ+M9sJfAx4g7vfD7wXeBxwAc2TwTuD\n7faZ2c1mdnOd/HxTCDFbJnJ+MxvQOP5V7v5xAHe/291H3vzo+n3AhV3buvt+d9/r7nurSuKCEKcK\nq3qjmRlwOXC7u79rbPnusdVeAty28eYJITaLSWb7nw28GviKmd3SLnsz8Eozu4BGW7gDeN2qezLD\nwoipJHwsibKKyGSXrJRXFj22vHike5ulTOqL9zdMpL5po/qm2SyT+lJJbJpIzEmNOrmn5BpIJcJA\nBrQsXDHLu5jcLi3JG5lH4XX3l12nG8Eks/030m1drukLIU5p9CVciEKR8wtRKHJ+IQpFzi9Eocj5\nhSiUmSfwDMnUvEDySKPRhrHUl3U1yhJuHjsctGSJFqdj+t9Cdh9dJpWlA5I0ZiW0ppFns22yH4il\nYxzsczoBEzyT87LEn9k1EsjBdVY6LtxZuMnPoDu/EIUi5xeiUOT8QhSKnF+IQpHzC1Eocn4hCmW2\nUp87dR3U6ksTeEbCRiKt1Fn4VdyUyzVr398UCmazXRZYluVFCKLVsoizaYWvKjEyPJ+ZPJtYQSax\nJZJYHPGXRDJOI1NCWmtwGqkvPS9RktE1mK47vxCFIucXolDk/EIUipxfiEKR8wtRKHJ+IQpl5lF9\nkYySRoh5d1tVxUkYewvzmRVJU/x5GNleJ/JVJmFWuRAYt6TSYrf9WTLILAFmVmohk6/Mohp5MVld\nB0vqE7qvPXFmJpdaUqsvO5+pRJiMY3TcntYgjM5z3M/J6M4vRKHI+YUoFDm/EIUi5xeiUOT8QhTK\nqrP9ZrYA3ADMt+t/1N3fYmaPBa4GzgK+BLza3ZP6Uw3hDHcyyx7OhiYzm3VvukAQDwKPACxQFzwr\nW5UFH2UqQdiy2oxuNMs+TWDJKn2lwULdZDP6aVdpibXknKVludZuSDoe2XZZY6SAZSrGBlTymuTs\nLQG/6u5PoynHfZGZPQt4B/Bud38CcC9wyfrNEULMilWd3xtOVKgctC8HfhX4aLv8SuDFm2KhEGJT\nmOi5zcx6bYXeg8B1wLeB+9z9RJ7ru4A9m2OiEGIzmMj53X3k7hcAjwIuBJ7UtVrXtma2z8xuNrOb\ns+97QojZsqYZG3e/D/hfwLOAM8zsxITho4AfBNvsd/e97r43zUAjhJgpq3qjmT3MzM5o328Dngfc\nDnwW+K12tYuBT26WkUKIjWeSwJ7dwJXWaCYVcI27f8rMvgZcbWZvA/4auHySDkeBzJYoc4QlqJIA\njEwLyQJxRqNYNqqCiJosKCkLwslkwOm1nLVvlwXbpEM8Re7CzLo00CnLrZgG/UR2TBe8k45WMliJ\nieE4poFCGyD1rer87n4r8PSO5d+h+f4vhHgQoi/hQhSKnF+IQpHzC1Eocn4hCkXOL0ShWJbbbcM7\nM/sRcGf77znAj2fWeYzseCCy44E82Ox4jLs/bJIdztT5H9Cx2c3uvndLOpcdskN26LFfiFKR8wtR\nKFvp/Pu3sO9xZMcDkR0P5CFrx5Z95xdCbC167BeiULbE+c3sIjP7GzP7lpm9aStsaO24w8y+Yma3\nmNnNM+z3CjM7aGa3jS07y8yuM7Nvtn/P3CI7LjOz77djcouZvWAGdpxnZp81s9vN7Ktm9nvt8pmO\nSWLHTMfEzBbM7PNm9uXWjre2yx9rZje14/ERM5tbV0fuPtMX0KNJA/ZzwBzwZeDJs7ajteUO4Jwt\n6PeXgWcAt40t+1PgTe37NwHv2CI7LgP++YzHYzfwjPb9LuAbwJNnPSaJHTMdE5q44Z3t+wFwE00C\nnWuAV7TL/xz43fX0sxV3/guBb7n7d7xJ9X018KItsGPLcPcbgEMnLX4RTSJUmFFC1MCOmePuB9z9\nS+37wzTJYvYw4zFJ7Jgp3rDpSXO3wvn3AN8b+38rk3868Bkz+6KZ7dsiG07wcHc/AM1FCJy7hbZc\nama3tl8LNv3rxzhmdj5N/oib2MIxOckOmPGYzCJp7lY4f1d6kq2SHJ7t7s8AfhN4vZn98hbZcSrx\nXuBxNDUaDgDvnFXHZrYT+BjwBne/f1b9TmDHzMfE15E0d1K2wvnvAs4b+z9M/rnZuPsP2r8HgU+w\ntZmJ7jaz3QDt34NbYYS7391eeDXwPmY0JmY2oHG4q9z94+3imY9Jlx1bNSZt32tOmjspW+H8XwCe\n0M5czgGvAK6dtRFmtsPMdp14DzwfuC3falO5liYRKmxhQtQTztbyEmYwJtYkq7scuN3d3zXWNNMx\nieyY9ZjMLGnurGYwT5rNfAHNTOq3gT/YIht+jkZp+DLw1VnaAXyY5vFxheZJ6BLgbOB64Jvt37O2\nyI4PAl/f3bqkAAAAZElEQVQBbqVxvt0zsOM5NI+wtwK3tK8XzHpMEjtmOibAU2mS4t5K80HzR2PX\n7OeBbwH/BZhfTz/6hZ8QhaJf+AlRKHJ+IQpFzi9Eocj5hSgUOb8QhSLnF6JQ5PxCFIqcX4hC+f8i\ngMtA+CM54gAAAABJRU5ErkJggg==\n",
      "text/plain": [
       "<matplotlib.figure.Figure at 0x7f2bb4275518>"
>>>>>>> 0c1bb3b8d80e9b1251a89528b0105a1fb1e9b431
      ]
     },
     "metadata": {},
     "output_type": "display_data"
    },
    {
     "data": {
<<<<<<< HEAD
      "image/png": "iVBORw0KGgoAAAANSUhEUgAAAP8AAAEVCAYAAAAvoDOaAAAABHNCSVQICAgIfAhkiAAAAAlwSFlz\nAAALEgAACxIB0t1+/AAAH39JREFUeJztnXuQZHd13z+ne3reo12tXqyFwoKsYBTHFmRLpgoH83Cw\noJySKBsKxUXkhLBUjBIrIZUoJA5KJZXgB1CkksJeIhnhkgUyj0JF4YeiAin6IwIhC0mgxAhZgkWr\nXUmr3Z1Xz0x3n/zRd8Xs6p4zPTM7PYt+30/V1HTf0797T9++p++9v2+fc8zdEUKUR2O7HRBCbA8K\nfiEKRcEvRKEo+IUoFAW/EIWi4BeiUBT8Yl2Y2a+b2T3bsF03s58c9nZfzCj4twAzGzOzG83sCTOb\nNbO/NLO3rrLvqQ7muVV/v7WJ7X3KzJar9RwxszvM7KdOz7sRL1YU/FvDCPAD4BeAHcBvAbeZ2Z5T\nXrfT3aerv/+0yW3+jrtPAxcCPwRu3OT6zgjMbGS7fXixouDfAtx93t1vcPfH3b3n7l8G/hr4O0PY\n9iJwG3DZiWVm1jCzf19diRw2s0+b2Y5V9j8xs6fM7JiZ3W1mf2uV7Rwzu93MjpvZ14GLo22b2c1m\n9oHq8YXV1c1vVM9/sroqser5e83s0WrZ7Wb2E6vW42b2fjP7LvDdmu38vJn9wMzeuJl9VToK/iFg\nZhcAfxP49immJ8zsgJn9oZmde5q2NQVcDTy6avGvV39vBF4BTAP/fZX9T4FLgPOB+4FbVtn+B9AG\ndgP/uPqLuAt4Q/X4F4DHqv8Arwf+t7u7mb0J+K/AO6v1PgF85pR1XQX8HHDpKe/vl4BbgV9x968m\nvoi1cHf9beEf0AL+F/AHq5ZNA3vp3x5cAHwO+PNNbONT9AP0KNCjf5XxM6vsdwK/ser5K4EVYKRm\nXTsBp3+70qxe91Or7P8FuCfw4+LKhwbw+8D7gAOV7WbgX1aPb6R/m7J6f6wAe6rnDrzplHU78G/p\nf1H87e3+XF8MfzrzbyFm1gD+CFgGrj2x3N3n3P0+d++4+6HK9hYzO6tmHb+2alLwT5PN/Z677wT2\nAIv0A/wEP0E/aE7wBNUXj5k1zezDZvY9MzsOPF695lzgPH40f7F6bC3u/j1gjv4tx98Fvgw8aWav\npH8FcFedP+4+BzxLf77iBKu3eYLrgNvc/aHIBzE4Cv4torq3vZH+mf1X3H0lefmJ1Ep7gcH9Fv/R\npOBbT7XXvP77wG8CHzeziWrxk8DLVr3sbwAd4BDwD4ArgV+kf7bfs8qXp6vXXXTK2Iy7gF8FRt39\nh9XzfwicDTxQ5091q3IO/YnK599KzbrfAVxlZtet4YMYAAX/1vEJ4FXA3/f+JNzzmNnPmdkrq4m4\nc4D/BnzN3Y+djg27+x30A2xftehW4F+Y2cvNbJr+pftn3b0DzABL9M+8k5XtxHq6wBeAG8xs0swu\nBa5ZY/N30b+Subt6/jXgn9G/VehWy/4Y+EdmdpmZjVXbvNfdH19j3U8Cbwb++YmJRLFxFPxbgJm9\njP797mXAU6su23+teskrgD8DZoGH6Qff1afZjd8F/nUVXDfRv/24m/58QJt+QAJ8mv4l+A+B7wD/\n55T1XEv/nvwp+nMLf7jGdu+i/4VyIvjvof+lcuI57n4nffnz88BB+nMF7xrkTVVXNm8G/o2Z/ZNB\nxoh6rJpMEUIUhs78QhSKgl+IQlHwC1EoCn4hCkXBL0ShKPiFKBQFvxCFouAXolAU/EIUioJfiEJR\n8AtRKAp+IQpFwS9EoSj4hSgUBb8QhaLgF6JQFPxCFMqmuqGY2RXAx+mXeP6f7v7h7PWNRsObzWb9\nul5Yu/JHtka9LVoXwEgzfmuNZvyd12wk34cW+LgF1ZDce4ktHRgsjgeltmRTyUeWfJ5b4McGdv+G\nK1hFx8BmCHzp9bJjoH7MysoKnW53ICc3XMbLzJrAXwF/DzgAfAO42t2/E41ptVp+ztn1vSmaQYAD\njI1N1C6f3vmCStfPc+6uc0LbzMxUaJuemAxtzWa9j93n61K+EOslB3Ri63biYr+dbnxQdLv14zor\nnXDM8spyaEuPjuSLsmn1Nu/F+yryHaCTBkJogmBznW7sR7ynoJG8Zwvec5/YyV6w/5eW2uGY9tJS\n7fK//v4BFtvtgYJ/M5f9lwOPuvtj7r5Mv+PKlZtYnxBiiGwm+C/k5MYKBzi56YIQ4gxmM/f8dZcW\nL7i2MbN9VPXjs0smIcRw2Uw0HuDkTi4vpd9U4STcfb+773X3vQp+Ic4cNhON3wAuqbrAjNJvunD7\n6XFLCLHVbPiy3907ZnYt8Of0pb6b3P3UFtSnYNgGpJJonjSbXR1pxW9tfHw8tE1OxUrAaCuQFpO3\nFAgE1bDYmMpeycw3gUTYS6TDzBbN2gNYI5ZaY1k0nmVf7iQz+sl77iaz/dE42+D+6GZ+JP53E4Vm\nqb1Yu3x2Nu7e9sxzR2uXrye+NqXzu/tXgK9sZh1CiO1BN+FCFIqCX4hCUfALUSgKfiEKRcEvRKFs\narZ/vRhxAo9nKSSBetFIpLJGInlk33iWZApGtmx9zcyPRCnLklWaia0b7seNJRhZkoiTKGJEqxwb\nixOnxiYTWTF5z71kH1vwvjNBrNeLU3syCday/bES78ejx4/ULl9cnItXGO2qdSjpOvMLUSgKfiEK\nRcEvRKEo+IUoFAW/EIUy1Nl+jHg20pMZ2yi5JE2aWcOP0BRP2Ta83o+8tNPGHEmqmm2sdl6mEKws\nhLa5p58ObfOz8bjR8fpZ/R0vuSAcM3FWXJat0Yg/l5GsRFbwmfWSMY1mK7SRJVWlkkQ82x8pU9kh\n0Ay2tZ60OZ35hSgUBb8QhaLgF6JQFPxCFIqCX4hCUfALUSjDlfqARqBh9XrrT9LJWmtlhYIzGa2Z\nSEChLUv2SBOMsuJzsSkjkh09SVbpzR8PbYtPHwxts0fixJPJXefVLh+bmg7HjE0m3ZJGEzk1tCRY\nnFW1sb47pHJedkA2goSx0VYsObaCrDBJfUKINVHwC1EoCn4hCkXBL0ShKPiFKBQFvxCFsimpz8we\nB2aBLtBx970DDKpdnMlvoVqWZr5lWYJZm6xknYHRk2yurJVUtrFG0iYrq11ogS/LnXY4ZuF43BZq\n4Whs68zXt5kCWG7Vy3ZLx2N5cOWsWAZstWKbjcSy3Uiwj3tJFmlapy85XXpyLm0kBRsjyTrNCN1A\n27tTOR06/xvd/ZnTsB4hxBDRZb8QhbLZ4HfgL8zsm2a273Q4JIQYDpu97H+duz9pZucDd5jZ/3X3\nu1e/oPpS2AfQTGriCyGGy6bO/O7+ZPX/MPBF4PKa1+x3973uvjcrdyWEGC4bjkYzmzKzmROPgbcA\nD58ux4QQW8tmLvsvAL5YyWYjwB+7+59lA4y4fVWS1LchVcMzTSaxZTLPUrc+a6uRZvXFbmRaZaJE\nYVmfr8DHpeOz4ZD5I/XtogDac7FEGG0LoLNQL+ktz8VS33IiHY5PT4W2kVwTq1+cfGapOpucLy3R\nq93ifRVJz0mp0NC2nmTQDQe/uz8G/OxGxwshthfdhAtRKAp+IQpFwS9EoSj4hSgUBb8QhTLUAp5m\nlvzKbyMVK5PstmRUtqXsd0gWjPSkf5sn8k/Sfo6excZuNq5dL6UtHHk2HDN/NC7g2e0lBU2TX2z2\neiu1y5cWY6mvvTAf2qZW4j5+NhofxhZIepkSnO1fgt5/AL1MPtyAtJiN6aXpooOhM78QhaLgF6JQ\nFPxCFIqCX4hCUfALUShDb9cVJj8kk5fRmKiNV2VNLBurfxalJEcqAKyhYSTGNPs5mEkHaM/WJ/As\nPnc0HNNZilt5jc/Es+yt8bHQ5t36dXaXk7p/SdJPeyFOMBqbnAhtraS+YkR2fPSSD62RbCtLXMPr\nk36yepIWHiCDH9s68wtRKAp+IQpFwS9EoSj4hSgUBb8QhaLgF6JQhi71ESSKRAkYABbIF6mo0Ytr\npvWSZJVMXglbaCUST95aK0tMitfZacdy2fyx52qXz87GMpq1xkPb1Hnnh7bJmbiF1vLxej/mjtQv\nB1hKfFxMko8mk/p+jfFW7fJm2j4rNJFV1vNMu+0mn3Ug2zWT42qkGcTEOlRsnfmFKBQFvxCFouAX\nolAU/EIUioJfiEJR8AtRKGtKfWZ2E/DLwGF3/+lq2S7gs8Ae4HHgne4eazgVTpwV1Us0iqgOXiZr\nZHJNK6k9N5JIQJHk6ImclzUnzaSh3kqcubd4PJa95oPsvU4n3tbEjjhz76xzzwttUzOxRDhn9f4v\nzsVtw7L6fktz8Xtent8R2sbHd9YuT0rxhXI0QCM5X2YZf5mU7YEsndYE3FDNy5MZ5Mz/KeCKU5Zd\nD9zp7pcAd1bPhRA/RqwZ/O5+N3BqJ8crgZurxzcDV51mv4QQW8xG7/kvcPeDANX/+GdgQogzki3/\nea+Z7QP2AYwk99pCiOGy0TP/ITPbDVD9Pxy90N33u/ted9/bUPALccaw0eC/HbimenwN8KXT444Q\nYlgMIvXdCrwBONfMDgAfAj4M3GZm7wG+D7xjkI2ZQXT2DzPmgJFmvZs2Eo+xTOtLTJ5mRQUZidmI\noDhj3xaPW0laVy0+F6uq7fmF2uXN0bjY5vTZ9XJY3xbLaGPj8ZXc8mJ9Uc3RidiP5cVjoW0pKEwK\nsDgX76vxnfWZh2PN+mw/WOOMmBXpTNp8pa23AlMvW2Hc5CsZczJrBr+7Xx2Y3jzwVoQQZxz6hZ8Q\nhaLgF6JQFPxCFIqCX4hCUfALUShDLuBpNAIJrpFk07Va9bZm8qOhXLHLNJnEFmToZVl9aTbXStwj\nbznL3DsW27qBsjiZZO5N7TontLWSPniZ7NUcrx83NjEZjllqxll9nUT6XEkyBVeW6t/b2GickWiW\nHR+xdJsWoc103UDrayZydVO9+oQQG0XBL0ShKPiFKBQFvxCFouAXolAU/EIUytB79YXZTYlCERXB\nbCaZgJngkfXIayRZUY2g6mMvKdJpiXS4vFifgQcwfzzOcFucj3v1NcbqJbaJHXHmXtbrrteN5cj5\n9lJoW1iqH7fSGg3HjE4lMuBsvK+yHn8rx+ttvYlYwmyMJEdP2gwv/qx7Se/IbiD1dTvxmOXl+gKp\nWfbgqejML0ShKPiFKBQFvxCFouAXolAU/EIUylBn+83iZJxWK66pNhLYslZYligBa2gB6zaNJDPA\nnZV4Rnz5eH1rLYCFJHkn83Fsqr5m3ehUPKO/3Itbgz13+NnQdjSZZe9a/ec82Yg/5/FEdVhZiBWO\nxaSV18KxetVkdCbe1sR0nPSTFV7sJW2+ur0k+StcX6wedLv1Ns32CyHWRMEvRKEo+IUoFAW/EIWi\n4BeiUBT8QhTKIO26bgJ+GTjs7j9dLbsBeC/wdPWyD7r7V9Zal3vcvqrXjeWmaEyWY5HaspZGjaQO\nW1CzzhOpbGkuTtCZT9puLS3GEmHWesta9R/psdlYVvzB04dCWycqCgiMjcWS2Hnn76pdvjNp19U5\nGn9oWbuuhbl2bAsk09GzZsIxjaBmJOSdpnNpLt6PnSB5qpskA3kiKw7KIGf+TwFX1Cz/mLtfVv2t\nGfhCiDOLNYPf3e8GjgzBFyHEENnMPf+1Zvagmd1kZmefNo+EEENho8H/CeBi4DLgIPCR6IVmts/M\n7jOz+7L7HiHEcNlQ8Lv7IXfvunsP+CRwefLa/e6+1933Zk02hBDDZUPBb2a7Vz19O/Dw6XFHCDEs\nBpH6bgXeAJxrZgeADwFvMLPLAAceB943yMbMYgkuy0byQEKJlgNYmrkXf+clSh8e1OPrLMWy3OLR\nWOpbSLLiMq2yORnXuhsJpLSlRDZaWFwObb1G7Mf0WXEdvJnpeiltajKu4ddOJNPxpH1Zez6W+tqz\n9eMWjsXty0aT+n42GUuVnrQv86QFWFTfL5MOe+vI3otYM/jd/eqaxTduestCiG1Fv/ATolAU/EIU\nioJfiEJR8AtRKAp+IQplqAU8+1l99dJRlqTU7dYbN5pF1U1aUK104x8iWad+3FIgJ0Eu9S23Y4lt\nNJDKAGZ21WfMAYzN1MtUvaT9lxP74R4X3GwmRVebI/X7sdGI9+/4RCxhLp8VS3OLx+KMv/nF+sKf\nkQQI0E6Ke7ZGk5BJ2nxl0nMkIWctviKbCngKIdZEwS9EoSj4hSgUBb8QhaLgF6JQFPxCFMpQpT7w\nVJ6LWAlku2g5wHInkfoSOSTqgdZfaX322HzSV29+dj60WSPe/ZMzO0Lb9M5Y6mu06iWlkXac+TY1\nlmSxteIinRNjcYYeoXwVD2kk2xqfru9BCDA6Ffs/F2T8tefjjMr2XPyZTSR+jCQyZrcTZyx2o52S\nrC+SHC3JwnzB6gd+pRDiRYWCX4hCUfALUSgKfiEKRcEvRKEMebY/q+EXj4mSFRoWf3dllYJbzfht\nWzBLDbA0Xz8LvHgsSd5ZTurSTe+MbTNxIstIK37fs4v1s9jzyWx/YyRO0JlIkm3GguQdAILEk64n\nbdmS5JfGaKwEtKbiGfjmaH3Sz3KQ8APQnl+IbYvxfpxoxfsqS7cZadWrJmNJW7axYEwj61N36msH\nfqUQ4kWFgl+IQlHwC1EoCn4hCkXBL0ShKPiFKJRB2nVdBHwaeAnQA/a7+8fNbBfwWWAP/ZZd73T3\n59ZaX1hjLJEoorpvzUSyazbi7zVL2iplrbfas/Wy0VKSCNJoxjLa+I44eWc0SSBZDmoJAiws1vu/\nlEiOo2NJskpSsy57b70gkeXoc3FCzdJK/L4sKfLoiR9jQWuzTpKMtRxIugCLia05HvvRCepQAnSD\nz7OzEn9mnSBxbT1dvAY583eAD7j7q4DXAu83s0uB64E73f0S4M7quRDix4Q1g9/dD7r7/dXjWeAR\n4ELgSuDm6mU3A1dtlZNCiNPPuu75zWwP8GrgXuACdz8I/S8I4PzT7ZwQYusY+Oe9ZjYNfB64zt2P\n24A/IzSzfcA+gJHs56BCiKEy0JnfzFr0A/8Wd/9CtfiQme2u7LuBw3Vj3X2/u+91973Z7+2FEMNl\nzeC3/in+RuARd//oKtPtwDXV42uAL51+94QQW8Ugl/2vA94NPGRmD1TLPgh8GLjNzN4DfB94x9qr\nslC2ayTS3EhQlyyrV5atLyskt7yYyDzH6+WhbiJRjZ8V19ubSKS+xmh8lbSYZOh5kOk4nWQJjo7G\n2WiNZtJmirhO4rGj9bLowUNPhmOOzMXva3o63lfnzMRS5cRYfWbcSDM+PlaSY2BpPm4NNjYd1xJM\nEhbpBLUol5O2csuBlLqedl1rBr+730Ps+psH3pIQ4oxCv/ATolAU/EIUioJfiEJR8AtRKAp+IQpl\nqAU8zaAZ/Mqvl2Q9eVBUM/2RYVKIc2UhLtC4fPRoaGvP1mekNUbiQosTO84ObVkLKvdYRusExTEB\nGsEPqcayH1hZ0kMrMS0GrbAAnjl8qHb5k089HY6ZXYylrfZy7EcrKUAa/bBsZDwuCNpO3ld7Ls5K\nHJ+KJdORiXh70YHcSKTsVqv+PQ/6y1vQmV+IYlHwC1EoCn4hCkXBL0ShKPiFKBQFvxCFMlSpz4Fu\nlKnkmRRV/x2VZ+7F0mGWtbV4LJZyuoHsNTEzE46ZPCvORhtP5J9ONy4kOjkVby+SvRpJt7jFpVja\nmg+KlgI89+yR0PbMkfparotLsZyXZVsuLMSfy+xcLLGNT9Xv4/FAKgPA4v2R9fhbSiRCS4rNRrJ0\novTRjLItB1f6dOYXolQU/EIUioJfiEJR8AtRKAp+IQplqLP9eDyh20haaEWznlkt4F4ygx213QJo\nz8dJPw2rnyEeTVpaNRvxDLYvxzP6raSGX2t0NLRF5dE9+Z5vJv5PjMdJSzumY9Xh/AteUru83Y7f\n80rSnmopklqAZjJzP9MKlKJ2/J6zY2c5+cyWE0WCkXj/9wKTNbJWafU2W8d0v878QhSKgl+IQlHw\nC1EoCn4hCkXBL0ShKPiFKJQ1pT4zuwj4NPAS+hXd9rv7x83sBuC9wImibB9096/kK3MajXpJL0ti\naAR1yXorcWG39nwsG3ki9fWW4nFdr7cdfSr24/izz4Q2S+rqjbQS+TBpNdUYqR+Xj0n8SOrjtYJt\nAYwGtolkzMhULCta4kfPYv+bQULTYidphZX42F6Ipb7FRCbuJev08eCz8aRV2jrackUMovN3gA+4\n+/1mNgN808zuqGwfc/ff27QXQoihM0ivvoPAwerxrJk9Aly41Y4JIbaWdd3zm9ke4NXAvdWia83s\nQTO7ycziGtVCiDOOgYPfzKaBzwPXuftx4BPAxcBl9K8MPhKM22dm95nZfd1OUgReCDFUBgp+M2vR\nD/xb3P0LAO5+yN273u+o8Ung8rqx7r7f3fe6+95m8vtmIcRwWTMard8C5EbgEXf/6Krlu1e97O3A\nw6ffPSHEVjHIbP/rgHcDD5nZA9WyDwJXm9ll9EvzPQ68b801OXS7QaupROvrBTXOOkmGVS9pydVI\n6rA1klZYEb4Uj+kuxT6SyDXZDVJWjy9c5Tpquw08MJObos8zaSeVtppKpEpPJFNrBO3hEt+7vVgG\nTJIL0zp9neSYc+plzKhNXWUM1zYog8z230P9EZBr+kKIMxrdhAtRKAp+IQpFwS9EoSj4hSgUBb8Q\nhTLcdl3u9AKtpJlIfZEE1MwyzianQ1szKYzYS7K9ekH10UbUgoxcUvKkPZVnkmOyzkbQpqyXtC9L\n15f5n8l2oRIVv+dMjewmGlvP4v0f+Zj5nolllhyn3azwZyJV9ry+IOtSsq9Wgs9zPcl+OvMLUSgK\nfiEKRcEvRKEo+IUoFAW/EIWi4BeiUIYq9ZlZkrmVfA9ZvZtjU3GvuF07zgptO5L+c80gCwzAAheb\nnkh9iUSVFWH0Tiz1WSIRRumAPU8yD5dj/zvLiXy1kry3wP+VTlzsdGUlKaqZyKndRJ7tBPsqyhQF\n6CUya/qZJceOp1mr9dvLthWG0TqyN3XmF6JQFPxCFIqCX4hCUfALUSgKfiEKRcEvRKEMPauv2w16\n9WVKX/AdlWb1jdVnSgGMTccZf1GPOYBGINeMtGLnM+Ul6kHYZwNFOiHUIy3xJJO2emkxyyQzLlhn\ntxP3QuwkfR06iWSayYeh1JdIqd5N+jUm46KsT4CVlbiQ60K7vtjsymIss2ay6KDozC9EoSj4hSgU\nBb8QhaLgF6JQFPxCFMqas/1mNg7cDYxVr/+cu3/IzF4OfAbYBdwPvNvd42nXinimOv4eagRSQLQc\nYCRp4dTI2jsltdai2flsJr2RJHuMpMkeSSuvrA6er78vV1aXbiSpd2iJj9HsfDNI0gJoNOL31UwU\nicboeGhrBTPwef3EOPGrF7WbA3qJWtFux/u4HakVmayT1WQckEHO/EvAm9z9Z+m3477CzF4L/Dbw\nMXe/BHgOeM+mvRFCDI01g9/7zFVPW9WfA28CPlctvxm4aks8FEJsCQPd85tZs+rQexi4A/gecNT9\n+UT2A8CFW+OiEGIrGCj43b3r7pcBLwUuB15V97K6sWa2z8zuM7P7strrQojhsq7Zfnc/CnwNeC2w\n0+z52ZuXAk8GY/a7+15339tMJtOEEMNlzWg0s/PMbGf1eAL4ReAR4KvAr1Yvuwb40lY5KYQ4/QyS\n2LMbuNnMmvS/LG5z9y+b2XeAz5jZfwb+ErhxkA1G6kWzGUshkS2T+vruRusLTWHyTn+dQduwRM4L\nC/+tQZbzk7gY7pNuJgF2Yx89SeyxRHKMZaokGSjs8QW9qDhhtimI24OlUl+yuqzrWdZiLbvjDdaZ\n1fA7HawZ/O7+IPDqmuWP0b//F0L8GKKbcCEKRcEvRKEo+IUoFAW/EIWi4BeiUGyr5YSTNmb2NPBE\n9fRc4JmhbTxGfpyM/DiZHzc/Xubu5w2ywqEG/0kbNrvP3fduy8blh/yQH7rsF6JUFPxCFMp2Bv/+\nbdz2auTHyciPk3nR+rFt9/xCiO1Fl/1CFMq2BL+ZXWFm/8/MHjWz67fDh8qPx83sITN7wMzuG+J2\nbzKzw2b28Kplu8zsDjP7bvX/7G3y4wYz+2G1Tx4ws7cNwY+LzOyrZvaImX3bzH6zWj7UfZL4MdR9\nYmbjZvZ1M/tW5cd/rJa/3MzurfbHZ80s7kk3CO4+1D+gSb8M2CuAUeBbwKXD9qPy5XHg3G3Y7uuB\n1wAPr1r2O8D11ePrgd/eJj9uAP7VkPfHbuA11eMZ4K+AS4e9TxI/hrpP6Oc9T1ePW8C99Avo3Aa8\nq1r++8A/3cx2tuPMfznwqLs/5v1S358BrtwGP7YNd78bOHLK4ivpF0KFIRVEDfwYOu5+0N3vrx7P\n0i8WcyFD3ieJH0PF+2x50dztCP4LgR+ser6dxT8d+Asz+6aZ7dsmH05wgbsfhP5BCJy/jb5ca2YP\nVrcFW377sRoz20O/fsS9bOM+OcUPGPI+GUbR3O0I/rpSLtslObzO3V8DvBV4v5m9fpv8OJP4BHAx\n/R4NB4GPDGvDZjYNfB64zt2PD2u7A/gx9H3imyiaOyjbEfwHgItWPQ+Lf2417v5k9f8w8EW2tzLR\nITPbDVD9P7wdTrj7oerA6wGfZEj7xMxa9APuFnf/QrV46Pukzo/t2ifVttddNHdQtiP4vwFcUs1c\njgLvAm4fthNmNmVmMyceA28BHs5HbSm30y+ECttYEPVEsFW8nSHsE+sXR7wReMTdP7rKNNR9Evkx\n7H0ytKK5w5rBPGU28230Z1K/B/y7bfLhFfSVhm8B3x6mH8Ct9C8fV+hfCb0HOAe4E/hu9X/XNvnx\nR8BDwIP0g2/3EPz4efqXsA8CD1R/bxv2Pkn8GOo+AX6GflHcB+l/0fyHVcfs14FHgT8BxjazHf3C\nT4hC0S/8hCgUBb8QhaLgF6JQFPxCFIqCX4hCUfALUSgKfiEKRcEvRKH8fwZljBNTzASFAAAAAElF\nTkSuQmCC\n",
      "text/plain": [
       "<matplotlib.figure.Figure at 0x7f47957da860>"
=======
      "image/png": "iVBORw0KGgoAAAANSUhEUgAAAP8AAAEVCAYAAAAvoDOaAAAABHNCSVQICAgIfAhkiAAAAAlwSFlz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\n",
      "text/plain": [
       "<matplotlib.figure.Figure at 0x7f2bb423e828>"
>>>>>>> 0c1bb3b8d80e9b1251a89528b0105a1fb1e9b431
      ]
     },
     "metadata": {},
     "output_type": "display_data"
    }
   ],
   "source": [
    "SAMPLE_SIZE = 5\n",
    "\n",
    "for i in rd.sample(range(n_train),SAMPLE_SIZE):\n",
    "    plt.figure()\n",
    "    plt.suptitle('{} - {}'.format(y_train[i], ref[y_train[i]]))\n",
    "    plt.imshow(X_train[i])"
   ]
  },
  {
   "cell_type": "markdown",
   "metadata": {},
   "source": [
    "## Comparing label distributions between sets"
   ]
  },
  {
   "cell_type": "code",
   "execution_count": 6,
   "metadata": {},
   "outputs": [
    {
     "data": {
      "text/html": [
       "<div>\n",
       "<style>\n",
       "    .dataframe thead tr:only-child th {\n",
       "        text-align: right;\n",
       "    }\n",
       "\n",
       "    .dataframe thead th {\n",
       "        text-align: left;\n",
       "    }\n",
       "\n",
       "    .dataframe tbody tr th {\n",
       "        vertical-align: top;\n",
       "    }\n",
       "</style>\n",
       "<table border=\"1\" class=\"dataframe\">\n",
       "  <thead>\n",
       "    <tr style=\"text-align: right;\">\n",
       "      <th></th>\n",
       "      <th>label</th>\n",
       "      <th>training</th>\n",
       "      <th>validation</th>\n",
       "      <th>test</th>\n",
       "    </tr>\n",
       "  </thead>\n",
       "  <tbody>\n",
       "    <tr>\n",
       "      <th>0</th>\n",
       "      <td>Speed limit (20km/h)</td>\n",
       "      <td>0.005173</td>\n",
       "      <td>0.006803</td>\n",
       "      <td>0.004751</td>\n",
       "    </tr>\n",
       "    <tr>\n",
       "      <th>1</th>\n",
       "      <td>Speed limit (30km/h)</td>\n",
       "      <td>0.056898</td>\n",
       "      <td>0.054422</td>\n",
       "      <td>0.057007</td>\n",
       "    </tr>\n",
       "    <tr>\n",
       "      <th>2</th>\n",
       "      <td>Speed limit (50km/h)</td>\n",
       "      <td>0.057760</td>\n",
       "      <td>0.054422</td>\n",
       "      <td>0.059382</td>\n",
       "    </tr>\n",
       "    <tr>\n",
       "      <th>3</th>\n",
       "      <td>Speed limit (60km/h)</td>\n",
       "      <td>0.036208</td>\n",
       "      <td>0.034014</td>\n",
       "      <td>0.035629</td>\n",
       "    </tr>\n",
       "    <tr>\n",
       "      <th>4</th>\n",
       "      <td>Speed limit (70km/h)</td>\n",
       "      <td>0.050864</td>\n",
       "      <td>0.047619</td>\n",
       "      <td>0.052257</td>\n",
       "    </tr>\n",
       "    <tr>\n",
       "      <th>5</th>\n",
       "      <td>Speed limit (80km/h)</td>\n",
       "      <td>0.047415</td>\n",
       "      <td>0.047619</td>\n",
       "      <td>0.049881</td>\n",
       "    </tr>\n",
       "    <tr>\n",
       "      <th>6</th>\n",
       "      <td>End of speed limit (80km/h)</td>\n",
       "      <td>0.010345</td>\n",
       "      <td>0.013605</td>\n",
       "      <td>0.011876</td>\n",
       "    </tr>\n",
       "    <tr>\n",
       "      <th>7</th>\n",
       "      <td>Speed limit (100km/h)</td>\n",
       "      <td>0.037070</td>\n",
       "      <td>0.034014</td>\n",
       "      <td>0.035629</td>\n",
       "    </tr>\n",
       "    <tr>\n",
       "      <th>8</th>\n",
       "      <td>Speed limit (120km/h)</td>\n",
       "      <td>0.036208</td>\n",
       "      <td>0.034014</td>\n",
       "      <td>0.035629</td>\n",
       "    </tr>\n",
       "    <tr>\n",
       "      <th>9</th>\n",
       "      <td>No passing</td>\n",
       "      <td>0.037932</td>\n",
       "      <td>0.034014</td>\n",
       "      <td>0.038005</td>\n",
       "    </tr>\n",
       "    <tr>\n",
       "      <th>10</th>\n",
       "      <td>No passing for vehicles over 3.5 metric tons</td>\n",
       "      <td>0.051726</td>\n",
       "      <td>0.047619</td>\n",
       "      <td>0.052257</td>\n",
       "    </tr>\n",
       "    <tr>\n",
       "      <th>11</th>\n",
       "      <td>Right-of-way at the next intersection</td>\n",
       "      <td>0.033622</td>\n",
       "      <td>0.034014</td>\n",
       "      <td>0.033254</td>\n",
       "    </tr>\n",
       "    <tr>\n",
       "      <th>12</th>\n",
       "      <td>Priority road</td>\n",
       "      <td>0.054312</td>\n",
       "      <td>0.047619</td>\n",
       "      <td>0.054632</td>\n",
       "    </tr>\n",
       "    <tr>\n",
       "      <th>13</th>\n",
       "      <td>Yield</td>\n",
       "      <td>0.055174</td>\n",
       "      <td>0.054422</td>\n",
       "      <td>0.057007</td>\n",
       "    </tr>\n",
       "    <tr>\n",
       "      <th>14</th>\n",
       "      <td>Stop</td>\n",
       "      <td>0.019828</td>\n",
       "      <td>0.020408</td>\n",
       "      <td>0.021378</td>\n",
       "    </tr>\n",
       "    <tr>\n",
       "      <th>15</th>\n",
       "      <td>No vehicles</td>\n",
       "      <td>0.015518</td>\n",
       "      <td>0.020408</td>\n",
       "      <td>0.016627</td>\n",
       "    </tr>\n",
       "    <tr>\n",
       "      <th>16</th>\n",
       "      <td>Vehicles over 3.5 metric tons prohibited</td>\n",
       "      <td>0.010345</td>\n",
       "      <td>0.013605</td>\n",
       "      <td>0.011876</td>\n",
       "    </tr>\n",
       "    <tr>\n",
       "      <th>17</th>\n",
       "      <td>No entry</td>\n",
       "      <td>0.028449</td>\n",
       "      <td>0.027211</td>\n",
       "      <td>0.028504</td>\n",
       "    </tr>\n",
       "    <tr>\n",
       "      <th>18</th>\n",
       "      <td>General caution</td>\n",
       "      <td>0.031035</td>\n",
       "      <td>0.027211</td>\n",
       "      <td>0.030879</td>\n",
       "    </tr>\n",
       "    <tr>\n",
       "      <th>19</th>\n",
       "      <td>Dangerous curve to the left</td>\n",
       "      <td>0.005173</td>\n",
       "      <td>0.006803</td>\n",
       "      <td>0.004751</td>\n",
       "    </tr>\n",
       "    <tr>\n",
       "      <th>20</th>\n",
       "      <td>Dangerous curve to the right</td>\n",
       "      <td>0.008621</td>\n",
       "      <td>0.013605</td>\n",
       "      <td>0.007126</td>\n",
       "    </tr>\n",
       "    <tr>\n",
       "      <th>21</th>\n",
       "      <td>Double curve</td>\n",
       "      <td>0.007759</td>\n",
       "      <td>0.013605</td>\n",
       "      <td>0.007126</td>\n",
       "    </tr>\n",
       "    <tr>\n",
       "      <th>22</th>\n",
       "      <td>Bumpy road</td>\n",
       "      <td>0.009483</td>\n",
       "      <td>0.013605</td>\n",
       "      <td>0.009501</td>\n",
       "    </tr>\n",
       "    <tr>\n",
       "      <th>23</th>\n",
       "      <td>Slippery road</td>\n",
       "      <td>0.012931</td>\n",
       "      <td>0.013605</td>\n",
       "      <td>0.011876</td>\n",
       "    </tr>\n",
       "    <tr>\n",
       "      <th>24</th>\n",
       "      <td>Road narrows on the right</td>\n",
       "      <td>0.006897</td>\n",
       "      <td>0.006803</td>\n",
       "      <td>0.007126</td>\n",
       "    </tr>\n",
       "    <tr>\n",
       "      <th>25</th>\n",
       "      <td>Road work</td>\n",
       "      <td>0.038794</td>\n",
       "      <td>0.034014</td>\n",
       "      <td>0.038005</td>\n",
       "    </tr>\n",
       "    <tr>\n",
       "      <th>26</th>\n",
       "      <td>Traffic signals</td>\n",
       "      <td>0.015518</td>\n",
       "      <td>0.013605</td>\n",
       "      <td>0.014252</td>\n",
       "    </tr>\n",
       "    <tr>\n",
       "      <th>27</th>\n",
       "      <td>Pedestrians</td>\n",
       "      <td>0.006035</td>\n",
       "      <td>0.006803</td>\n",
       "      <td>0.004751</td>\n",
       "    </tr>\n",
       "    <tr>\n",
       "      <th>28</th>\n",
       "      <td>Children crossing</td>\n",
       "      <td>0.013793</td>\n",
       "      <td>0.013605</td>\n",
       "      <td>0.011876</td>\n",
       "    </tr>\n",
       "    <tr>\n",
       "      <th>29</th>\n",
       "      <td>Bicycles crossing</td>\n",
       "      <td>0.006897</td>\n",
       "      <td>0.006803</td>\n",
       "      <td>0.007126</td>\n",
       "    </tr>\n",
       "    <tr>\n",
       "      <th>30</th>\n",
       "      <td>Beware of ice/snow</td>\n",
       "      <td>0.011207</td>\n",
       "      <td>0.013605</td>\n",
       "      <td>0.011876</td>\n",
       "    </tr>\n",
       "    <tr>\n",
       "      <th>31</th>\n",
       "      <td>Wild animals crossing</td>\n",
       "      <td>0.019828</td>\n",
       "      <td>0.020408</td>\n",
       "      <td>0.021378</td>\n",
       "    </tr>\n",
       "    <tr>\n",
       "      <th>32</th>\n",
       "      <td>End of all speed and passing limits</td>\n",
       "      <td>0.006035</td>\n",
       "      <td>0.006803</td>\n",
       "      <td>0.004751</td>\n",
       "    </tr>\n",
       "    <tr>\n",
       "      <th>33</th>\n",
       "      <td>Turn right ahead</td>\n",
       "      <td>0.017213</td>\n",
       "      <td>0.020408</td>\n",
       "      <td>0.016627</td>\n",
       "    </tr>\n",
       "    <tr>\n",
       "      <th>34</th>\n",
       "      <td>Turn left ahead</td>\n",
       "      <td>0.010345</td>\n",
       "      <td>0.013605</td>\n",
       "      <td>0.009501</td>\n",
       "    </tr>\n",
       "    <tr>\n",
       "      <th>35</th>\n",
       "      <td>Ahead only</td>\n",
       "      <td>0.031035</td>\n",
       "      <td>0.027211</td>\n",
       "      <td>0.030879</td>\n",
       "    </tr>\n",
       "    <tr>\n",
       "      <th>36</th>\n",
       "      <td>Go straight or right</td>\n",
       "      <td>0.009483</td>\n",
       "      <td>0.013605</td>\n",
       "      <td>0.009501</td>\n",
       "    </tr>\n",
       "    <tr>\n",
       "      <th>37</th>\n",
       "      <td>Go straight or left</td>\n",
       "      <td>0.005173</td>\n",
       "      <td>0.006803</td>\n",
       "      <td>0.004751</td>\n",
       "    </tr>\n",
       "    <tr>\n",
       "      <th>38</th>\n",
       "      <td>Keep right</td>\n",
       "      <td>0.053450</td>\n",
       "      <td>0.047619</td>\n",
       "      <td>0.054632</td>\n",
       "    </tr>\n",
       "    <tr>\n",
       "      <th>39</th>\n",
       "      <td>Keep left</td>\n",
       "      <td>0.007759</td>\n",
       "      <td>0.006803</td>\n",
       "      <td>0.007126</td>\n",
       "    </tr>\n",
       "    <tr>\n",
       "      <th>40</th>\n",
       "      <td>Roundabout mandatory</td>\n",
       "      <td>0.008621</td>\n",
       "      <td>0.013605</td>\n",
       "      <td>0.007126</td>\n",
       "    </tr>\n",
       "    <tr>\n",
       "      <th>41</th>\n",
       "      <td>End of no passing</td>\n",
       "      <td>0.006035</td>\n",
       "      <td>0.006803</td>\n",
       "      <td>0.004751</td>\n",
       "    </tr>\n",
       "    <tr>\n",
       "      <th>42</th>\n",
       "      <td>End of no passing by vehicles over 3.5 metric ...</td>\n",
       "      <td>0.006035</td>\n",
       "      <td>0.006803</td>\n",
       "      <td>0.007126</td>\n",
       "    </tr>\n",
       "  </tbody>\n",
       "</table>\n",
       "</div>"
      ],
      "text/plain": [
       "                                                label  training  validation  \\\n",
       "0                                Speed limit (20km/h)  0.005173    0.006803   \n",
       "1                                Speed limit (30km/h)  0.056898    0.054422   \n",
       "2                                Speed limit (50km/h)  0.057760    0.054422   \n",
       "3                                Speed limit (60km/h)  0.036208    0.034014   \n",
       "4                                Speed limit (70km/h)  0.050864    0.047619   \n",
       "5                                Speed limit (80km/h)  0.047415    0.047619   \n",
       "6                         End of speed limit (80km/h)  0.010345    0.013605   \n",
       "7                               Speed limit (100km/h)  0.037070    0.034014   \n",
       "8                               Speed limit (120km/h)  0.036208    0.034014   \n",
       "9                                          No passing  0.037932    0.034014   \n",
       "10       No passing for vehicles over 3.5 metric tons  0.051726    0.047619   \n",
       "11              Right-of-way at the next intersection  0.033622    0.034014   \n",
       "12                                      Priority road  0.054312    0.047619   \n",
       "13                                              Yield  0.055174    0.054422   \n",
       "14                                               Stop  0.019828    0.020408   \n",
       "15                                        No vehicles  0.015518    0.020408   \n",
       "16           Vehicles over 3.5 metric tons prohibited  0.010345    0.013605   \n",
       "17                                           No entry  0.028449    0.027211   \n",
       "18                                    General caution  0.031035    0.027211   \n",
       "19                        Dangerous curve to the left  0.005173    0.006803   \n",
       "20                       Dangerous curve to the right  0.008621    0.013605   \n",
       "21                                       Double curve  0.007759    0.013605   \n",
       "22                                         Bumpy road  0.009483    0.013605   \n",
       "23                                      Slippery road  0.012931    0.013605   \n",
       "24                          Road narrows on the right  0.006897    0.006803   \n",
       "25                                          Road work  0.038794    0.034014   \n",
       "26                                    Traffic signals  0.015518    0.013605   \n",
       "27                                        Pedestrians  0.006035    0.006803   \n",
       "28                                  Children crossing  0.013793    0.013605   \n",
       "29                                  Bicycles crossing  0.006897    0.006803   \n",
       "30                                 Beware of ice/snow  0.011207    0.013605   \n",
       "31                              Wild animals crossing  0.019828    0.020408   \n",
       "32                End of all speed and passing limits  0.006035    0.006803   \n",
       "33                                   Turn right ahead  0.017213    0.020408   \n",
       "34                                    Turn left ahead  0.010345    0.013605   \n",
       "35                                         Ahead only  0.031035    0.027211   \n",
       "36                               Go straight or right  0.009483    0.013605   \n",
       "37                                Go straight or left  0.005173    0.006803   \n",
       "38                                         Keep right  0.053450    0.047619   \n",
       "39                                          Keep left  0.007759    0.006803   \n",
       "40                               Roundabout mandatory  0.008621    0.013605   \n",
       "41                                  End of no passing  0.006035    0.006803   \n",
       "42  End of no passing by vehicles over 3.5 metric ...  0.006035    0.006803   \n",
       "\n",
       "        test  \n",
       "0   0.004751  \n",
       "1   0.057007  \n",
       "2   0.059382  \n",
       "3   0.035629  \n",
       "4   0.052257  \n",
       "5   0.049881  \n",
       "6   0.011876  \n",
       "7   0.035629  \n",
       "8   0.035629  \n",
       "9   0.038005  \n",
       "10  0.052257  \n",
       "11  0.033254  \n",
       "12  0.054632  \n",
       "13  0.057007  \n",
       "14  0.021378  \n",
       "15  0.016627  \n",
       "16  0.011876  \n",
       "17  0.028504  \n",
       "18  0.030879  \n",
       "19  0.004751  \n",
       "20  0.007126  \n",
       "21  0.007126  \n",
       "22  0.009501  \n",
       "23  0.011876  \n",
       "24  0.007126  \n",
       "25  0.038005  \n",
       "26  0.014252  \n",
       "27  0.004751  \n",
       "28  0.011876  \n",
       "29  0.007126  \n",
       "30  0.011876  \n",
       "31  0.021378  \n",
       "32  0.004751  \n",
       "33  0.016627  \n",
       "34  0.009501  \n",
       "35  0.030879  \n",
       "36  0.009501  \n",
       "37  0.004751  \n",
       "38  0.054632  \n",
       "39  0.007126  \n",
       "40  0.007126  \n",
       "41  0.004751  \n",
       "42  0.007126  "
      ]
     },
     "execution_count": 6,
     "metadata": {},
     "output_type": "execute_result"
    }
   ],
   "source": [
    "train_counts = pd.DataFrame(pd.Series(y_train).value_counts(normalize=True), columns=['training'])\n",
    "valid_counts = pd.DataFrame(pd.Series(y_valid).value_counts(normalize=True), columns=['validation'])\n",
    "test_counts = pd.DataFrame(pd.Series(y_test).value_counts(normalize=True), columns=['test'])\n",
    "\n",
    "l = pd.DataFrame(ref, columns=['label'])\n",
    "freqs = pd.concat([l, train_counts, valid_counts, test_counts], axis=1, join='inner')\n",
    "freqs"
   ]
  },
  {
   "cell_type": "markdown",
   "metadata": {},
   "source": [
    "Although not balanced overall, the classes have similar frequencies in the training, validation, and test sets."
   ]
  },
  {
   "cell_type": "markdown",
   "metadata": {},
   "source": [
    "----\n",
    "\n",
    "## Step 2: Design and Test a Model Architecture\n",
    "\n",
    "Design and implement a deep learning model that learns to recognize traffic signs. Train and test your model on the [German Traffic Sign Dataset](http://benchmark.ini.rub.de/?section=gtsrb&subsection=dataset).\n",
    "\n",
    "The LeNet-5 implementation shown in the [classroom](https://classroom.udacity.com/nanodegrees/nd013/parts/fbf77062-5703-404e-b60c-95b78b2f3f9e/modules/6df7ae49-c61c-4bb2-a23e-6527e69209ec/lessons/601ae704-1035-4287-8b11-e2c2716217ad/concepts/d4aca031-508f-4e0b-b493-e7b706120f81) at the end of the CNN lesson is a solid starting point. You'll have to change the number of classes and possibly the preprocessing, but aside from that it's plug and play! \n",
    "\n",
    "With the LeNet-5 solution from the lecture, you should expect a validation set accuracy of about 0.89. To meet specifications, the validation set accuracy will need to be at least 0.93. It is possible to get an even higher accuracy, but 0.93 is the minimum for a successful project submission. \n",
    "\n",
    "There are various aspects to consider when thinking about this problem:\n",
    "\n",
    "- Neural network architecture (is the network over or underfitting?)\n",
    "- Play around preprocessing techniques (normalization, rgb to grayscale, etc)\n",
    "- Number of examples per label (some have more than others).\n",
    "- Generate fake data.\n",
    "\n",
    "Here is an example of a [published baseline model on this problem](http://yann.lecun.com/exdb/publis/pdf/sermanet-ijcnn-11.pdf). It's not required to be familiar with the approach used in the paper but, it's good practice to try to read papers like these."
   ]
  },
  {
   "cell_type": "markdown",
   "metadata": {},
   "source": [
    "### Pre-process the Data Set (normalization, grayscale, etc.)"
   ]
  },
  {
   "cell_type": "markdown",
   "metadata": {},
   "source": [
    "Minimally, the image data should be normalized so that the data has mean zero and equal variance. For image data, `(pixel - 128)/ 128` is a quick way to approximately normalize the data and can be used in this project. \n",
    "\n",
    "Other pre-processing steps are optional. You can try different techniques to see if it improves performance. \n",
    "\n",
    "Use the code cell (or multiple code cells, if necessary) to implement the first step of your project."
   ]
  },
  {
   "cell_type": "code",
   "execution_count": 7,
   "metadata": {
    "collapsed": true
   },
   "outputs": [],
   "source": [
    "### Preprocess the data here. It is required to normalize the data. Other preprocessing steps could include \n",
    "### converting to grayscale, etc.\n",
    "### Feel free to use as many code cells as needed."
   ]
  },
  {
   "cell_type": "code",
<<<<<<< HEAD
   "execution_count": 18,
   "metadata": {
    "collapsed": true
   },
   "outputs": [],
   "source": [
    "from sklearn.utils import shuffle\n",
    "\n",
    "X_train, y_train = shuffle(X_train, y_train)"
   ]
  },
  {
   "cell_type": "code",
=======
>>>>>>> 0c1bb3b8d80e9b1251a89528b0105a1fb1e9b431
   "execution_count": 8,
   "metadata": {
    "collapsed": true
   },
   "outputs": [],
   "source": [
    "# Elementary Prep - Normalization\n",
    "X_train_norm = ((X_train - 128.0) / 128.0)"
   ]
  },
  {
<<<<<<< HEAD
   "cell_type": "code",
   "execution_count": 9,
   "metadata": {},
   "outputs": [],
   "source": [
    "from skimage.color import rgb2gray\n",
    "X_train_gray = rgb2gray(X_train_norm)"
   ]
  },
  {
=======
>>>>>>> 0c1bb3b8d80e9b1251a89528b0105a1fb1e9b431
   "cell_type": "markdown",
   "metadata": {},
   "source": [
    "### Model Architecture"
   ]
  },
  {
   "cell_type": "code",
<<<<<<< HEAD
   "execution_count": 10,
=======
   "execution_count": 9,
>>>>>>> 0c1bb3b8d80e9b1251a89528b0105a1fb1e9b431
   "metadata": {
    "collapsed": true
   },
   "outputs": [],
   "source": [
    "### Define your architecture here.\n",
    "### Feel free to use as many code cells as needed."
   ]
  },
  {
   "cell_type": "code",
<<<<<<< HEAD
   "execution_count": 11,
   "metadata": {
    "collapsed": true
   },
   "outputs": [],
   "source": [
    "import tensorflow as tf\n",
    "\n",
    "EPOCHS = 10\n",
    "BATCH_SIZE = 128"
   ]
  },
  {
   "cell_type": "code",
   "execution_count": 12,
   "metadata": {},
   "outputs": [],
   "source": [
    "# Lenet\n",
    "from tensorflow.contrib.layers import flatten\n",
    "\n",
    "def LeNet(x):    \n",
    "    # Arguments used for tf.truncated_normal, randomly defines variables for the weights and biases for each layer\n",
    "    mu = 0\n",
    "    sigma = 0.1\n",
    "    \n",
    "    # TODO: Layer 1: Convolutional. Input = 32x32x1. Output = 28x28x6.\n",
    "    conv1_W = tf.Variable(tf.truncated_normal(shape=(5,5,1,6), mean=mu, stddev=sigma))\n",
    "    conv1_b = tf.Variable(tf.zeros(6))\n",
    "    conv1 = tf.nn.conv2d(x, conv1_W, padding='VALID', strides=[1,1,1,1]) + conv1_b\n",
    "\n",
    "    # TODO: Activation.\n",
    "    act1 = tf.nn.relu(conv1)\n",
    "\n",
    "    # TODO: Pooling. Input = 28x28x6. Output = 14x14x6.\n",
    "    pool1 = tf.nn.max_pool(act1, ksize=[1,2,2,1], strides=[1,2,2,1], padding='VALID')\n",
    "\n",
    "    # TODO: Layer 2: Convolutional. Output = 10x10x16.\n",
    "    conv2_W = tf.Variable(tf.truncated_normal(shape=(5,5,6,16), mean=mu, stddev=sigma))\n",
    "    conv2_b = tf.Variable(tf.zeros(16))\n",
    "    conv2 = tf.nn.conv2d(pool1, conv2_W, padding='VALID', strides=[1,1,1,1]) + conv2_b\n",
    "    \n",
    "    # TODO: Activation.\n",
    "    act2 = tf.nn.relu(conv2)\n",
    "\n",
    "    # TODO: Pooling. Input = 10x10x16. Output = 5x5x16.\n",
    "    pool2 = tf.nn.max_pool(act2, ksize=[1,2,2,1], strides=[1,2,2,1], padding='VALID')\n",
    "\n",
    "    # TODO: Flatten. Input = 5x5x16. Output = 400.\n",
    "    flat3 = flatten(pool2)\n",
    "    \n",
    "    # TODO: Layer 3: Fully Connected. Input = 400. Output = 120.\n",
    "    fc3_W = tf.Variable(tf.truncated_normal(shape=(400,120), mean=mu, stddev=sigma))\n",
    "    fc3_b = tf.Variable(tf.zeros(120))\n",
    "    fc3 = tf.matmul(flat3, fc3_W) + fc3_b\n",
    "    \n",
    "    # TODO: Activation.\n",
    "    act3 = tf.nn.relu(fc3)\n",
    "\n",
    "    # TODO: Layer 4: Fully Connected. Input = 120. Output = 84.\n",
    "    fc4_W = tf.Variable(tf.truncated_normal(shape=(120,84), mean=mu, stddev=sigma))\n",
    "    fc4_b = tf.Variable(tf.zeros(84))\n",
    "    fc4 = tf.matmul(act3, fc4_W) + fc4_b\n",
    "    \n",
    "    # TODO: Activation.\n",
    "    act4 = tf.nn.relu(fc4)\n",
    "\n",
    "    # TODO: Layer 5: Fully Connected. Input = 84. Output = 10.\n",
    "    fc5_W = tf.Variable(tf.truncated_normal(shape=(84,43), mean=mu, stddev=sigma))\n",
    "    fc5_b = tf.Variable(tf.zeros(43))\n",
    "    logits = tf.matmul(act4, fc5_W) + fc5_b \n",
    "    \n",
    "    return logits"
   ]
  },
  {
   "cell_type": "code",
   "execution_count": 20,
   "metadata": {},
   "outputs": [],
   "source": [
    "x = tf.placeholder(tf.float32, (None, 32, 32))\n",
    "y = tf.placeholder(tf.int32, (None))\n",
    "one_hot_y = tf.one_hot(y, 10)"
=======
   "execution_count": 10,
   "metadata": {},
   "outputs": [
    {
     "ename": "NameError",
     "evalue": "name 'qoqo' is not defined",
     "output_type": "error",
     "traceback": [
      "\u001b[0;31m---------------------------------------------------------------------------\u001b[0m",
      "\u001b[0;31mNameError\u001b[0m                                 Traceback (most recent call last)",
      "\u001b[0;32m<ipython-input-10-49531c7fa27a>\u001b[0m in \u001b[0;36m<module>\u001b[0;34m()\u001b[0m\n\u001b[0;32m----> 1\u001b[0;31m \u001b[0mqoqo\u001b[0m\u001b[0;34m\u001b[0m\u001b[0m\n\u001b[0m",
      "\u001b[0;31mNameError\u001b[0m: name 'qoqo' is not defined"
     ]
    }
   ],
   "source": [
    "qoqo"
>>>>>>> 0c1bb3b8d80e9b1251a89528b0105a1fb1e9b431
   ]
  },
  {
   "cell_type": "markdown",
   "metadata": {},
   "source": [
    "### Train, Validate and Test the Model"
   ]
  },
  {
   "cell_type": "markdown",
   "metadata": {},
   "source": [
    "A validation set can be used to assess how well the model is performing. A low accuracy on the training and validation\n",
    "sets imply underfitting. A high accuracy on the training set but low accuracy on the validation set implies overfitting."
   ]
  },
  {
   "cell_type": "code",
<<<<<<< HEAD
   "execution_count": 21,
=======
   "execution_count": null,
>>>>>>> 0c1bb3b8d80e9b1251a89528b0105a1fb1e9b431
   "metadata": {
    "collapsed": true
   },
   "outputs": [],
   "source": [
    "### Train your model here.\n",
    "### Calculate and report the accuracy on the training and validation set.\n",
    "### Once a final model architecture is selected, \n",
    "### the accuracy on the test set should be calculated and reported as well.\n",
    "### Feel free to use as many code cells as needed."
   ]
  },
  {
<<<<<<< HEAD
   "cell_type": "code",
   "execution_count": 22,
   "metadata": {},
   "outputs": [
    {
     "ename": "ValueError",
     "evalue": "Shape must be rank 4 but is rank 3 for 'Conv2D_2' (op: 'Conv2D') with input shapes: [?,32,32], [5,5,1,6].",
     "output_type": "error",
     "traceback": [
      "\u001b[0;31m---------------------------------------------------------------------------\u001b[0m",
      "\u001b[0;31mInvalidArgumentError\u001b[0m                      Traceback (most recent call last)",
      "\u001b[0;32m~/.conda/envs/carnd-term1/lib/python3.5/site-packages/tensorflow/python/framework/common_shapes.py\u001b[0m in \u001b[0;36m_call_cpp_shape_fn_impl\u001b[0;34m(op, input_tensors_needed, input_tensors_as_shapes_needed, debug_python_shape_fn, require_shape_fn)\u001b[0m\n\u001b[1;32m    669\u001b[0m           \u001b[0mnode_def_str\u001b[0m\u001b[0;34m,\u001b[0m \u001b[0minput_shapes\u001b[0m\u001b[0;34m,\u001b[0m \u001b[0minput_tensors\u001b[0m\u001b[0;34m,\u001b[0m \u001b[0minput_tensors_as_shapes\u001b[0m\u001b[0;34m,\u001b[0m\u001b[0;34m\u001b[0m\u001b[0m\n\u001b[0;32m--> 670\u001b[0;31m           status)\n\u001b[0m\u001b[1;32m    671\u001b[0m   \u001b[0;32mexcept\u001b[0m \u001b[0merrors\u001b[0m\u001b[0;34m.\u001b[0m\u001b[0mInvalidArgumentError\u001b[0m \u001b[0;32mas\u001b[0m \u001b[0merr\u001b[0m\u001b[0;34m:\u001b[0m\u001b[0;34m\u001b[0m\u001b[0m\n",
      "\u001b[0;32m~/.conda/envs/carnd-term1/lib/python3.5/contextlib.py\u001b[0m in \u001b[0;36m__exit__\u001b[0;34m(self, type, value, traceback)\u001b[0m\n\u001b[1;32m     65\u001b[0m             \u001b[0;32mtry\u001b[0m\u001b[0;34m:\u001b[0m\u001b[0;34m\u001b[0m\u001b[0m\n\u001b[0;32m---> 66\u001b[0;31m                 \u001b[0mnext\u001b[0m\u001b[0;34m(\u001b[0m\u001b[0mself\u001b[0m\u001b[0;34m.\u001b[0m\u001b[0mgen\u001b[0m\u001b[0;34m)\u001b[0m\u001b[0;34m\u001b[0m\u001b[0m\n\u001b[0m\u001b[1;32m     67\u001b[0m             \u001b[0;32mexcept\u001b[0m \u001b[0mStopIteration\u001b[0m\u001b[0;34m:\u001b[0m\u001b[0;34m\u001b[0m\u001b[0m\n",
      "\u001b[0;32m~/.conda/envs/carnd-term1/lib/python3.5/site-packages/tensorflow/python/framework/errors_impl.py\u001b[0m in \u001b[0;36mraise_exception_on_not_ok_status\u001b[0;34m()\u001b[0m\n\u001b[1;32m    468\u001b[0m           \u001b[0mcompat\u001b[0m\u001b[0;34m.\u001b[0m\u001b[0mas_text\u001b[0m\u001b[0;34m(\u001b[0m\u001b[0mpywrap_tensorflow\u001b[0m\u001b[0;34m.\u001b[0m\u001b[0mTF_Message\u001b[0m\u001b[0;34m(\u001b[0m\u001b[0mstatus\u001b[0m\u001b[0;34m)\u001b[0m\u001b[0;34m)\u001b[0m\u001b[0;34m,\u001b[0m\u001b[0;34m\u001b[0m\u001b[0m\n\u001b[0;32m--> 469\u001b[0;31m           pywrap_tensorflow.TF_GetCode(status))\n\u001b[0m\u001b[1;32m    470\u001b[0m   \u001b[0;32mfinally\u001b[0m\u001b[0;34m:\u001b[0m\u001b[0;34m\u001b[0m\u001b[0m\n",
      "\u001b[0;31mInvalidArgumentError\u001b[0m: Shape must be rank 4 but is rank 3 for 'Conv2D_2' (op: 'Conv2D') with input shapes: [?,32,32], [5,5,1,6].",
      "\nDuring handling of the above exception, another exception occurred:\n",
      "\u001b[0;31mValueError\u001b[0m                                Traceback (most recent call last)",
      "\u001b[0;32m<ipython-input-22-f20d605ea841>\u001b[0m in \u001b[0;36m<module>\u001b[0;34m()\u001b[0m\n\u001b[1;32m      1\u001b[0m \u001b[0mrate\u001b[0m \u001b[0;34m=\u001b[0m \u001b[0;36m0.001\u001b[0m\u001b[0;34m\u001b[0m\u001b[0m\n\u001b[1;32m      2\u001b[0m \u001b[0;34m\u001b[0m\u001b[0m\n\u001b[0;32m----> 3\u001b[0;31m \u001b[0mlogits\u001b[0m \u001b[0;34m=\u001b[0m \u001b[0mLeNet\u001b[0m\u001b[0;34m(\u001b[0m\u001b[0mx\u001b[0m\u001b[0;34m)\u001b[0m\u001b[0;34m\u001b[0m\u001b[0m\n\u001b[0m\u001b[1;32m      4\u001b[0m \u001b[0mcross_entropy\u001b[0m \u001b[0;34m=\u001b[0m \u001b[0mtf\u001b[0m\u001b[0;34m.\u001b[0m\u001b[0mnn\u001b[0m\u001b[0;34m.\u001b[0m\u001b[0msoftmax_cross_entropy_with_logits\u001b[0m\u001b[0;34m(\u001b[0m\u001b[0mlabels\u001b[0m\u001b[0;34m=\u001b[0m\u001b[0mone_hot_y\u001b[0m\u001b[0;34m,\u001b[0m \u001b[0mlogits\u001b[0m\u001b[0;34m=\u001b[0m\u001b[0mlogits\u001b[0m\u001b[0;34m)\u001b[0m\u001b[0;34m\u001b[0m\u001b[0m\n\u001b[1;32m      5\u001b[0m \u001b[0mloss_operation\u001b[0m \u001b[0;34m=\u001b[0m \u001b[0mtf\u001b[0m\u001b[0;34m.\u001b[0m\u001b[0mreduce_mean\u001b[0m\u001b[0;34m(\u001b[0m\u001b[0mcross_entropy\u001b[0m\u001b[0;34m)\u001b[0m\u001b[0;34m\u001b[0m\u001b[0m\n",
      "\u001b[0;32m<ipython-input-12-e33ecca4c87c>\u001b[0m in \u001b[0;36mLeNet\u001b[0;34m(x)\u001b[0m\n\u001b[1;32m     10\u001b[0m     \u001b[0mconv1_W\u001b[0m \u001b[0;34m=\u001b[0m \u001b[0mtf\u001b[0m\u001b[0;34m.\u001b[0m\u001b[0mVariable\u001b[0m\u001b[0;34m(\u001b[0m\u001b[0mtf\u001b[0m\u001b[0;34m.\u001b[0m\u001b[0mtruncated_normal\u001b[0m\u001b[0;34m(\u001b[0m\u001b[0mshape\u001b[0m\u001b[0;34m=\u001b[0m\u001b[0;34m(\u001b[0m\u001b[0;36m5\u001b[0m\u001b[0;34m,\u001b[0m\u001b[0;36m5\u001b[0m\u001b[0;34m,\u001b[0m\u001b[0;36m1\u001b[0m\u001b[0;34m,\u001b[0m\u001b[0;36m6\u001b[0m\u001b[0;34m)\u001b[0m\u001b[0;34m,\u001b[0m \u001b[0mmean\u001b[0m\u001b[0;34m=\u001b[0m\u001b[0mmu\u001b[0m\u001b[0;34m,\u001b[0m \u001b[0mstddev\u001b[0m\u001b[0;34m=\u001b[0m\u001b[0msigma\u001b[0m\u001b[0;34m)\u001b[0m\u001b[0;34m)\u001b[0m\u001b[0;34m\u001b[0m\u001b[0m\n\u001b[1;32m     11\u001b[0m     \u001b[0mconv1_b\u001b[0m \u001b[0;34m=\u001b[0m \u001b[0mtf\u001b[0m\u001b[0;34m.\u001b[0m\u001b[0mVariable\u001b[0m\u001b[0;34m(\u001b[0m\u001b[0mtf\u001b[0m\u001b[0;34m.\u001b[0m\u001b[0mzeros\u001b[0m\u001b[0;34m(\u001b[0m\u001b[0;36m6\u001b[0m\u001b[0;34m)\u001b[0m\u001b[0;34m)\u001b[0m\u001b[0;34m\u001b[0m\u001b[0m\n\u001b[0;32m---> 12\u001b[0;31m     \u001b[0mconv1\u001b[0m \u001b[0;34m=\u001b[0m \u001b[0mtf\u001b[0m\u001b[0;34m.\u001b[0m\u001b[0mnn\u001b[0m\u001b[0;34m.\u001b[0m\u001b[0mconv2d\u001b[0m\u001b[0;34m(\u001b[0m\u001b[0mx\u001b[0m\u001b[0;34m,\u001b[0m \u001b[0mconv1_W\u001b[0m\u001b[0;34m,\u001b[0m \u001b[0mpadding\u001b[0m\u001b[0;34m=\u001b[0m\u001b[0;34m'VALID'\u001b[0m\u001b[0;34m,\u001b[0m \u001b[0mstrides\u001b[0m\u001b[0;34m=\u001b[0m\u001b[0;34m[\u001b[0m\u001b[0;36m1\u001b[0m\u001b[0;34m,\u001b[0m\u001b[0;36m1\u001b[0m\u001b[0;34m,\u001b[0m\u001b[0;36m1\u001b[0m\u001b[0;34m,\u001b[0m\u001b[0;36m1\u001b[0m\u001b[0;34m]\u001b[0m\u001b[0;34m)\u001b[0m \u001b[0;34m+\u001b[0m \u001b[0mconv1_b\u001b[0m\u001b[0;34m\u001b[0m\u001b[0m\n\u001b[0m\u001b[1;32m     13\u001b[0m \u001b[0;34m\u001b[0m\u001b[0m\n\u001b[1;32m     14\u001b[0m     \u001b[0;31m# TODO: Activation.\u001b[0m\u001b[0;34m\u001b[0m\u001b[0;34m\u001b[0m\u001b[0m\n",
      "\u001b[0;32m~/.conda/envs/carnd-term1/lib/python3.5/site-packages/tensorflow/python/ops/gen_nn_ops.py\u001b[0m in \u001b[0;36mconv2d\u001b[0;34m(input, filter, strides, padding, use_cudnn_on_gpu, data_format, name)\u001b[0m\n\u001b[1;32m    394\u001b[0m                                 \u001b[0mstrides\u001b[0m\u001b[0;34m=\u001b[0m\u001b[0mstrides\u001b[0m\u001b[0;34m,\u001b[0m \u001b[0mpadding\u001b[0m\u001b[0;34m=\u001b[0m\u001b[0mpadding\u001b[0m\u001b[0;34m,\u001b[0m\u001b[0;34m\u001b[0m\u001b[0m\n\u001b[1;32m    395\u001b[0m                                 \u001b[0muse_cudnn_on_gpu\u001b[0m\u001b[0;34m=\u001b[0m\u001b[0muse_cudnn_on_gpu\u001b[0m\u001b[0;34m,\u001b[0m\u001b[0;34m\u001b[0m\u001b[0m\n\u001b[0;32m--> 396\u001b[0;31m                                 data_format=data_format, name=name)\n\u001b[0m\u001b[1;32m    397\u001b[0m   \u001b[0;32mreturn\u001b[0m \u001b[0mresult\u001b[0m\u001b[0;34m\u001b[0m\u001b[0m\n\u001b[1;32m    398\u001b[0m \u001b[0;34m\u001b[0m\u001b[0m\n",
      "\u001b[0;32m~/.conda/envs/carnd-term1/lib/python3.5/site-packages/tensorflow/python/framework/op_def_library.py\u001b[0m in \u001b[0;36mapply_op\u001b[0;34m(self, op_type_name, name, **keywords)\u001b[0m\n\u001b[1;32m    757\u001b[0m         op = g.create_op(op_type_name, inputs, output_types, name=scope,\n\u001b[1;32m    758\u001b[0m                          \u001b[0minput_types\u001b[0m\u001b[0;34m=\u001b[0m\u001b[0minput_types\u001b[0m\u001b[0;34m,\u001b[0m \u001b[0mattrs\u001b[0m\u001b[0;34m=\u001b[0m\u001b[0mattr_protos\u001b[0m\u001b[0;34m,\u001b[0m\u001b[0;34m\u001b[0m\u001b[0m\n\u001b[0;32m--> 759\u001b[0;31m                          op_def=op_def)\n\u001b[0m\u001b[1;32m    760\u001b[0m         \u001b[0;32mif\u001b[0m \u001b[0moutput_structure\u001b[0m\u001b[0;34m:\u001b[0m\u001b[0;34m\u001b[0m\u001b[0m\n\u001b[1;32m    761\u001b[0m           \u001b[0moutputs\u001b[0m \u001b[0;34m=\u001b[0m \u001b[0mop\u001b[0m\u001b[0;34m.\u001b[0m\u001b[0moutputs\u001b[0m\u001b[0;34m\u001b[0m\u001b[0m\n",
      "\u001b[0;32m~/.conda/envs/carnd-term1/lib/python3.5/site-packages/tensorflow/python/framework/ops.py\u001b[0m in \u001b[0;36mcreate_op\u001b[0;34m(self, op_type, inputs, dtypes, input_types, name, attrs, op_def, compute_shapes, compute_device)\u001b[0m\n\u001b[1;32m   2240\u001b[0m                     original_op=self._default_original_op, op_def=op_def)\n\u001b[1;32m   2241\u001b[0m     \u001b[0;32mif\u001b[0m \u001b[0mcompute_shapes\u001b[0m\u001b[0;34m:\u001b[0m\u001b[0;34m\u001b[0m\u001b[0m\n\u001b[0;32m-> 2242\u001b[0;31m       \u001b[0mset_shapes_for_outputs\u001b[0m\u001b[0;34m(\u001b[0m\u001b[0mret\u001b[0m\u001b[0;34m)\u001b[0m\u001b[0;34m\u001b[0m\u001b[0m\n\u001b[0m\u001b[1;32m   2243\u001b[0m     \u001b[0mself\u001b[0m\u001b[0;34m.\u001b[0m\u001b[0m_add_op\u001b[0m\u001b[0;34m(\u001b[0m\u001b[0mret\u001b[0m\u001b[0;34m)\u001b[0m\u001b[0;34m\u001b[0m\u001b[0m\n\u001b[1;32m   2244\u001b[0m     \u001b[0mself\u001b[0m\u001b[0;34m.\u001b[0m\u001b[0m_record_op_seen_by_control_dependencies\u001b[0m\u001b[0;34m(\u001b[0m\u001b[0mret\u001b[0m\u001b[0;34m)\u001b[0m\u001b[0;34m\u001b[0m\u001b[0m\n",
      "\u001b[0;32m~/.conda/envs/carnd-term1/lib/python3.5/site-packages/tensorflow/python/framework/ops.py\u001b[0m in \u001b[0;36mset_shapes_for_outputs\u001b[0;34m(op)\u001b[0m\n\u001b[1;32m   1615\u001b[0m       \u001b[0mshape_func\u001b[0m \u001b[0;34m=\u001b[0m \u001b[0m_call_cpp_shape_fn_and_require_op\u001b[0m\u001b[0;34m\u001b[0m\u001b[0m\n\u001b[1;32m   1616\u001b[0m \u001b[0;34m\u001b[0m\u001b[0m\n\u001b[0;32m-> 1617\u001b[0;31m   \u001b[0mshapes\u001b[0m \u001b[0;34m=\u001b[0m \u001b[0mshape_func\u001b[0m\u001b[0;34m(\u001b[0m\u001b[0mop\u001b[0m\u001b[0;34m)\u001b[0m\u001b[0;34m\u001b[0m\u001b[0m\n\u001b[0m\u001b[1;32m   1618\u001b[0m   \u001b[0;32mif\u001b[0m \u001b[0mshapes\u001b[0m \u001b[0;32mis\u001b[0m \u001b[0;32mNone\u001b[0m\u001b[0;34m:\u001b[0m\u001b[0;34m\u001b[0m\u001b[0m\n\u001b[1;32m   1619\u001b[0m     raise RuntimeError(\n",
      "\u001b[0;32m~/.conda/envs/carnd-term1/lib/python3.5/site-packages/tensorflow/python/framework/ops.py\u001b[0m in \u001b[0;36mcall_with_requiring\u001b[0;34m(op)\u001b[0m\n\u001b[1;32m   1566\u001b[0m \u001b[0;34m\u001b[0m\u001b[0m\n\u001b[1;32m   1567\u001b[0m   \u001b[0;32mdef\u001b[0m \u001b[0mcall_with_requiring\u001b[0m\u001b[0;34m(\u001b[0m\u001b[0mop\u001b[0m\u001b[0;34m)\u001b[0m\u001b[0;34m:\u001b[0m\u001b[0;34m\u001b[0m\u001b[0m\n\u001b[0;32m-> 1568\u001b[0;31m     \u001b[0;32mreturn\u001b[0m \u001b[0mcall_cpp_shape_fn\u001b[0m\u001b[0;34m(\u001b[0m\u001b[0mop\u001b[0m\u001b[0;34m,\u001b[0m \u001b[0mrequire_shape_fn\u001b[0m\u001b[0;34m=\u001b[0m\u001b[0;32mTrue\u001b[0m\u001b[0;34m)\u001b[0m\u001b[0;34m\u001b[0m\u001b[0m\n\u001b[0m\u001b[1;32m   1569\u001b[0m \u001b[0;34m\u001b[0m\u001b[0m\n\u001b[1;32m   1570\u001b[0m   \u001b[0m_call_cpp_shape_fn_and_require_op\u001b[0m \u001b[0;34m=\u001b[0m \u001b[0mcall_with_requiring\u001b[0m\u001b[0;34m\u001b[0m\u001b[0m\n",
      "\u001b[0;32m~/.conda/envs/carnd-term1/lib/python3.5/site-packages/tensorflow/python/framework/common_shapes.py\u001b[0m in \u001b[0;36mcall_cpp_shape_fn\u001b[0;34m(op, input_tensors_needed, input_tensors_as_shapes_needed, debug_python_shape_fn, require_shape_fn)\u001b[0m\n\u001b[1;32m    608\u001b[0m     res = _call_cpp_shape_fn_impl(op, input_tensors_needed,\n\u001b[1;32m    609\u001b[0m                                   \u001b[0minput_tensors_as_shapes_needed\u001b[0m\u001b[0;34m,\u001b[0m\u001b[0;34m\u001b[0m\u001b[0m\n\u001b[0;32m--> 610\u001b[0;31m                                   debug_python_shape_fn, require_shape_fn)\n\u001b[0m\u001b[1;32m    611\u001b[0m     \u001b[0;32mif\u001b[0m \u001b[0;32mnot\u001b[0m \u001b[0misinstance\u001b[0m\u001b[0;34m(\u001b[0m\u001b[0mres\u001b[0m\u001b[0;34m,\u001b[0m \u001b[0mdict\u001b[0m\u001b[0;34m)\u001b[0m\u001b[0;34m:\u001b[0m\u001b[0;34m\u001b[0m\u001b[0m\n\u001b[1;32m    612\u001b[0m       \u001b[0;31m# Handles the case where _call_cpp_shape_fn_impl calls unknown_shape(op).\u001b[0m\u001b[0;34m\u001b[0m\u001b[0;34m\u001b[0m\u001b[0m\n",
      "\u001b[0;32m~/.conda/envs/carnd-term1/lib/python3.5/site-packages/tensorflow/python/framework/common_shapes.py\u001b[0m in \u001b[0;36m_call_cpp_shape_fn_impl\u001b[0;34m(op, input_tensors_needed, input_tensors_as_shapes_needed, debug_python_shape_fn, require_shape_fn)\u001b[0m\n\u001b[1;32m    673\u001b[0m       \u001b[0mmissing_shape_fn\u001b[0m \u001b[0;34m=\u001b[0m \u001b[0;32mTrue\u001b[0m\u001b[0;34m\u001b[0m\u001b[0m\n\u001b[1;32m    674\u001b[0m     \u001b[0;32melse\u001b[0m\u001b[0;34m:\u001b[0m\u001b[0;34m\u001b[0m\u001b[0m\n\u001b[0;32m--> 675\u001b[0;31m       \u001b[0;32mraise\u001b[0m \u001b[0mValueError\u001b[0m\u001b[0;34m(\u001b[0m\u001b[0merr\u001b[0m\u001b[0;34m.\u001b[0m\u001b[0mmessage\u001b[0m\u001b[0;34m)\u001b[0m\u001b[0;34m\u001b[0m\u001b[0m\n\u001b[0m\u001b[1;32m    676\u001b[0m \u001b[0;34m\u001b[0m\u001b[0m\n\u001b[1;32m    677\u001b[0m   \u001b[0;32mif\u001b[0m \u001b[0mmissing_shape_fn\u001b[0m\u001b[0;34m:\u001b[0m\u001b[0;34m\u001b[0m\u001b[0m\n",
      "\u001b[0;31mValueError\u001b[0m: Shape must be rank 4 but is rank 3 for 'Conv2D_2' (op: 'Conv2D') with input shapes: [?,32,32], [5,5,1,6]."
     ]
    }
   ],
   "source": [
    "rate = 0.001\n",
    "\n",
    "logits = LeNet(x)\n",
    "cross_entropy = tf.nn.softmax_cross_entropy_with_logits(labels=one_hot_y, logits=logits)\n",
    "loss_operation = tf.reduce_mean(cross_entropy)\n",
    "optimizer = tf.train.AdamOptimizer(learning_rate = rate)\n",
    "training_operation = optimizer.minimize(loss_operation)"
   ]
  },
  {
   "cell_type": "code",
   "execution_count": 23,
   "metadata": {
    "collapsed": true
   },
   "outputs": [],
   "source": [
    "correct_prediction = tf.equal(tf.argmax(logits, 1), tf.argmax(one_hot_y, 1))\n",
    "accuracy_operation = tf.reduce_mean(tf.cast(correct_prediction, tf.float32))\n",
    "saver = tf.train.Saver()\n",
    "\n",
    "def evaluate(X_data, y_data):\n",
    "    num_examples = len(X_data)\n",
    "    total_accuracy = 0\n",
    "    sess = tf.get_default_session()\n",
    "    for offset in range(0, num_examples, BATCH_SIZE):\n",
    "        batch_x, batch_y = X_data[offset:offset+BATCH_SIZE], y_data[offset:offset+BATCH_SIZE]\n",
    "        accuracy = sess.run(accuracy_operation, feed_dict={x: batch_x, y: batch_y})\n",
    "        total_accuracy += (accuracy * len(batch_x))\n",
    "    return total_accuracy / num_examples"
   ]
  },
  {
   "cell_type": "code",
   "execution_count": 24,
   "metadata": {},
   "outputs": [
    {
     "name": "stdout",
     "output_type": "stream",
     "text": [
      "Training...\n",
      "\n"
     ]
    },
    {
     "ename": "InvalidArgumentError",
     "evalue": "You must feed a value for placeholder tensor 'Placeholder' with dtype float\n\t [[Node: Placeholder = Placeholder[dtype=DT_FLOAT, shape=[], _device=\"/job:localhost/replica:0/task:0/cpu:0\"]()]]\n\nCaused by op 'Placeholder', defined at:\n  File \"/home/nfl/.conda/envs/carnd-term1/lib/python3.5/runpy.py\", line 184, in _run_module_as_main\n    \"__main__\", mod_spec)\n  File \"/home/nfl/.conda/envs/carnd-term1/lib/python3.5/runpy.py\", line 85, in _run_code\n    exec(code, run_globals)\n  File \"/home/nfl/.local/lib/python3.5/site-packages/ipykernel_launcher.py\", line 16, in <module>\n    app.launch_new_instance()\n  File \"/home/nfl/.local/lib/python3.5/site-packages/traitlets/config/application.py\", line 658, in launch_instance\n    app.start()\n  File \"/home/nfl/.local/lib/python3.5/site-packages/ipykernel/kernelapp.py\", line 477, in start\n    ioloop.IOLoop.instance().start()\n  File \"/home/nfl/.local/lib/python3.5/site-packages/zmq/eventloop/ioloop.py\", line 177, in start\n    super(ZMQIOLoop, self).start()\n  File \"/home/nfl/.local/lib/python3.5/site-packages/tornado/ioloop.py\", line 888, in start\n    handler_func(fd_obj, events)\n  File \"/home/nfl/.local/lib/python3.5/site-packages/tornado/stack_context.py\", line 277, in null_wrapper\n    return fn(*args, **kwargs)\n  File \"/home/nfl/.local/lib/python3.5/site-packages/zmq/eventloop/zmqstream.py\", line 440, in _handle_events\n    self._handle_recv()\n  File \"/home/nfl/.local/lib/python3.5/site-packages/zmq/eventloop/zmqstream.py\", line 472, in _handle_recv\n    self._run_callback(callback, msg)\n  File \"/home/nfl/.local/lib/python3.5/site-packages/zmq/eventloop/zmqstream.py\", line 414, in _run_callback\n    callback(*args, **kwargs)\n  File \"/home/nfl/.local/lib/python3.5/site-packages/tornado/stack_context.py\", line 277, in null_wrapper\n    return fn(*args, **kwargs)\n  File \"/home/nfl/.local/lib/python3.5/site-packages/ipykernel/kernelbase.py\", line 283, in dispatcher\n    return self.dispatch_shell(stream, msg)\n  File \"/home/nfl/.local/lib/python3.5/site-packages/ipykernel/kernelbase.py\", line 235, in dispatch_shell\n    handler(stream, idents, msg)\n  File \"/home/nfl/.local/lib/python3.5/site-packages/ipykernel/kernelbase.py\", line 399, in execute_request\n    user_expressions, allow_stdin)\n  File \"/home/nfl/.local/lib/python3.5/site-packages/ipykernel/ipkernel.py\", line 196, in do_execute\n    res = shell.run_cell(code, store_history=store_history, silent=silent)\n  File \"/home/nfl/.local/lib/python3.5/site-packages/ipykernel/zmqshell.py\", line 533, in run_cell\n    return super(ZMQInteractiveShell, self).run_cell(*args, **kwargs)\n  File \"/home/nfl/.local/lib/python3.5/site-packages/IPython/core/interactiveshell.py\", line 2698, in run_cell\n    interactivity=interactivity, compiler=compiler, result=result)\n  File \"/home/nfl/.local/lib/python3.5/site-packages/IPython/core/interactiveshell.py\", line 2802, in run_ast_nodes\n    if self.run_code(code, result):\n  File \"/home/nfl/.local/lib/python3.5/site-packages/IPython/core/interactiveshell.py\", line 2862, in run_code\n    exec(code_obj, self.user_global_ns, self.user_ns)\n  File \"<ipython-input-13-98d156b74162>\", line 1, in <module>\n    x = tf.placeholder(tf.float32, (None, 32, 32, 1))\n  File \"/home/nfl/.conda/envs/carnd-term1/lib/python3.5/site-packages/tensorflow/python/ops/array_ops.py\", line 1587, in placeholder\n    name=name)\n  File \"/home/nfl/.conda/envs/carnd-term1/lib/python3.5/site-packages/tensorflow/python/ops/gen_array_ops.py\", line 2043, in _placeholder\n    name=name)\n  File \"/home/nfl/.conda/envs/carnd-term1/lib/python3.5/site-packages/tensorflow/python/framework/op_def_library.py\", line 759, in apply_op\n    op_def=op_def)\n  File \"/home/nfl/.conda/envs/carnd-term1/lib/python3.5/site-packages/tensorflow/python/framework/ops.py\", line 2240, in create_op\n    original_op=self._default_original_op, op_def=op_def)\n  File \"/home/nfl/.conda/envs/carnd-term1/lib/python3.5/site-packages/tensorflow/python/framework/ops.py\", line 1128, in __init__\n    self._traceback = _extract_stack()\n\nInvalidArgumentError (see above for traceback): You must feed a value for placeholder tensor 'Placeholder' with dtype float\n\t [[Node: Placeholder = Placeholder[dtype=DT_FLOAT, shape=[], _device=\"/job:localhost/replica:0/task:0/cpu:0\"]()]]\n",
     "output_type": "error",
     "traceback": [
      "\u001b[0;31m---------------------------------------------------------------------------\u001b[0m",
      "\u001b[0;31mInvalidArgumentError\u001b[0m                      Traceback (most recent call last)",
      "\u001b[0;32m~/.conda/envs/carnd-term1/lib/python3.5/site-packages/tensorflow/python/client/session.py\u001b[0m in \u001b[0;36m_do_call\u001b[0;34m(self, fn, *args)\u001b[0m\n\u001b[1;32m   1020\u001b[0m     \u001b[0;32mtry\u001b[0m\u001b[0;34m:\u001b[0m\u001b[0;34m\u001b[0m\u001b[0m\n\u001b[0;32m-> 1021\u001b[0;31m       \u001b[0;32mreturn\u001b[0m \u001b[0mfn\u001b[0m\u001b[0;34m(\u001b[0m\u001b[0;34m*\u001b[0m\u001b[0margs\u001b[0m\u001b[0;34m)\u001b[0m\u001b[0;34m\u001b[0m\u001b[0m\n\u001b[0m\u001b[1;32m   1022\u001b[0m     \u001b[0;32mexcept\u001b[0m \u001b[0merrors\u001b[0m\u001b[0;34m.\u001b[0m\u001b[0mOpError\u001b[0m \u001b[0;32mas\u001b[0m \u001b[0me\u001b[0m\u001b[0;34m:\u001b[0m\u001b[0;34m\u001b[0m\u001b[0m\n",
      "\u001b[0;32m~/.conda/envs/carnd-term1/lib/python3.5/site-packages/tensorflow/python/client/session.py\u001b[0m in \u001b[0;36m_run_fn\u001b[0;34m(session, feed_dict, fetch_list, target_list, options, run_metadata)\u001b[0m\n\u001b[1;32m   1002\u001b[0m                                  \u001b[0mfeed_dict\u001b[0m\u001b[0;34m,\u001b[0m \u001b[0mfetch_list\u001b[0m\u001b[0;34m,\u001b[0m \u001b[0mtarget_list\u001b[0m\u001b[0;34m,\u001b[0m\u001b[0;34m\u001b[0m\u001b[0m\n\u001b[0;32m-> 1003\u001b[0;31m                                  status, run_metadata)\n\u001b[0m\u001b[1;32m   1004\u001b[0m \u001b[0;34m\u001b[0m\u001b[0m\n",
      "\u001b[0;32m~/.conda/envs/carnd-term1/lib/python3.5/contextlib.py\u001b[0m in \u001b[0;36m__exit__\u001b[0;34m(self, type, value, traceback)\u001b[0m\n\u001b[1;32m     65\u001b[0m             \u001b[0;32mtry\u001b[0m\u001b[0;34m:\u001b[0m\u001b[0;34m\u001b[0m\u001b[0m\n\u001b[0;32m---> 66\u001b[0;31m                 \u001b[0mnext\u001b[0m\u001b[0;34m(\u001b[0m\u001b[0mself\u001b[0m\u001b[0;34m.\u001b[0m\u001b[0mgen\u001b[0m\u001b[0;34m)\u001b[0m\u001b[0;34m\u001b[0m\u001b[0m\n\u001b[0m\u001b[1;32m     67\u001b[0m             \u001b[0;32mexcept\u001b[0m \u001b[0mStopIteration\u001b[0m\u001b[0;34m:\u001b[0m\u001b[0;34m\u001b[0m\u001b[0m\n",
      "\u001b[0;32m~/.conda/envs/carnd-term1/lib/python3.5/site-packages/tensorflow/python/framework/errors_impl.py\u001b[0m in \u001b[0;36mraise_exception_on_not_ok_status\u001b[0;34m()\u001b[0m\n\u001b[1;32m    468\u001b[0m           \u001b[0mcompat\u001b[0m\u001b[0;34m.\u001b[0m\u001b[0mas_text\u001b[0m\u001b[0;34m(\u001b[0m\u001b[0mpywrap_tensorflow\u001b[0m\u001b[0;34m.\u001b[0m\u001b[0mTF_Message\u001b[0m\u001b[0;34m(\u001b[0m\u001b[0mstatus\u001b[0m\u001b[0;34m)\u001b[0m\u001b[0;34m)\u001b[0m\u001b[0;34m,\u001b[0m\u001b[0;34m\u001b[0m\u001b[0m\n\u001b[0;32m--> 469\u001b[0;31m           pywrap_tensorflow.TF_GetCode(status))\n\u001b[0m\u001b[1;32m    470\u001b[0m   \u001b[0;32mfinally\u001b[0m\u001b[0;34m:\u001b[0m\u001b[0;34m\u001b[0m\u001b[0m\n",
      "\u001b[0;31mInvalidArgumentError\u001b[0m: You must feed a value for placeholder tensor 'Placeholder' with dtype float\n\t [[Node: Placeholder = Placeholder[dtype=DT_FLOAT, shape=[], _device=\"/job:localhost/replica:0/task:0/cpu:0\"]()]]",
      "\nDuring handling of the above exception, another exception occurred:\n",
      "\u001b[0;31mInvalidArgumentError\u001b[0m                      Traceback (most recent call last)",
      "\u001b[0;32m<ipython-input-24-77ea935b4f6c>\u001b[0m in \u001b[0;36m<module>\u001b[0;34m()\u001b[0m\n\u001b[1;32m     10\u001b[0m             \u001b[0mend\u001b[0m \u001b[0;34m=\u001b[0m \u001b[0moffset\u001b[0m \u001b[0;34m+\u001b[0m \u001b[0mBATCH_SIZE\u001b[0m\u001b[0;34m\u001b[0m\u001b[0m\n\u001b[1;32m     11\u001b[0m             \u001b[0mbatch_x\u001b[0m\u001b[0;34m,\u001b[0m \u001b[0mbatch_y\u001b[0m \u001b[0;34m=\u001b[0m \u001b[0mX_train\u001b[0m\u001b[0;34m[\u001b[0m\u001b[0moffset\u001b[0m\u001b[0;34m:\u001b[0m\u001b[0mend\u001b[0m\u001b[0;34m]\u001b[0m\u001b[0;34m,\u001b[0m \u001b[0my_train\u001b[0m\u001b[0;34m[\u001b[0m\u001b[0moffset\u001b[0m\u001b[0;34m:\u001b[0m\u001b[0mend\u001b[0m\u001b[0;34m]\u001b[0m\u001b[0;34m\u001b[0m\u001b[0m\n\u001b[0;32m---> 12\u001b[0;31m             \u001b[0msess\u001b[0m\u001b[0;34m.\u001b[0m\u001b[0mrun\u001b[0m\u001b[0;34m(\u001b[0m\u001b[0mtraining_operation\u001b[0m\u001b[0;34m,\u001b[0m \u001b[0mfeed_dict\u001b[0m\u001b[0;34m=\u001b[0m\u001b[0;34m{\u001b[0m\u001b[0mx\u001b[0m\u001b[0;34m:\u001b[0m \u001b[0mbatch_x\u001b[0m\u001b[0;34m,\u001b[0m \u001b[0my\u001b[0m\u001b[0;34m:\u001b[0m \u001b[0mbatch_y\u001b[0m\u001b[0;34m}\u001b[0m\u001b[0;34m)\u001b[0m\u001b[0;34m\u001b[0m\u001b[0m\n\u001b[0m\u001b[1;32m     13\u001b[0m \u001b[0;34m\u001b[0m\u001b[0m\n\u001b[1;32m     14\u001b[0m         \u001b[0mvalidation_accuracy\u001b[0m \u001b[0;34m=\u001b[0m \u001b[0mevaluate\u001b[0m\u001b[0;34m(\u001b[0m\u001b[0mX_validation\u001b[0m\u001b[0;34m,\u001b[0m \u001b[0my_validation\u001b[0m\u001b[0;34m)\u001b[0m\u001b[0;34m\u001b[0m\u001b[0m\n",
      "\u001b[0;32m~/.conda/envs/carnd-term1/lib/python3.5/site-packages/tensorflow/python/client/session.py\u001b[0m in \u001b[0;36mrun\u001b[0;34m(self, fetches, feed_dict, options, run_metadata)\u001b[0m\n\u001b[1;32m    764\u001b[0m     \u001b[0;32mtry\u001b[0m\u001b[0;34m:\u001b[0m\u001b[0;34m\u001b[0m\u001b[0m\n\u001b[1;32m    765\u001b[0m       result = self._run(None, fetches, feed_dict, options_ptr,\n\u001b[0;32m--> 766\u001b[0;31m                          run_metadata_ptr)\n\u001b[0m\u001b[1;32m    767\u001b[0m       \u001b[0;32mif\u001b[0m \u001b[0mrun_metadata\u001b[0m\u001b[0;34m:\u001b[0m\u001b[0;34m\u001b[0m\u001b[0m\n\u001b[1;32m    768\u001b[0m         \u001b[0mproto_data\u001b[0m \u001b[0;34m=\u001b[0m \u001b[0mtf_session\u001b[0m\u001b[0;34m.\u001b[0m\u001b[0mTF_GetBuffer\u001b[0m\u001b[0;34m(\u001b[0m\u001b[0mrun_metadata_ptr\u001b[0m\u001b[0;34m)\u001b[0m\u001b[0;34m\u001b[0m\u001b[0m\n",
      "\u001b[0;32m~/.conda/envs/carnd-term1/lib/python3.5/site-packages/tensorflow/python/client/session.py\u001b[0m in \u001b[0;36m_run\u001b[0;34m(self, handle, fetches, feed_dict, options, run_metadata)\u001b[0m\n\u001b[1;32m    962\u001b[0m     \u001b[0;32mif\u001b[0m \u001b[0mfinal_fetches\u001b[0m \u001b[0;32mor\u001b[0m \u001b[0mfinal_targets\u001b[0m\u001b[0;34m:\u001b[0m\u001b[0;34m\u001b[0m\u001b[0m\n\u001b[1;32m    963\u001b[0m       results = self._do_run(handle, final_targets, final_fetches,\n\u001b[0;32m--> 964\u001b[0;31m                              feed_dict_string, options, run_metadata)\n\u001b[0m\u001b[1;32m    965\u001b[0m     \u001b[0;32melse\u001b[0m\u001b[0;34m:\u001b[0m\u001b[0;34m\u001b[0m\u001b[0m\n\u001b[1;32m    966\u001b[0m       \u001b[0mresults\u001b[0m \u001b[0;34m=\u001b[0m \u001b[0;34m[\u001b[0m\u001b[0;34m]\u001b[0m\u001b[0;34m\u001b[0m\u001b[0m\n",
      "\u001b[0;32m~/.conda/envs/carnd-term1/lib/python3.5/site-packages/tensorflow/python/client/session.py\u001b[0m in \u001b[0;36m_do_run\u001b[0;34m(self, handle, target_list, fetch_list, feed_dict, options, run_metadata)\u001b[0m\n\u001b[1;32m   1012\u001b[0m     \u001b[0;32mif\u001b[0m \u001b[0mhandle\u001b[0m \u001b[0;32mis\u001b[0m \u001b[0;32mNone\u001b[0m\u001b[0;34m:\u001b[0m\u001b[0;34m\u001b[0m\u001b[0m\n\u001b[1;32m   1013\u001b[0m       return self._do_call(_run_fn, self._session, feed_dict, fetch_list,\n\u001b[0;32m-> 1014\u001b[0;31m                            target_list, options, run_metadata)\n\u001b[0m\u001b[1;32m   1015\u001b[0m     \u001b[0;32melse\u001b[0m\u001b[0;34m:\u001b[0m\u001b[0;34m\u001b[0m\u001b[0m\n\u001b[1;32m   1016\u001b[0m       return self._do_call(_prun_fn, self._session, handle, feed_dict,\n",
      "\u001b[0;32m~/.conda/envs/carnd-term1/lib/python3.5/site-packages/tensorflow/python/client/session.py\u001b[0m in \u001b[0;36m_do_call\u001b[0;34m(self, fn, *args)\u001b[0m\n\u001b[1;32m   1032\u001b[0m         \u001b[0;32mexcept\u001b[0m \u001b[0mKeyError\u001b[0m\u001b[0;34m:\u001b[0m\u001b[0;34m\u001b[0m\u001b[0m\n\u001b[1;32m   1033\u001b[0m           \u001b[0;32mpass\u001b[0m\u001b[0;34m\u001b[0m\u001b[0m\n\u001b[0;32m-> 1034\u001b[0;31m       \u001b[0;32mraise\u001b[0m \u001b[0mtype\u001b[0m\u001b[0;34m(\u001b[0m\u001b[0me\u001b[0m\u001b[0;34m)\u001b[0m\u001b[0;34m(\u001b[0m\u001b[0mnode_def\u001b[0m\u001b[0;34m,\u001b[0m \u001b[0mop\u001b[0m\u001b[0;34m,\u001b[0m \u001b[0mmessage\u001b[0m\u001b[0;34m)\u001b[0m\u001b[0;34m\u001b[0m\u001b[0m\n\u001b[0m\u001b[1;32m   1035\u001b[0m \u001b[0;34m\u001b[0m\u001b[0m\n\u001b[1;32m   1036\u001b[0m   \u001b[0;32mdef\u001b[0m \u001b[0m_extend_graph\u001b[0m\u001b[0;34m(\u001b[0m\u001b[0mself\u001b[0m\u001b[0;34m)\u001b[0m\u001b[0;34m:\u001b[0m\u001b[0;34m\u001b[0m\u001b[0m\n",
      "\u001b[0;31mInvalidArgumentError\u001b[0m: You must feed a value for placeholder tensor 'Placeholder' with dtype float\n\t [[Node: Placeholder = Placeholder[dtype=DT_FLOAT, shape=[], _device=\"/job:localhost/replica:0/task:0/cpu:0\"]()]]\n\nCaused by op 'Placeholder', defined at:\n  File \"/home/nfl/.conda/envs/carnd-term1/lib/python3.5/runpy.py\", line 184, in _run_module_as_main\n    \"__main__\", mod_spec)\n  File \"/home/nfl/.conda/envs/carnd-term1/lib/python3.5/runpy.py\", line 85, in _run_code\n    exec(code, run_globals)\n  File \"/home/nfl/.local/lib/python3.5/site-packages/ipykernel_launcher.py\", line 16, in <module>\n    app.launch_new_instance()\n  File \"/home/nfl/.local/lib/python3.5/site-packages/traitlets/config/application.py\", line 658, in launch_instance\n    app.start()\n  File \"/home/nfl/.local/lib/python3.5/site-packages/ipykernel/kernelapp.py\", line 477, in start\n    ioloop.IOLoop.instance().start()\n  File \"/home/nfl/.local/lib/python3.5/site-packages/zmq/eventloop/ioloop.py\", line 177, in start\n    super(ZMQIOLoop, self).start()\n  File \"/home/nfl/.local/lib/python3.5/site-packages/tornado/ioloop.py\", line 888, in start\n    handler_func(fd_obj, events)\n  File \"/home/nfl/.local/lib/python3.5/site-packages/tornado/stack_context.py\", line 277, in null_wrapper\n    return fn(*args, **kwargs)\n  File \"/home/nfl/.local/lib/python3.5/site-packages/zmq/eventloop/zmqstream.py\", line 440, in _handle_events\n    self._handle_recv()\n  File \"/home/nfl/.local/lib/python3.5/site-packages/zmq/eventloop/zmqstream.py\", line 472, in _handle_recv\n    self._run_callback(callback, msg)\n  File \"/home/nfl/.local/lib/python3.5/site-packages/zmq/eventloop/zmqstream.py\", line 414, in _run_callback\n    callback(*args, **kwargs)\n  File \"/home/nfl/.local/lib/python3.5/site-packages/tornado/stack_context.py\", line 277, in null_wrapper\n    return fn(*args, **kwargs)\n  File \"/home/nfl/.local/lib/python3.5/site-packages/ipykernel/kernelbase.py\", line 283, in dispatcher\n    return self.dispatch_shell(stream, msg)\n  File \"/home/nfl/.local/lib/python3.5/site-packages/ipykernel/kernelbase.py\", line 235, in dispatch_shell\n    handler(stream, idents, msg)\n  File \"/home/nfl/.local/lib/python3.5/site-packages/ipykernel/kernelbase.py\", line 399, in execute_request\n    user_expressions, allow_stdin)\n  File \"/home/nfl/.local/lib/python3.5/site-packages/ipykernel/ipkernel.py\", line 196, in do_execute\n    res = shell.run_cell(code, store_history=store_history, silent=silent)\n  File \"/home/nfl/.local/lib/python3.5/site-packages/ipykernel/zmqshell.py\", line 533, in run_cell\n    return super(ZMQInteractiveShell, self).run_cell(*args, **kwargs)\n  File \"/home/nfl/.local/lib/python3.5/site-packages/IPython/core/interactiveshell.py\", line 2698, in run_cell\n    interactivity=interactivity, compiler=compiler, result=result)\n  File \"/home/nfl/.local/lib/python3.5/site-packages/IPython/core/interactiveshell.py\", line 2802, in run_ast_nodes\n    if self.run_code(code, result):\n  File \"/home/nfl/.local/lib/python3.5/site-packages/IPython/core/interactiveshell.py\", line 2862, in run_code\n    exec(code_obj, self.user_global_ns, self.user_ns)\n  File \"<ipython-input-13-98d156b74162>\", line 1, in <module>\n    x = tf.placeholder(tf.float32, (None, 32, 32, 1))\n  File \"/home/nfl/.conda/envs/carnd-term1/lib/python3.5/site-packages/tensorflow/python/ops/array_ops.py\", line 1587, in placeholder\n    name=name)\n  File \"/home/nfl/.conda/envs/carnd-term1/lib/python3.5/site-packages/tensorflow/python/ops/gen_array_ops.py\", line 2043, in _placeholder\n    name=name)\n  File \"/home/nfl/.conda/envs/carnd-term1/lib/python3.5/site-packages/tensorflow/python/framework/op_def_library.py\", line 759, in apply_op\n    op_def=op_def)\n  File \"/home/nfl/.conda/envs/carnd-term1/lib/python3.5/site-packages/tensorflow/python/framework/ops.py\", line 2240, in create_op\n    original_op=self._default_original_op, op_def=op_def)\n  File \"/home/nfl/.conda/envs/carnd-term1/lib/python3.5/site-packages/tensorflow/python/framework/ops.py\", line 1128, in __init__\n    self._traceback = _extract_stack()\n\nInvalidArgumentError (see above for traceback): You must feed a value for placeholder tensor 'Placeholder' with dtype float\n\t [[Node: Placeholder = Placeholder[dtype=DT_FLOAT, shape=[], _device=\"/job:localhost/replica:0/task:0/cpu:0\"]()]]\n"
     ]
    }
   ],
   "source": [
    "with tf.Session() as sess:\n",
    "    sess.run(tf.global_variables_initializer())\n",
    "    num_examples = len(X_train)\n",
    "    \n",
    "    print(\"Training...\")\n",
    "    print()\n",
    "    for i in range(EPOCHS):\n",
    "        X_train, y_train = shuffle(X_train_gray, y_train)\n",
    "        for offset in range(0, num_examples, BATCH_SIZE):\n",
    "            end = offset + BATCH_SIZE\n",
    "            batch_x, batch_y = X_train[offset:end], y_train[offset:end]\n",
    "            sess.run(training_operation, feed_dict={x: batch_x, y: batch_y})\n",
    "            \n",
    "        validation_accuracy = evaluate(X_validation, y_validation)\n",
    "        print(\"EPOCH {} ...\".format(i+1))\n",
    "        print(\"Validation Accuracy = {:.3f}\".format(validation_accuracy))\n",
    "        print()\n",
    "        \n",
    "    saver.save(sess, './lenet')\n",
    "    print(\"Model saved\")"
   ]
  },
  {
=======
>>>>>>> 0c1bb3b8d80e9b1251a89528b0105a1fb1e9b431
   "cell_type": "markdown",
   "metadata": {},
   "source": [
    "---\n",
    "\n",
    "## Step 3: Test a Model on New Images\n",
    "\n",
    "To give yourself more insight into how your model is working, download at least five pictures of German traffic signs from the web and use your model to predict the traffic sign type.\n",
    "\n",
    "You may find `signnames.csv` useful as it contains mappings from the class id (integer) to the actual sign name."
   ]
  },
  {
   "cell_type": "markdown",
   "metadata": {},
   "source": [
    "### Load and Output the Images"
   ]
  },
  {
   "cell_type": "code",
   "execution_count": null,
   "metadata": {
    "collapsed": true
   },
   "outputs": [],
   "source": [
    "### Load the images and plot them here.\n",
    "### Feel free to use as many code cells as needed."
   ]
  },
  {
   "cell_type": "markdown",
   "metadata": {},
   "source": [
    "### Predict the Sign Type for Each Image"
   ]
  },
  {
   "cell_type": "code",
   "execution_count": null,
   "metadata": {
    "collapsed": true
   },
   "outputs": [],
   "source": [
    "### Run the predictions here and use the model to output the prediction for each image.\n",
    "### Make sure to pre-process the images with the same pre-processing pipeline used earlier.\n",
    "### Feel free to use as many code cells as needed."
   ]
  },
  {
   "cell_type": "markdown",
   "metadata": {},
   "source": [
    "### Analyze Performance"
   ]
  },
  {
   "cell_type": "code",
   "execution_count": null,
   "metadata": {
    "collapsed": true
   },
   "outputs": [],
   "source": [
    "### Calculate the accuracy for these 5 new images. \n",
    "### For example, if the model predicted 1 out of 5 signs correctly, it's 20% accurate on these new images."
   ]
  },
  {
   "cell_type": "markdown",
   "metadata": {},
   "source": [
    "### Output Top 5 Softmax Probabilities For Each Image Found on the Web"
   ]
  },
  {
   "cell_type": "markdown",
   "metadata": {},
   "source": [
    "For each of the new images, print out the model's softmax probabilities to show the **certainty** of the model's predictions (limit the output to the top 5 probabilities for each image). [`tf.nn.top_k`](https://www.tensorflow.org/versions/r0.12/api_docs/python/nn.html#top_k) could prove helpful here. \n",
    "\n",
    "The example below demonstrates how tf.nn.top_k can be used to find the top k predictions for each image.\n",
    "\n",
    "`tf.nn.top_k` will return the values and indices (class ids) of the top k predictions. So if k=3, for each sign, it'll return the 3 largest probabilities (out of a possible 43) and the correspoding class ids.\n",
    "\n",
    "Take this numpy array as an example. The values in the array represent predictions. The array contains softmax probabilities for five candidate images with six possible classes. `tk.nn.top_k` is used to choose the three classes with the highest probability:\n",
    "\n",
    "```\n",
    "# (5, 6) array\n",
    "a = np.array([[ 0.24879643,  0.07032244,  0.12641572,  0.34763842,  0.07893497,\n",
    "         0.12789202],\n",
    "       [ 0.28086119,  0.27569815,  0.08594638,  0.0178669 ,  0.18063401,\n",
    "         0.15899337],\n",
    "       [ 0.26076848,  0.23664738,  0.08020603,  0.07001922,  0.1134371 ,\n",
    "         0.23892179],\n",
    "       [ 0.11943333,  0.29198961,  0.02605103,  0.26234032,  0.1351348 ,\n",
    "         0.16505091],\n",
    "       [ 0.09561176,  0.34396535,  0.0643941 ,  0.16240774,  0.24206137,\n",
    "         0.09155967]])\n",
    "```\n",
    "\n",
    "Running it through `sess.run(tf.nn.top_k(tf.constant(a), k=3))` produces:\n",
    "\n",
    "```\n",
    "TopKV2(values=array([[ 0.34763842,  0.24879643,  0.12789202],\n",
    "       [ 0.28086119,  0.27569815,  0.18063401],\n",
    "       [ 0.26076848,  0.23892179,  0.23664738],\n",
    "       [ 0.29198961,  0.26234032,  0.16505091],\n",
    "       [ 0.34396535,  0.24206137,  0.16240774]]), indices=array([[3, 0, 5],\n",
    "       [0, 1, 4],\n",
    "       [0, 5, 1],\n",
    "       [1, 3, 5],\n",
    "       [1, 4, 3]], dtype=int32))\n",
    "```\n",
    "\n",
    "Looking just at the first row we get `[ 0.34763842,  0.24879643,  0.12789202]`, you can confirm these are the 3 largest probabilities in `a`. You'll also notice `[3, 0, 5]` are the corresponding indices."
   ]
  },
  {
   "cell_type": "code",
   "execution_count": null,
   "metadata": {
    "collapsed": true
   },
   "outputs": [],
   "source": [
    "### Print out the top five softmax probabilities for the predictions on the German traffic sign images found on the web. \n",
    "### Feel free to use as many code cells as needed."
   ]
  },
  {
   "cell_type": "markdown",
   "metadata": {},
   "source": [
    "### Project Writeup\n",
    "\n",
    "Once you have completed the code implementation, document your results in a project writeup using this [template](https://github.com/udacity/CarND-Traffic-Sign-Classifier-Project/blob/master/writeup_template.md) as a guide. The writeup can be in a markdown or pdf file. "
   ]
  },
  {
   "cell_type": "markdown",
   "metadata": {},
   "source": [
    "> **Note**: Once you have completed all of the code implementations and successfully answered each question above, you may finalize your work by exporting the iPython Notebook as an HTML document. You can do this by using the menu above and navigating to  \\n\",\n",
    "    \"**File -> Download as -> HTML (.html)**. Include the finished document along with this notebook as your submission."
   ]
  },
  {
   "cell_type": "markdown",
   "metadata": {},
   "source": [
    "---\n",
    "\n",
    "## Step 4 (Optional): Visualize the Neural Network's State with Test Images\n",
    "\n",
    " This Section is not required to complete but acts as an additional excersise for understaning the output of a neural network's weights. While neural networks can be a great learning device they are often referred to as a black box. We can understand what the weights of a neural network look like better by plotting their feature maps. After successfully training your neural network you can see what it's feature maps look like by plotting the output of the network's weight layers in response to a test stimuli image. From these plotted feature maps, it's possible to see what characteristics of an image the network finds interesting. For a sign, maybe the inner network feature maps react with high activation to the sign's boundary outline or to the contrast in the sign's painted symbol.\n",
    "\n",
    " Provided for you below is the function code that allows you to get the visualization output of any tensorflow weight layer you want. The inputs to the function should be a stimuli image, one used during training or a new one you provided, and then the tensorflow variable name that represents the layer's state during the training process, for instance if you wanted to see what the [LeNet lab's](https://classroom.udacity.com/nanodegrees/nd013/parts/fbf77062-5703-404e-b60c-95b78b2f3f9e/modules/6df7ae49-c61c-4bb2-a23e-6527e69209ec/lessons/601ae704-1035-4287-8b11-e2c2716217ad/concepts/d4aca031-508f-4e0b-b493-e7b706120f81) feature maps looked like for it's second convolutional layer you could enter conv2 as the tf_activation variable.\n",
    "\n",
    "For an example of what feature map outputs look like, check out NVIDIA's results in their paper [End-to-End Deep Learning for Self-Driving Cars](https://devblogs.nvidia.com/parallelforall/deep-learning-self-driving-cars/) in the section Visualization of internal CNN State. NVIDIA was able to show that their network's inner weights had high activations to road boundary lines by comparing feature maps from an image with a clear path to one without. Try experimenting with a similar test to show that your trained network's weights are looking for interesting features, whether it's looking at differences in feature maps from images with or without a sign, or even what feature maps look like in a trained network vs a completely untrained one on the same sign image.\n",
    "\n",
    "<figure>\n",
    " <img src=\"visualize_cnn.png\" width=\"380\" alt=\"Combined Image\" />\n",
    " <figcaption>\n",
    " <p></p> \n",
    " <p style=\"text-align: center;\"> Your output should look something like this (above)</p> \n",
    " </figcaption>\n",
    "</figure>\n",
    " <p></p> \n"
   ]
  },
  {
   "cell_type": "code",
   "execution_count": null,
   "metadata": {
    "collapsed": true
   },
   "outputs": [],
   "source": [
    "### Visualize your network's feature maps here.\n",
    "### Feel free to use as many code cells as needed.\n",
    "\n",
    "# image_input: the test image being fed into the network to produce the feature maps\n",
    "# tf_activation: should be a tf variable name used during your training procedure that represents the calculated state of a specific weight layer\n",
    "# activation_min/max: can be used to view the activation contrast in more detail, by default matplot sets min and max to the actual min and max values of the output\n",
    "# plt_num: used to plot out multiple different weight feature map sets on the same block, just extend the plt number for each new feature map entry\n",
    "\n",
    "def outputFeatureMap(image_input, tf_activation, activation_min=-1, activation_max=-1 ,plt_num=1):\n",
    "    # Here make sure to preprocess your image_input in a way your network expects\n",
    "    # with size, normalization, ect if needed\n",
    "    # image_input =\n",
    "    # Note: x should be the same name as your network's tensorflow data placeholder variable\n",
    "    # If you get an error tf_activation is not defined it may be having trouble accessing the variable from inside a function\n",
    "    activation = tf_activation.eval(session=sess,feed_dict={x : image_input})\n",
    "    featuremaps = activation.shape[3]\n",
    "    plt.figure(plt_num, figsize=(15,15))\n",
    "    for featuremap in range(featuremaps):\n",
    "        plt.subplot(6,8, featuremap+1) # sets the number of feature maps to show on each row and column\n",
    "        plt.title('FeatureMap ' + str(featuremap)) # displays the feature map number\n",
    "        if activation_min != -1 & activation_max != -1:\n",
    "            plt.imshow(activation[0,:,:, featuremap], interpolation=\"nearest\", vmin =activation_min, vmax=activation_max, cmap=\"gray\")\n",
    "        elif activation_max != -1:\n",
    "            plt.imshow(activation[0,:,:, featuremap], interpolation=\"nearest\", vmax=activation_max, cmap=\"gray\")\n",
    "        elif activation_min !=-1:\n",
    "            plt.imshow(activation[0,:,:, featuremap], interpolation=\"nearest\", vmin=activation_min, cmap=\"gray\")\n",
    "        else:\n",
    "            plt.imshow(activation[0,:,:, featuremap], interpolation=\"nearest\", cmap=\"gray\")"
   ]
  }
 ],
 "metadata": {
  "anaconda-cloud": {},
  "kernelspec": {
   "display_name": "Python 3",
   "language": "python",
   "name": "python3"
  },
  "language_info": {
   "codemirror_mode": {
    "name": "ipython",
    "version": 3
   },
   "file_extension": ".py",
   "mimetype": "text/x-python",
   "name": "python",
   "nbconvert_exporter": "python",
   "pygments_lexer": "ipython3",
   "version": "3.5.2"
  }
 },
 "nbformat": 4,
 "nbformat_minor": 1
}
