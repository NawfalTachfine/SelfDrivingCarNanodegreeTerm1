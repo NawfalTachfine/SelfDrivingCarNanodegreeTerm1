{
 "cells": [
  {
   "cell_type": "markdown",
   "metadata": {},
   "source": [
    "# Data Prep+Aug"
   ]
  },
  {
   "cell_type": "code",
   "execution_count": 1,
   "metadata": {},
   "outputs": [],
   "source": [
    "import pandas as pd\n",
    "import numpy as np\n",
    "import os\n",
    "import csv\n",
    "import cv2"
   ]
  },
  {
   "cell_type": "code",
   "execution_count": 2,
   "metadata": {},
   "outputs": [
    {
     "data": {
      "text/html": [
       "<div>\n",
       "<table border=\"1\" class=\"dataframe\">\n",
       "  <thead>\n",
       "    <tr style=\"text-align: right;\">\n",
       "      <th></th>\n",
       "      <th>steering</th>\n",
       "      <th>throttle</th>\n",
       "      <th>brake</th>\n",
       "      <th>speed</th>\n",
       "    </tr>\n",
       "  </thead>\n",
       "  <tbody>\n",
       "    <tr>\n",
       "      <th>count</th>\n",
       "      <td>8036.000000</td>\n",
       "      <td>8036.000000</td>\n",
       "      <td>8036.000000</td>\n",
       "      <td>8036.000000</td>\n",
       "    </tr>\n",
       "    <tr>\n",
       "      <th>mean</th>\n",
       "      <td>0.004070</td>\n",
       "      <td>0.869660</td>\n",
       "      <td>0.001970</td>\n",
       "      <td>28.169839</td>\n",
       "    </tr>\n",
       "    <tr>\n",
       "      <th>std</th>\n",
       "      <td>0.128840</td>\n",
       "      <td>0.301326</td>\n",
       "      <td>0.036565</td>\n",
       "      <td>6.149327</td>\n",
       "    </tr>\n",
       "    <tr>\n",
       "      <th>min</th>\n",
       "      <td>-0.942695</td>\n",
       "      <td>0.000000</td>\n",
       "      <td>0.000000</td>\n",
       "      <td>0.502490</td>\n",
       "    </tr>\n",
       "    <tr>\n",
       "      <th>25%</th>\n",
       "      <td>0.000000</td>\n",
       "      <td>0.985533</td>\n",
       "      <td>0.000000</td>\n",
       "      <td>30.183093</td>\n",
       "    </tr>\n",
       "    <tr>\n",
       "      <th>50%</th>\n",
       "      <td>0.000000</td>\n",
       "      <td>0.985533</td>\n",
       "      <td>0.000000</td>\n",
       "      <td>30.186400</td>\n",
       "    </tr>\n",
       "    <tr>\n",
       "      <th>75%</th>\n",
       "      <td>0.000000</td>\n",
       "      <td>0.985533</td>\n",
       "      <td>0.000000</td>\n",
       "      <td>30.186640</td>\n",
       "    </tr>\n",
       "    <tr>\n",
       "      <th>max</th>\n",
       "      <td>1.000000</td>\n",
       "      <td>0.985533</td>\n",
       "      <td>1.000000</td>\n",
       "      <td>30.709360</td>\n",
       "    </tr>\n",
       "  </tbody>\n",
       "</table>\n",
       "</div>"
      ],
      "text/plain": [
       "          steering     throttle        brake        speed\n",
       "count  8036.000000  8036.000000  8036.000000  8036.000000\n",
       "mean      0.004070     0.869660     0.001970    28.169839\n",
       "std       0.128840     0.301326     0.036565     6.149327\n",
       "min      -0.942695     0.000000     0.000000     0.502490\n",
       "25%       0.000000     0.985533     0.000000    30.183093\n",
       "50%       0.000000     0.985533     0.000000    30.186400\n",
       "75%       0.000000     0.985533     0.000000    30.186640\n",
       "max       1.000000     0.985533     1.000000    30.709360"
      ]
     },
     "execution_count": 2,
     "metadata": {},
     "output_type": "execute_result"
    }
   ],
   "source": [
    "driving_log = pd.DataFrame.from_csv('sample_data/driving_log.csv')\n",
    "driving_log.describe()"
   ]
  },
  {
   "cell_type": "code",
   "execution_count": null,
   "metadata": {},
   "outputs": [],
   "source": [
    "# initial loop, no augmentation\n",
    "\n",
    "\"\"\"\n",
    "for line in lines[1:]:\n",
    "    fn = line[0] #.split('/')[-1]\n",
    "    img = cv2.imread('sample_data/'+fn)\n",
    "    images.append(img)\n",
    "    measurements.append(float(line[3]))    \n",
    "\"\"\"\n",
    "print()"
   ]
  },
  {
   "cell_type": "code",
   "execution_count": null,
   "metadata": {},
   "outputs": [],
   "source": [
    "# second loopo, added flipping\n",
    "\n",
    "\"\"\"\n",
    "for line in lines[1:]:\n",
    "    fn = line[0] #.split('/')[-1]\n",
    "    img = cv2.imread('sample_data/'+fn)\n",
    "    \n",
    "    images.append(img)\n",
    "    measurements.append(float(line[3]))    \n",
    "        \n",
    "    images.append(cv2.flip(img,1))\n",
    "    measurements.append( -1.0 * float(line[3])) \n",
    "\"\"\"\n",
    "print()"
   ]
  },
  {
   "cell_type": "code",
   "execution_count": 3,
   "metadata": {},
   "outputs": [],
   "source": [
    "# third loop, added multiple cameras\n",
    "\n",
    "CORRECTION = 0.2\n",
    "\n",
    "images = []\n",
    "measurements = []\n",
    "\n",
    "with open('sample_data/driving_log.csv', 'r') as f:\n",
    "    reader = csv.reader(f)\n",
    "    next(reader, None)\n",
    "    c = 0\n",
    "    for row in reader:\n",
    "        img_center = cv2.imread('sample_data/' + row[0].strip())\n",
    "        img_left = cv2.imread('sample_data/' + row[1].strip())\n",
    "        img_right = cv2.imread('sample_data/' + row[2].strip())\n",
    "        img = [img_center, img_left, img_right]\n",
    "        \n",
    "        steer_center = float(row[3])\n",
    "        steer_left = steer_center + CORRECTION\n",
    "        steer_right = steer_center - CORRECTION\n",
    "        steer = [steer_center, steer_left, steer_right]\n",
    "\n",
    "        # normal\n",
    "        images.extend(img)\n",
    "        # images.append(img_center)\n",
    "        measurements.extend(steer)    \n",
    "\n",
    "        # flipped\n",
    "        images.extend([cv2.flip(i,1) for i in img])\n",
    "        measurements.extend([-1.0 * s for s in steer])   \n",
    "        \n",
    "        if c > 5000: break\n",
    "        c += 1"
   ]
  },
  {
   "cell_type": "code",
   "execution_count": 4,
   "metadata": {},
   "outputs": [],
   "source": [
    "X_train = np.array(images)\n",
    "y_train = np.array(measurements)"
   ]
  },
  {
   "cell_type": "code",
   "execution_count": 5,
   "metadata": {},
   "outputs": [
    {
     "data": {
      "text/plain": [
       "(30012, 160, 320, 3)"
      ]
     },
     "execution_count": 5,
     "metadata": {},
     "output_type": "execute_result"
    }
   ],
   "source": [
    "X_train.shape"
   ]
  },
  {
   "cell_type": "markdown",
   "metadata": {},
   "source": [
    "---\n",
    "# Model Architecture"
   ]
  },
  {
   "cell_type": "code",
   "execution_count": 7,
   "metadata": {},
   "outputs": [],
   "source": [
    "from keras.models import Sequential\n",
    "from keras.layers.core import Dense, Activation, Flatten, Lambda\n",
    "from keras.layers.convolutional import Convolution2D\n",
    "from keras.layers import Cropping2D\n",
    "\n",
    "#from keras.layers.pooling"
   ]
  },
  {
   "cell_type": "code",
   "execution_count": 8,
   "metadata": {
    "collapsed": true
   },
   "outputs": [],
   "source": [
    "EPOCHS = 10"
   ]
  },
  {
   "cell_type": "code",
   "execution_count": 9,
   "metadata": {},
   "outputs": [],
   "source": [
    "model = Sequential()\n",
    "\n",
    "# normalize\n",
    "model.add(Lambda(lambda x: x/255.0 - 0.5, input_shape=(160, 320, 3)))\n",
    "\n",
    "# crop\n",
    "model.add(Cropping2D(cropping=((70,25), (0,0))))"
   ]
  },
  {
   "cell_type": "code",
   "execution_count": null,
   "metadata": {},
   "outputs": [],
   "source": [
    "# dummy architecture\n",
    "\"\"\"\n",
    "model.add(Flatten())\n",
    "model.add(Dense(1))\n",
    "\"\"\""
   ]
  },
  {
   "cell_type": "code",
   "execution_count": 10,
   "metadata": {},
   "outputs": [],
   "source": [
    "# nvidia architecture\n",
    "\n",
    "model.add(Convolution2D(nb_filter=24,  nb_row=5, nb_col=5, subsample=(2,2), activation='relu'))\n",
    "model.add(Convolution2D(nb_filter=36,  nb_row=5, nb_col=5, subsample=(2,2), activation='relu'))\n",
    "model.add(Convolution2D(nb_filter=48,  nb_row=5, nb_col=5, subsample=(2,2), activation='relu'))\n",
    "\n",
    "model.add(Convolution2D(nb_filter=64,  nb_row=3, nb_col=3, activation='relu'))\n",
    "model.add(Convolution2D(nb_filter=64,  nb_row=3, nb_col=3, activation='relu'))\n",
    "\n",
    "model.add(Flatten())\n",
    "\n",
    "model.add(Dense(100))\n",
    "model.add(Dense(50))\n",
    "model.add(Dense(1))"
   ]
  },
  {
   "cell_type": "code",
   "execution_count": null,
   "metadata": {},
   "outputs": [
    {
     "name": "stdout",
     "output_type": "stream",
     "text": [
      "Train on 24009 samples, validate on 6003 samples\n",
      "Epoch 1/10\n",
      "24009/24009 [==============================] - 55s - loss: 0.0173 - val_loss: 0.0274\n",
      "Epoch 2/10\n",
      "24009/24009 [==============================] - 51s - loss: 0.0136 - val_loss: 0.0294\n",
      "Epoch 3/10\n",
      "24009/24009 [==============================] - 51s - loss: 0.0125 - val_loss: 0.0270\n",
      "Epoch 4/10\n",
      "24009/24009 [==============================] - 51s - loss: 0.0114 - val_loss: 0.0274\n",
      "Epoch 5/10\n",
      "24009/24009 [==============================] - 51s - loss: 0.0107 - val_loss: 0.0297\n",
      "Epoch 6/10\n",
      " 6720/24009 [=======>......................] - ETA: 32s - loss: 0.0095"
     ]
    }
   ],
   "source": [
    "model.compile(loss='mse', optimizer='adam')\n",
    "\n",
    "model.fit(X_train, y_train, validation_split=0.2, shuffle=True, nb_epoch=EPOCHS, verbose=1)"
   ]
  },
  {
   "cell_type": "code",
   "execution_count": null,
   "metadata": {},
   "outputs": [],
   "source": [
    "model.save('models/momo2.h5')"
   ]
  }
 ],
 "metadata": {
  "kernelspec": {
   "display_name": "Python 3",
   "language": "python",
   "name": "python3"
  },
  "language_info": {
   "codemirror_mode": {
    "name": "ipython",
    "version": 3
   },
   "file_extension": ".py",
   "mimetype": "text/x-python",
   "name": "python",
   "nbconvert_exporter": "python",
   "pygments_lexer": "ipython3",
   "version": "3.5.2"
  },
  "widgets": {
   "state": {},
   "version": "1.1.2"
  }
 },
 "nbformat": 4,
 "nbformat_minor": 2
}
