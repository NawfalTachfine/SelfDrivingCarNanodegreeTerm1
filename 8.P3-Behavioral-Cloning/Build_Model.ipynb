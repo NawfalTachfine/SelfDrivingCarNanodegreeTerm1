{
 "cells": [
  {
   "cell_type": "markdown",
   "metadata": {},
   "source": [
    "# Data Prep"
   ]
  },
  {
   "cell_type": "code",
   "execution_count": 18,
   "metadata": {},
   "outputs": [],
   "source": [
    "import pandas as pd\n",
    "import numpy as np\n",
    "import os\n",
    "import csv\n",
    "import cv2"
   ]
  },
  {
   "cell_type": "code",
   "execution_count": 8,
   "metadata": {},
   "outputs": [
    {
     "data": {
      "text/html": [
       "<div>\n",
       "<table border=\"1\" class=\"dataframe\">\n",
       "  <thead>\n",
       "    <tr style=\"text-align: right;\">\n",
       "      <th></th>\n",
       "      <th>left</th>\n",
       "      <th>right</th>\n",
       "      <th>steering</th>\n",
       "      <th>throttle</th>\n",
       "      <th>brake</th>\n",
       "      <th>speed</th>\n",
       "    </tr>\n",
       "    <tr>\n",
       "      <th>center</th>\n",
       "      <th></th>\n",
       "      <th></th>\n",
       "      <th></th>\n",
       "      <th></th>\n",
       "      <th></th>\n",
       "      <th></th>\n",
       "    </tr>\n",
       "  </thead>\n",
       "  <tbody>\n",
       "    <tr>\n",
       "      <th>IMG/center_2016_12_01_13_30_48_287.jpg</th>\n",
       "      <td>IMG/left_2016_12_01_13_30_48_287.jpg</td>\n",
       "      <td>IMG/right_2016_12_01_13_30_48_287.jpg</td>\n",
       "      <td>0.0</td>\n",
       "      <td>0.0</td>\n",
       "      <td>0.0</td>\n",
       "      <td>22.148290</td>\n",
       "    </tr>\n",
       "    <tr>\n",
       "      <th>IMG/center_2016_12_01_13_30_48_404.jpg</th>\n",
       "      <td>IMG/left_2016_12_01_13_30_48_404.jpg</td>\n",
       "      <td>IMG/right_2016_12_01_13_30_48_404.jpg</td>\n",
       "      <td>0.0</td>\n",
       "      <td>0.0</td>\n",
       "      <td>0.0</td>\n",
       "      <td>21.879630</td>\n",
       "    </tr>\n",
       "    <tr>\n",
       "      <th>IMG/center_2016_12_01_13_31_12_937.jpg</th>\n",
       "      <td>IMG/left_2016_12_01_13_31_12_937.jpg</td>\n",
       "      <td>IMG/right_2016_12_01_13_31_12_937.jpg</td>\n",
       "      <td>0.0</td>\n",
       "      <td>0.0</td>\n",
       "      <td>0.0</td>\n",
       "      <td>1.453011</td>\n",
       "    </tr>\n",
       "    <tr>\n",
       "      <th>IMG/center_2016_12_01_13_31_13_037.jpg</th>\n",
       "      <td>IMG/left_2016_12_01_13_31_13_037.jpg</td>\n",
       "      <td>IMG/right_2016_12_01_13_31_13_037.jpg</td>\n",
       "      <td>0.0</td>\n",
       "      <td>0.0</td>\n",
       "      <td>0.0</td>\n",
       "      <td>1.438419</td>\n",
       "    </tr>\n",
       "    <tr>\n",
       "      <th>IMG/center_2016_12_01_13_31_13_177.jpg</th>\n",
       "      <td>IMG/left_2016_12_01_13_31_13_177.jpg</td>\n",
       "      <td>IMG/right_2016_12_01_13_31_13_177.jpg</td>\n",
       "      <td>0.0</td>\n",
       "      <td>0.0</td>\n",
       "      <td>0.0</td>\n",
       "      <td>1.418236</td>\n",
       "    </tr>\n",
       "  </tbody>\n",
       "</table>\n",
       "</div>"
      ],
      "text/plain": [
       "                                                                         left  \\\n",
       "center                                                                          \n",
       "IMG/center_2016_12_01_13_30_48_287.jpg   IMG/left_2016_12_01_13_30_48_287.jpg   \n",
       "IMG/center_2016_12_01_13_30_48_404.jpg   IMG/left_2016_12_01_13_30_48_404.jpg   \n",
       "IMG/center_2016_12_01_13_31_12_937.jpg   IMG/left_2016_12_01_13_31_12_937.jpg   \n",
       "IMG/center_2016_12_01_13_31_13_037.jpg   IMG/left_2016_12_01_13_31_13_037.jpg   \n",
       "IMG/center_2016_12_01_13_31_13_177.jpg   IMG/left_2016_12_01_13_31_13_177.jpg   \n",
       "\n",
       "                                                                         right  \\\n",
       "center                                                                           \n",
       "IMG/center_2016_12_01_13_30_48_287.jpg   IMG/right_2016_12_01_13_30_48_287.jpg   \n",
       "IMG/center_2016_12_01_13_30_48_404.jpg   IMG/right_2016_12_01_13_30_48_404.jpg   \n",
       "IMG/center_2016_12_01_13_31_12_937.jpg   IMG/right_2016_12_01_13_31_12_937.jpg   \n",
       "IMG/center_2016_12_01_13_31_13_037.jpg   IMG/right_2016_12_01_13_31_13_037.jpg   \n",
       "IMG/center_2016_12_01_13_31_13_177.jpg   IMG/right_2016_12_01_13_31_13_177.jpg   \n",
       "\n",
       "                                        steering  throttle  brake      speed  \n",
       "center                                                                        \n",
       "IMG/center_2016_12_01_13_30_48_287.jpg       0.0       0.0    0.0  22.148290  \n",
       "IMG/center_2016_12_01_13_30_48_404.jpg       0.0       0.0    0.0  21.879630  \n",
       "IMG/center_2016_12_01_13_31_12_937.jpg       0.0       0.0    0.0   1.453011  \n",
       "IMG/center_2016_12_01_13_31_13_037.jpg       0.0       0.0    0.0   1.438419  \n",
       "IMG/center_2016_12_01_13_31_13_177.jpg       0.0       0.0    0.0   1.418236  "
      ]
     },
     "execution_count": 8,
     "metadata": {},
     "output_type": "execute_result"
    }
   ],
   "source": [
    "driving_log = pd.DataFrame.from_csv('sample_data/driving_log.csv')\n",
    "\n",
    "driving_log.head()\n"
   ]
  },
  {
   "cell_type": "code",
   "execution_count": 12,
   "metadata": {},
   "outputs": [],
   "source": [
    "lines = []\n",
    "with open('sample_data/driving_log.csv') as f:\n",
    "    reader = csv.reader(f)\n",
    "    for line in reader:\n",
    "        lines.append(line)"
   ]
  },
  {
   "cell_type": "code",
   "execution_count": 32,
   "metadata": {},
   "outputs": [],
   "source": [
    "images = []\n",
    "measurements = []\n",
    "\n",
    "for line in lines[1:]:\n",
    "    fn = line[0] #.split('/')[-1]\n",
    "    img = cv2.imread('sample_data/'+fn)\n",
    "    images.append(img)\n",
    "    measurements.append(float(line[3]))    \n"
   ]
  },
  {
   "cell_type": "code",
   "execution_count": 33,
   "metadata": {},
   "outputs": [],
   "source": [
    "X_train = np.array(images)\n",
    "y_train = np.array(measurements)"
   ]
  },
  {
   "cell_type": "code",
   "execution_count": 34,
   "metadata": {},
   "outputs": [
    {
     "data": {
      "text/plain": [
       "(8036, 160, 320, 3)"
      ]
     },
     "execution_count": 34,
     "metadata": {},
     "output_type": "execute_result"
    }
   ],
   "source": [
    "X_train.shape"
   ]
  },
  {
   "cell_type": "markdown",
   "metadata": {},
   "source": [
    "---\n",
    "# Model Architecture"
   ]
  },
  {
   "cell_type": "code",
   "execution_count": 35,
   "metadata": {
    "collapsed": true
   },
   "outputs": [],
   "source": [
    "from keras.models import Sequential\n",
    "from keras.layers.core import Dense, Activation, Flatten"
   ]
  },
  {
   "cell_type": "code",
   "execution_count": 36,
   "metadata": {
    "collapsed": true
   },
   "outputs": [],
   "source": [
    "EPOCHS = 7"
   ]
  },
  {
   "cell_type": "code",
   "execution_count": 37,
   "metadata": {
    "collapsed": true
   },
   "outputs": [],
   "source": [
    "model = Sequential()\n",
    "\n",
    "model.add(Flatten(input_shape=(160, 320, 3)))\n",
    "model.add(Dense(1))\n",
    "\n",
    "model.compile(loss='mse', optimizer='adam')"
   ]
  },
  {
   "cell_type": "code",
   "execution_count": 38,
   "metadata": {},
   "outputs": [
    {
     "name": "stdout",
     "output_type": "stream",
     "text": [
      "Train on 6428 samples, validate on 1608 samples\n",
      "Epoch 1/7\n",
      "6428/6428 [==============================] - 10s - loss: 5065333.7002 - val_loss: 4074.5867\n",
      "Epoch 2/7\n",
      "6428/6428 [==============================] - 9s - loss: 3837.4225 - val_loss: 10468.4729\n",
      "Epoch 3/7\n",
      "6428/6428 [==============================] - 9s - loss: 2620.6886 - val_loss: 1910.4305\n",
      "Epoch 4/7\n",
      "6428/6428 [==============================] - 9s - loss: 2416.5906 - val_loss: 1988.0142\n",
      "Epoch 5/7\n",
      "6428/6428 [==============================] - 9s - loss: 1987.9325 - val_loss: 4431.4591\n",
      "Epoch 6/7\n",
      "6428/6428 [==============================] - 9s - loss: 2692.5387 - val_loss: 1768.6174\n",
      "Epoch 7/7\n",
      "6428/6428 [==============================] - 9s - loss: 5099.8425 - val_loss: 6009.6960\n"
     ]
    },
    {
     "data": {
      "text/plain": [
       "<keras.callbacks.History at 0x7fa205cfecc0>"
      ]
     },
     "execution_count": 38,
     "metadata": {},
     "output_type": "execute_result"
    }
   ],
   "source": [
    "model.fit(X_train, y_train, validation_split=0.2, shuffle=True, nb_epoch=EPOCHS, verbose=1)"
   ]
  },
  {
   "cell_type": "code",
   "execution_count": 41,
   "metadata": {},
   "outputs": [],
   "source": [
    "model.save('models/momo.h5')"
   ]
  }
 ],
 "metadata": {
  "kernelspec": {
   "display_name": "Python 3",
   "language": "python",
   "name": "python3"
  },
  "language_info": {
   "codemirror_mode": {
    "name": "ipython",
    "version": 3
   },
   "file_extension": ".py",
   "mimetype": "text/x-python",
   "name": "python",
   "nbconvert_exporter": "python",
   "pygments_lexer": "ipython3",
   "version": "3.5.2"
  },
  "widgets": {
   "state": {},
   "version": "1.1.2"
  }
 },
 "nbformat": 4,
 "nbformat_minor": 2
}
