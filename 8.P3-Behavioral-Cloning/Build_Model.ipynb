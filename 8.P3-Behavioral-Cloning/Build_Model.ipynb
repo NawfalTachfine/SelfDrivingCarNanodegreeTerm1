{
 "cells": [
  {
   "cell_type": "markdown",
   "metadata": {},
   "source": [
    "# Data Prep+Aug"
   ]
  },
  {
   "cell_type": "code",
   "execution_count": 1,
   "metadata": {
    "collapsed": true
   },
   "outputs": [],
   "source": [
    "import pandas as pd\n",
    "import numpy as np\n",
    "import csv\n",
    "import cv2"
   ]
  },
  {
   "cell_type": "code",
   "execution_count": 2,
   "metadata": {},
   "outputs": [
    {
     "name": "stdout",
     "output_type": "stream",
     "text": [
      "Number of examples: 8036\n"
     ]
    }
   ],
   "source": [
    "sample = pd.read_csv('sample_data/driving_log.csv')\n",
    "print('Number of sample examples: {}'.format(sample.shape[0]))"
   ]
  },
  {
   "cell_type": "code",
   "execution_count": 3,
   "metadata": {},
   "outputs": [
    {
     "name": "stdout",
     "output_type": "stream",
     "text": [
      "Number of driving examples: 7873\n",
      "Number of recovery examples: 1457\n"
     ]
    }
   ],
   "source": [
    "drive = pd.read_csv('data/track1/drive/driving_log.csv')\n",
    "recov = pd.read_csv('data/track1/recovery/driving_log.csv')\n",
    "print('Number of driving examples: {}'.format(drive.shape[0]))\n",
    "print('Number of recovery examples: {}'.format(recov.shape[0]))"
   ]
  },
  {
   "cell_type": "code",
   "execution_count": 25,
   "metadata": {},
   "outputs": [
    {
     "data": {
      "text/html": [
       "<div>\n",
       "<table border=\"1\" class=\"dataframe\">\n",
       "  <thead>\n",
       "    <tr style=\"text-align: right;\">\n",
       "      <th></th>\n",
       "      <th>project3/track1/drive/IMG/center_2017_02_25_15_00_06_006.jpg</th>\n",
       "      <th>project3/track1/drive/IMG/left_2017_02_25_15_00_06_006.jpg</th>\n",
       "      <th>project3/track1/drive/IMG/right_2017_02_25_15_00_06_006.jpg</th>\n",
       "      <th>0</th>\n",
       "      <th>0.9663736</th>\n",
       "      <th>0.1</th>\n",
       "      <th>30.1818</th>\n",
       "    </tr>\n",
       "  </thead>\n",
       "  <tbody>\n",
       "    <tr>\n",
       "      <th>0</th>\n",
       "      <td>project3/track1/drive/IMG/center_2017_02_25_15...</td>\n",
       "      <td>project3/track1/drive/IMG/left_2017_02_25_15_...</td>\n",
       "      <td>project3/track1/drive/IMG/right_2017_02_25_15...</td>\n",
       "      <td>0.0</td>\n",
       "      <td>0.966374</td>\n",
       "      <td>0</td>\n",
       "      <td>30.18168</td>\n",
       "    </tr>\n",
       "    <tr>\n",
       "      <th>1</th>\n",
       "      <td>project3/track1/drive/IMG/center_2017_02_25_15...</td>\n",
       "      <td>project3/track1/drive/IMG/left_2017_02_25_15_...</td>\n",
       "      <td>project3/track1/drive/IMG/right_2017_02_25_15...</td>\n",
       "      <td>0.0</td>\n",
       "      <td>0.966374</td>\n",
       "      <td>0</td>\n",
       "      <td>30.18178</td>\n",
       "    </tr>\n",
       "    <tr>\n",
       "      <th>2</th>\n",
       "      <td>project3/track1/drive/IMG/center_2017_02_25_15...</td>\n",
       "      <td>project3/track1/drive/IMG/left_2017_02_25_15_...</td>\n",
       "      <td>project3/track1/drive/IMG/right_2017_02_25_15...</td>\n",
       "      <td>0.0</td>\n",
       "      <td>0.966374</td>\n",
       "      <td>0</td>\n",
       "      <td>30.18179</td>\n",
       "    </tr>\n",
       "    <tr>\n",
       "      <th>3</th>\n",
       "      <td>project3/track1/drive/IMG/center_2017_02_25_15...</td>\n",
       "      <td>project3/track1/drive/IMG/left_2017_02_25_15_...</td>\n",
       "      <td>project3/track1/drive/IMG/right_2017_02_25_15...</td>\n",
       "      <td>0.0</td>\n",
       "      <td>0.966374</td>\n",
       "      <td>0</td>\n",
       "      <td>30.18179</td>\n",
       "    </tr>\n",
       "    <tr>\n",
       "      <th>4</th>\n",
       "      <td>project3/track1/drive/IMG/center_2017_02_25_15...</td>\n",
       "      <td>project3/track1/drive/IMG/left_2017_02_25_15_...</td>\n",
       "      <td>project3/track1/drive/IMG/right_2017_02_25_15...</td>\n",
       "      <td>0.0</td>\n",
       "      <td>0.966374</td>\n",
       "      <td>0</td>\n",
       "      <td>30.18179</td>\n",
       "    </tr>\n",
       "  </tbody>\n",
       "</table>\n",
       "</div>"
      ],
      "text/plain": [
       "  project3/track1/drive/IMG/center_2017_02_25_15_00_06_006.jpg  \\\n",
       "0  project3/track1/drive/IMG/center_2017_02_25_15...             \n",
       "1  project3/track1/drive/IMG/center_2017_02_25_15...             \n",
       "2  project3/track1/drive/IMG/center_2017_02_25_15...             \n",
       "3  project3/track1/drive/IMG/center_2017_02_25_15...             \n",
       "4  project3/track1/drive/IMG/center_2017_02_25_15...             \n",
       "\n",
       "   project3/track1/drive/IMG/left_2017_02_25_15_00_06_006.jpg  \\\n",
       "0   project3/track1/drive/IMG/left_2017_02_25_15_...            \n",
       "1   project3/track1/drive/IMG/left_2017_02_25_15_...            \n",
       "2   project3/track1/drive/IMG/left_2017_02_25_15_...            \n",
       "3   project3/track1/drive/IMG/left_2017_02_25_15_...            \n",
       "4   project3/track1/drive/IMG/left_2017_02_25_15_...            \n",
       "\n",
       "   project3/track1/drive/IMG/right_2017_02_25_15_00_06_006.jpg    0  \\\n",
       "0   project3/track1/drive/IMG/right_2017_02_25_15...            0.0   \n",
       "1   project3/track1/drive/IMG/right_2017_02_25_15...            0.0   \n",
       "2   project3/track1/drive/IMG/right_2017_02_25_15...            0.0   \n",
       "3   project3/track1/drive/IMG/right_2017_02_25_15...            0.0   \n",
       "4   project3/track1/drive/IMG/right_2017_02_25_15...            0.0   \n",
       "\n",
       "    0.9663736   0.1   30.1818  \n",
       "0    0.966374     0  30.18168  \n",
       "1    0.966374     0  30.18178  \n",
       "2    0.966374     0  30.18179  \n",
       "3    0.966374     0  30.18179  \n",
       "4    0.966374     0  30.18179  "
      ]
     },
     "execution_count": 25,
     "metadata": {},
     "output_type": "execute_result"
    }
   ],
   "source": [
    "drive.head()"
   ]
  },
  {
   "cell_type": "code",
   "execution_count": 26,
   "metadata": {
    "collapsed": true
   },
   "outputs": [],
   "source": [
    "# fourth attempt, using a generator\n",
    "\n",
    "def get_batch(data, size=1024, path='sample_data', correction=0.2):\n",
    "    \n",
    "    n = data.shape[0]\n",
    "    path = path + '/IMG/'\n",
    "    \n",
    "    for i in range(0, n, size):\n",
    "        images = []\n",
    "        measurements = []        \n",
    "        j = min(n, i + size)\n",
    "        \n",
    "        # print(i, ' - ', j-1)       \n",
    "        for _,row in data[i:j].iterrows():\n",
    "            #img_center = cv2.imread(path + row[0].strip())\n",
    "            img_center = cv2.imread(path + row[0].split('/')[-1])\n",
    "            img_left = cv2.imread(path + row[1].split('/')[-1])\n",
    "            img_right = cv2.imread(path + row[2].split('/')[-1])\n",
    "            img = [img_center, img_left, img_right]\n",
    "\n",
    "            steer_center = float(row[3])\n",
    "            steer_left = steer_center + correction\n",
    "            steer_right = steer_center - correction\n",
    "            steer = [steer_center, steer_left, steer_right]\n",
    "\n",
    "            # normal\n",
    "            images.extend(img)\n",
    "            measurements.extend(steer)    \n",
    "\n",
    "            # flipped\n",
    "            images.extend([cv2.flip(i,1) for i in img])\n",
    "            measurements.extend([-1.0 * s for s in steer])  \n",
    "            \n",
    "\n",
    "        X = np.array(images)\n",
    "        y = np.array(measurements)\n",
    "\n",
    "        yield X,y"
   ]
  },
  {
   "cell_type": "markdown",
   "metadata": {},
   "source": [
    "---\n",
    "# Model Architecture"
   ]
  },
  {
   "cell_type": "code",
   "execution_count": 27,
   "metadata": {},
   "outputs": [],
   "source": [
    "from keras.models import Sequential\n",
    "from keras.layers.core import Dense, Activation, Flatten, Lambda\n",
    "from keras.layers.convolutional import Convolution2D\n",
    "from keras.layers import Cropping2D\n",
    "\n",
    "#from keras.layers.pooling"
   ]
  },
  {
   "cell_type": "code",
   "execution_count": 28,
   "metadata": {
    "collapsed": true
   },
   "outputs": [],
   "source": [
    "model = Sequential()\n",
    "\n",
    "# normalize\n",
    "model.add(Lambda(lambda x: x/255.0 - 0.5, input_shape=(160, 320, 3)))\n",
    "\n",
    "# crop\n",
    "model.add(Cropping2D(cropping=((70,25), (0,0))))"
   ]
  },
  {
   "cell_type": "code",
   "execution_count": 29,
   "metadata": {
    "collapsed": true
   },
   "outputs": [],
   "source": [
    "# nvidia architecture\n",
    "\n",
    "model.add(Convolution2D(nb_filter=24,  nb_row=5, nb_col=5, subsample=(2,2), activation='relu'))\n",
    "model.add(Convolution2D(nb_filter=36,  nb_row=5, nb_col=5, subsample=(2,2), activation='relu'))\n",
    "model.add(Convolution2D(nb_filter=48,  nb_row=5, nb_col=5, subsample=(2,2), activation='relu'))\n",
    "\n",
    "model.add(Convolution2D(nb_filter=64,  nb_row=3, nb_col=3, activation='relu'))\n",
    "model.add(Convolution2D(nb_filter=64,  nb_row=3, nb_col=3, activation='relu'))\n",
    "\n",
    "model.add(Flatten())\n",
    "\n",
    "model.add(Dense(100))\n",
    "model.add(Dense(50))\n",
    "model.add(Dense(1))"
   ]
  },
  {
   "cell_type": "code",
   "execution_count": 30,
   "metadata": {
    "collapsed": true
   },
   "outputs": [],
   "source": [
    "model.compile(loss='mse', optimizer='adam')"
   ]
  },
  {
   "cell_type": "markdown",
   "metadata": {},
   "source": [
    "---\n",
    "\n",
    "# Training"
   ]
  },
  {
   "cell_type": "code",
   "execution_count": 31,
   "metadata": {
    "collapsed": true
   },
   "outputs": [],
   "source": [
    "EPOCHS = 5\n",
    "BATCH_SIZE = 2048"
   ]
  },
  {
   "cell_type": "code",
   "execution_count": 32,
   "metadata": {},
   "outputs": [
    {
     "name": "stdout",
     "output_type": "stream",
     "text": [
      "********************************************************************************\n",
      "Pass 1/2\n",
      "\n",
      "(12288, 160, 320, 3)\n",
      "Train on 9830 samples, validate on 2458 samples\n",
      "Epoch 1/1\n",
      "9830/9830 [==============================] - 22s - loss: 0.0174 - val_loss: 0.0147\n",
      "(12288, 160, 320, 3)\n",
      "Train on 9830 samples, validate on 2458 samples\n",
      "Epoch 1/1\n",
      "9830/9830 [==============================] - 20s - loss: 0.0113 - val_loss: 0.0137\n",
      "(12288, 160, 320, 3)\n",
      "Train on 9830 samples, validate on 2458 samples\n",
      "Epoch 1/1\n",
      "9830/9830 [==============================] - 20s - loss: 0.0109 - val_loss: 0.0132\n",
      "(10374, 160, 320, 3)\n",
      "Train on 8299 samples, validate on 2075 samples\n",
      "Epoch 1/1\n",
      "8299/8299 [==============================] - 17s - loss: 0.0073 - val_loss: 0.0149\n",
      "++++++++++++++++++++++++++++++++++++++++++++++++++++++++++++++++++++++++++++++++\n",
      "Train on 6993 samples, validate on 1749 samples\n",
      "Epoch 1/1\n",
      "6993/6993 [==============================] - 15s - loss: 0.0849 - val_loss: 0.1480\n",
      "\n",
      "********************************************************************************\n",
      "********************************************************************************\n",
      "Pass 2/2\n",
      "\n",
      "(12288, 160, 320, 3)\n",
      "Train on 9830 samples, validate on 2458 samples\n",
      "Epoch 1/1\n",
      "9830/9830 [==============================] - 21s - loss: 0.0119 - val_loss: 0.0128\n",
      "(12288, 160, 320, 3)\n",
      "Train on 9830 samples, validate on 2458 samples\n",
      "Epoch 1/1\n",
      "9830/9830 [==============================] - 20s - loss: 0.0104 - val_loss: 0.0165\n",
      "(12288, 160, 320, 3)\n",
      "Train on 9830 samples, validate on 2458 samples\n",
      "Epoch 1/1\n",
      "9830/9830 [==============================] - 21s - loss: 0.0094 - val_loss: 0.0139\n",
      "(10374, 160, 320, 3)\n",
      "Train on 8299 samples, validate on 2075 samples\n",
      "Epoch 1/1\n",
      "8299/8299 [==============================] - 17s - loss: 0.0068 - val_loss: 0.0136\n",
      "++++++++++++++++++++++++++++++++++++++++++++++++++++++++++++++++++++++++++++++++\n",
      "Train on 6993 samples, validate on 1749 samples\n",
      "Epoch 1/1\n",
      "6993/6993 [==============================] - 15s - loss: 0.0773 - val_loss: 0.1518\n",
      "\n",
      "********************************************************************************\n"
     ]
    }
   ],
   "source": [
    "# batch mode\n",
    "\n",
    "for e in range(EPOCHS):\n",
    "\n",
    "    print('*'*80)\n",
    "    print('Pass {}/{}\\n'.format(e+1, EPOCHS))\n",
    "\n",
    "    source = get_batch(drive, BATCH_SIZE, 'data/track1/drive')\n",
    "    \n",
    "    for X_train, y_train in source:\n",
    "        model.fit(X_train, y_train, validation_split=0.2, shuffle=True, nb_epoch=1, verbose=1)\n",
    "        \n",
    "    print('+'*80)  \n",
    "    \n",
    "    source = get_batch(recov, BATCH_SIZE, 'data/track1/recovery')\n",
    "    \n",
    "    for X_train, y_train in source:\n",
    "        model.fit(X_train, y_train, validation_split=0.2, shuffle=True, nb_epoch=1, verbose=1)\n",
    "    \n",
    "    print('\\n'+('*'*80))"
   ]
  },
  {
   "cell_type": "code",
   "execution_count": 33,
   "metadata": {
    "collapsed": true
   },
   "outputs": [],
   "source": [
    "model.save('models/model.h5')"
   ]
  },
  {
   "cell_type": "markdown",
   "metadata": {},
   "source": [
    "---\n",
    "\n",
    "# Archive"
   ]
  },
  {
   "cell_type": "code",
   "execution_count": 3,
   "metadata": {},
   "outputs": [
    {
     "name": "stdout",
     "output_type": "stream",
     "text": [
      "\n"
     ]
    }
   ],
   "source": [
    "# initial loop, no augmentation\n",
    "\n",
    "\"\"\"\n",
    "for line in lines[1:]:\n",
    "    fn = line[0] #.split('/')[-1]\n",
    "    img = cv2.imread('sample_data/'+fn)\n",
    "    images.append(img)\n",
    "    measurements.append(float(line[3]))    \n",
    "\"\"\"\n",
    "print()"
   ]
  },
  {
   "cell_type": "code",
   "execution_count": 4,
   "metadata": {},
   "outputs": [
    {
     "name": "stdout",
     "output_type": "stream",
     "text": [
      "\n"
     ]
    }
   ],
   "source": [
    "# second loopo, added flipping\n",
    "\n",
    "\"\"\"\n",
    "for line in lines[1:]:\n",
    "    fn = line[0] #.split('/')[-1]\n",
    "    img = cv2.imread('sample_data/'+fn)\n",
    "    \n",
    "    images.append(img)\n",
    "    measurements.append(float(line[3]))    \n",
    "        \n",
    "    images.append(cv2.flip(img,1))\n",
    "    measurements.append( -1.0 * float(line[3])) \n",
    "\"\"\"\n",
    "print()"
   ]
  },
  {
   "cell_type": "code",
   "execution_count": 5,
   "metadata": {},
   "outputs": [
    {
     "name": "stdout",
     "output_type": "stream",
     "text": [
      "\n"
     ]
    }
   ],
   "source": [
    "# third loop, added multiple cameras\n",
    "\"\"\"\n",
    "CORRECTION = 0.2\n",
    "\n",
    "images = []\n",
    "measurements = []\n",
    "\n",
    "with open('sample_data/driving_log.csv', 'r') as f:\n",
    "    reader = csv.reader(f)\n",
    "    next(reader, None)\n",
    "    c = 0\n",
    "    for row in reader:\n",
    "        img_center = cv2.imread('sample_data/' + row[0].strip())\n",
    "        img_left = cv2.imread('sample_data/' + row[1].strip())\n",
    "        img_right = cv2.imread('sample_data/' + row[2].strip())\n",
    "        img = [img_center, img_left, img_right]\n",
    "        \n",
    "        steer_center = float(row[3])\n",
    "        steer_left = steer_center + CORRECTION\n",
    "        steer_right = steer_center - CORRECTION\n",
    "        steer = [steer_center, steer_left, steer_right]\n",
    "\n",
    "        # normal\n",
    "        images.extend(img)\n",
    "        measurements.extend(steer)    \n",
    "\n",
    "        # flipped\n",
    "        images.extend([cv2.flip(i,1) for i in img])\n",
    "        measurements.extend([-1.0 * s for s in steer])   \n",
    "        \n",
    "        if c > 5000: break\n",
    "        c += 1\n",
    "        \n",
    "X_train = np.array(images)\n",
    "y_train = np.array(measurements)\n",
    "\n",
    "\"\"\"\n",
    "print()"
   ]
  },
  {
   "cell_type": "code",
   "execution_count": 9,
   "metadata": {},
   "outputs": [
    {
     "data": {
      "text/plain": [
       "'\\nmodel.add(Flatten())\\nmodel.add(Dense(1))\\n'"
      ]
     },
     "execution_count": 9,
     "metadata": {},
     "output_type": "execute_result"
    }
   ],
   "source": [
    "# dummy architecture\n",
    "\"\"\"\n",
    "model.add(Flatten())\n",
    "model.add(Dense(1))\n",
    "\"\"\""
   ]
  },
  {
   "cell_type": "code",
   "execution_count": 14,
   "metadata": {
    "collapsed": true
   },
   "outputs": [],
   "source": [
    "# full mode\n",
    "\n",
    "# model.fit(X_train, y_train, validation_split=0.2, shuffle=True, nb_epoch=EPOCHS, verbose=1)"
   ]
  }
 ],
 "metadata": {
  "kernelspec": {
   "display_name": "Python 3",
   "language": "python",
   "name": "python3"
  },
  "language_info": {
   "codemirror_mode": {
    "name": "ipython",
    "version": 3
   },
   "file_extension": ".py",
   "mimetype": "text/x-python",
   "name": "python",
   "nbconvert_exporter": "python",
   "pygments_lexer": "ipython3",
   "version": "3.5.2"
  },
  "widgets": {
   "state": {},
   "version": "1.1.2"
  }
 },
 "nbformat": 4,
 "nbformat_minor": 2
}
