{
 "cells": [
  {
   "cell_type": "markdown",
   "metadata": {},
   "source": [
    "# Data Prep+Aug"
   ]
  },
  {
   "cell_type": "code",
   "execution_count": 1,
   "metadata": {
    "collapsed": true
   },
   "outputs": [],
   "source": [
    "import pandas as pd\n",
    "import numpy as np\n",
    "\n",
    "import os\n",
    "import csv\n",
    "import cv2"
   ]
  },
  {
   "cell_type": "code",
   "execution_count": 2,
   "metadata": {},
   "outputs": [
    {
     "name": "stdout",
     "output_type": "stream",
     "text": [
      "Number of examples: 8036\n"
     ]
    }
   ],
   "source": [
    "driving_log = pd.read_csv('sample_data/driving_log.csv')\n",
    "print('Number of examples: {}'.format(driving_log.shape[0]))"
   ]
  },
  {
   "cell_type": "code",
   "execution_count": 3,
   "metadata": {},
   "outputs": [
    {
     "name": "stdout",
     "output_type": "stream",
     "text": [
      "\n"
     ]
    }
   ],
   "source": [
    "# initial loop, no augmentation\n",
    "\n",
    "\"\"\"\n",
    "for line in lines[1:]:\n",
    "    fn = line[0] #.split('/')[-1]\n",
    "    img = cv2.imread('sample_data/'+fn)\n",
    "    images.append(img)\n",
    "    measurements.append(float(line[3]))    \n",
    "\"\"\"\n",
    "print()"
   ]
  },
  {
   "cell_type": "code",
   "execution_count": 4,
   "metadata": {},
   "outputs": [
    {
     "name": "stdout",
     "output_type": "stream",
     "text": [
      "\n"
     ]
    }
   ],
   "source": [
    "# second loopo, added flipping\n",
    "\n",
    "\"\"\"\n",
    "for line in lines[1:]:\n",
    "    fn = line[0] #.split('/')[-1]\n",
    "    img = cv2.imread('sample_data/'+fn)\n",
    "    \n",
    "    images.append(img)\n",
    "    measurements.append(float(line[3]))    \n",
    "        \n",
    "    images.append(cv2.flip(img,1))\n",
    "    measurements.append( -1.0 * float(line[3])) \n",
    "\"\"\"\n",
    "print()"
   ]
  },
  {
   "cell_type": "code",
   "execution_count": 5,
   "metadata": {},
   "outputs": [
    {
     "name": "stdout",
     "output_type": "stream",
     "text": [
      "\n"
     ]
    }
   ],
   "source": [
    "# third loop, added multiple cameras\n",
    "\"\"\"\n",
    "CORRECTION = 0.2\n",
    "\n",
    "images = []\n",
    "measurements = []\n",
    "\n",
    "with open('sample_data/driving_log.csv', 'r') as f:\n",
    "    reader = csv.reader(f)\n",
    "    next(reader, None)\n",
    "    c = 0\n",
    "    for row in reader:\n",
    "        img_center = cv2.imread('sample_data/' + row[0].strip())\n",
    "        img_left = cv2.imread('sample_data/' + row[1].strip())\n",
    "        img_right = cv2.imread('sample_data/' + row[2].strip())\n",
    "        img = [img_center, img_left, img_right]\n",
    "        \n",
    "        steer_center = float(row[3])\n",
    "        steer_left = steer_center + CORRECTION\n",
    "        steer_right = steer_center - CORRECTION\n",
    "        steer = [steer_center, steer_left, steer_right]\n",
    "\n",
    "        # normal\n",
    "        images.extend(img)\n",
    "        measurements.extend(steer)    \n",
    "\n",
    "        # flipped\n",
    "        images.extend([cv2.flip(i,1) for i in img])\n",
    "        measurements.extend([-1.0 * s for s in steer])   \n",
    "        \n",
    "        if c > 5000: break\n",
    "        c += 1\n",
    "        \n",
    "X_train = np.array(images)\n",
    "y_train = np.array(measurements)\n",
    "\n",
    "\"\"\"\n",
    "print()"
   ]
  },
  {
   "cell_type": "code",
   "execution_count": 15,
   "metadata": {
    "collapsed": true
   },
   "outputs": [],
   "source": [
    "# fourth attempt, using a generator\n",
    "\n",
    "PATH = 'sample_data/'\n",
    "CORRECTION = 0.2\n",
    "\n",
    "def get_batch(data, size=1024):\n",
    "    \n",
    "    n = data.shape[0]\n",
    "    \n",
    "    for i in range(0, n, size):\n",
    "        images = []\n",
    "        measurements = []        \n",
    "        j = min(n, i + size)\n",
    "        \n",
    "        # print(i, ' - ', j-1)\n",
    "        \n",
    "        for _,row in data[i:j].iterrows():\n",
    "            img_center = cv2.imread(PATH + row[0].strip())\n",
    "            img_left = cv2.imread(PATH + row[1].strip())\n",
    "            img_right = cv2.imread(PATH + row[2].strip())\n",
    "            img = [img_center, img_left, img_right]\n",
    "\n",
    "            steer_center = float(row[3])\n",
    "            steer_left = steer_center + CORRECTION\n",
    "            steer_right = steer_center - CORRECTION\n",
    "            steer = [steer_center, steer_left, steer_right]\n",
    "\n",
    "            # normal\n",
    "            images.extend(img)\n",
    "            measurements.extend(steer)    \n",
    "\n",
    "            # flipped\n",
    "            images.extend([cv2.flip(i,1) for i in img])\n",
    "            measurements.extend([-1.0 * s for s in steer])  \n",
    "            \n",
    "\n",
    "        X = np.array(images)\n",
    "        y = np.array(measurements)\n",
    "\n",
    "        yield X,y"
   ]
  },
  {
   "cell_type": "markdown",
   "metadata": {},
   "source": [
    "---\n",
    "# Model Architecture"
   ]
  },
  {
   "cell_type": "code",
   "execution_count": 16,
   "metadata": {},
   "outputs": [],
   "source": [
    "from keras.models import Sequential\n",
    "from keras.layers.core import Dense, Activation, Flatten, Lambda\n",
    "from keras.layers.convolutional import Convolution2D\n",
    "from keras.layers import Cropping2D\n",
    "\n",
    "#from keras.layers.pooling"
   ]
  },
  {
   "cell_type": "code",
   "execution_count": 17,
   "metadata": {
    "collapsed": true
   },
   "outputs": [],
   "source": [
    "model = Sequential()\n",
    "\n",
    "# normalize\n",
    "model.add(Lambda(lambda x: x/255.0 - 0.5, input_shape=(160, 320, 3)))\n",
    "\n",
    "# crop\n",
    "model.add(Cropping2D(cropping=((70,25), (0,0))))"
   ]
  },
  {
   "cell_type": "code",
   "execution_count": 18,
   "metadata": {},
   "outputs": [
    {
     "data": {
      "text/plain": [
       "'\\nmodel.add(Flatten())\\nmodel.add(Dense(1))\\n'"
      ]
     },
     "execution_count": 18,
     "metadata": {},
     "output_type": "execute_result"
    }
   ],
   "source": [
    "# dummy architecture\n",
    "\"\"\"\n",
    "model.add(Flatten())\n",
    "model.add(Dense(1))\n",
    "\"\"\""
   ]
  },
  {
   "cell_type": "code",
   "execution_count": 19,
   "metadata": {
    "collapsed": true
   },
   "outputs": [],
   "source": [
    "# nvidia architecture\n",
    "\n",
    "model.add(Convolution2D(nb_filter=24,  nb_row=5, nb_col=5, subsample=(2,2), activation='relu'))\n",
    "model.add(Convolution2D(nb_filter=36,  nb_row=5, nb_col=5, subsample=(2,2), activation='relu'))\n",
    "model.add(Convolution2D(nb_filter=48,  nb_row=5, nb_col=5, subsample=(2,2), activation='relu'))\n",
    "\n",
    "model.add(Convolution2D(nb_filter=64,  nb_row=3, nb_col=3, activation='relu'))\n",
    "model.add(Convolution2D(nb_filter=64,  nb_row=3, nb_col=3, activation='relu'))\n",
    "\n",
    "model.add(Flatten())\n",
    "\n",
    "model.add(Dense(100))\n",
    "model.add(Dense(50))\n",
    "model.add(Dense(1))"
   ]
  },
  {
   "cell_type": "code",
   "execution_count": 20,
   "metadata": {
    "collapsed": true
   },
   "outputs": [],
   "source": [
    "model.compile(loss='mse', optimizer='adam')"
   ]
  },
  {
   "cell_type": "markdown",
   "metadata": {},
   "source": [
    "---\n",
    "\n",
    "# Training"
   ]
  },
  {
   "cell_type": "code",
   "execution_count": 26,
   "metadata": {
    "collapsed": true
   },
   "outputs": [],
   "source": [
    "EPOCHS = 2\n",
    "BATCH_SIZE = 1024"
   ]
  },
  {
   "cell_type": "code",
   "execution_count": 27,
   "metadata": {},
   "outputs": [],
   "source": [
    "# full mode\n",
    "\n",
    "# model.fit(X_train, y_train, validation_split=0.2, shuffle=True, nb_epoch=EPOCHS, verbose=1)"
   ]
  },
  {
   "cell_type": "code",
   "execution_count": null,
   "metadata": {},
   "outputs": [
    {
     "name": "stdout",
     "output_type": "stream",
     "text": [
      "*****************************************************************\n",
      "Pass 1/2\n",
      "Train on 4915 samples, validate on 1229 samples\n",
      "Epoch 1/2\n",
      "4915/4915 [==============================] - 9s - loss: 0.0093 - val_loss: 0.0198\n",
      "Epoch 2/2\n",
      "4915/4915 [==============================] - 9s - loss: 0.0077 - val_loss: 0.0188\n",
      "Train on 4915 samples, validate on 1229 samples\n",
      "Epoch 1/2\n",
      "4915/4915 [==============================] - 9s - loss: 0.0117 - val_loss: 0.0104\n",
      "Epoch 2/2\n",
      "4915/4915 [==============================] - 9s - loss: 0.0096 - val_loss: 0.0114\n",
      "Train on 4915 samples, validate on 1229 samples\n",
      "Epoch 1/2\n",
      "4915/4915 [==============================] - 9s - loss: 0.0079 - val_loss: 0.0105\n",
      "Epoch 2/2\n",
      "4915/4915 [==============================] - 9s - loss: 0.0052 - val_loss: 0.0103\n",
      "Train on 4915 samples, validate on 1229 samples\n",
      "Epoch 1/2\n",
      "4915/4915 [==============================] - 9s - loss: 0.0199 - val_loss: 0.0314\n",
      "Epoch 2/2\n",
      "4915/4915 [==============================] - 9s - loss: 0.0152 - val_loss: 0.0301\n",
      "Train on 4915 samples, validate on 1229 samples\n",
      "Epoch 1/2\n",
      "4915/4915 [==============================] - 9s - loss: 0.0164 - val_loss: 0.0098\n",
      "Epoch 2/2\n",
      "4915/4915 [==============================] - 9s - loss: 0.0114 - val_loss: 0.0068\n",
      "Train on 4915 samples, validate on 1229 samples\n",
      "Epoch 1/2\n",
      "4915/4915 [==============================] - 9s - loss: 0.0074 - val_loss: 0.0429\n",
      "Epoch 2/2\n",
      "4915/4915 [==============================] - 9s - loss: 0.0046 - val_loss: 0.0305\n",
      "Train on 4915 samples, validate on 1229 samples\n",
      "Epoch 1/2\n",
      "4915/4915 [==============================] - 9s - loss: 0.0085 - val_loss: 0.0292\n",
      "Epoch 2/2\n",
      "4915/4915 [==============================] - 9s - loss: 0.0049 - val_loss: 0.0281\n",
      "Train on 4166 samples, validate on 1042 samples\n",
      "Epoch 1/2\n",
      "4166/4166 [==============================] - 7s - loss: 0.0165 - val_loss: 0.0089\n",
      "Epoch 2/2\n",
      "4166/4166 [==============================] - 7s - loss: 0.0124 - val_loss: 0.0099\n",
      "*****************************************************************\n",
      "Pass 2/2\n",
      "Train on 4915 samples, validate on 1229 samples\n",
      "Epoch 1/2\n",
      "4915/4915 [==============================] - 9s - loss: 0.0099 - val_loss: 0.0175\n",
      "Epoch 2/2\n",
      "4915/4915 [==============================] - 9s - loss: 0.0067 - val_loss: 0.0186\n",
      "Train on 4915 samples, validate on 1229 samples\n",
      "Epoch 1/2\n",
      "1760/4915 [=========>....................] - ETA: 5s - loss: 0.0124"
     ]
    }
   ],
   "source": [
    "# batch mode\n",
    "\n",
    "for e in range(EPOCHS+1):\n",
    "    print('*****************************************************************')\n",
    "    print('Pass {}/{}'.format(e+1, EPOCHS))\n",
    "    source = get_batch(driving_log, BATCH_SIZE)\n",
    "    \n",
    "    for X_train, y_train in source:\n",
    "        model.fit(X_train, y_train, validation_split=0.2, shuffle=True, nb_epoch=1)#, verbose=1)\n",
    "    # X_train, y_train = next(source)\n",
    "    "
   ]
  },
  {
   "cell_type": "code",
   "execution_count": null,
   "metadata": {
    "collapsed": true
   },
   "outputs": [],
   "source": [
    "model.save('models/momo4.h5')"
   ]
  }
 ],
 "metadata": {
  "kernelspec": {
   "display_name": "Python 3",
   "language": "python",
   "name": "python3"
  },
  "language_info": {
   "codemirror_mode": {
    "name": "ipython",
    "version": 3
   },
   "file_extension": ".py",
   "mimetype": "text/x-python",
   "name": "python",
   "nbconvert_exporter": "python",
   "pygments_lexer": "ipython3",
   "version": "3.5.2"
  },
  "widgets": {
   "state": {},
   "version": "1.1.2"
  }
 },
 "nbformat": 4,
 "nbformat_minor": 2
}
