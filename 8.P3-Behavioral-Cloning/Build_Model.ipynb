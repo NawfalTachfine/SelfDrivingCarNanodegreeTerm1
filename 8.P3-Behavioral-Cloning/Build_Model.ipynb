{
 "cells": [
  {
   "cell_type": "markdown",
   "metadata": {},
   "source": [
    "# Data Prep+Aug"
   ]
  },
  {
   "cell_type": "code",
   "execution_count": 1,
   "metadata": {},
   "outputs": [],
   "source": [
    "import pandas as pd\n",
    "import numpy as np\n",
    "import os\n",
    "import csv\n",
    "import cv2"
   ]
  },
  {
   "cell_type": "code",
   "execution_count": 2,
   "metadata": {},
   "outputs": [
    {
     "data": {
      "text/html": [
       "<div>\n",
       "<table border=\"1\" class=\"dataframe\">\n",
       "  <thead>\n",
       "    <tr style=\"text-align: right;\">\n",
       "      <th></th>\n",
       "      <th>left</th>\n",
       "      <th>right</th>\n",
       "      <th>steering</th>\n",
       "      <th>throttle</th>\n",
       "      <th>brake</th>\n",
       "      <th>speed</th>\n",
       "    </tr>\n",
       "    <tr>\n",
       "      <th>center</th>\n",
       "      <th></th>\n",
       "      <th></th>\n",
       "      <th></th>\n",
       "      <th></th>\n",
       "      <th></th>\n",
       "      <th></th>\n",
       "    </tr>\n",
       "  </thead>\n",
       "  <tbody>\n",
       "    <tr>\n",
       "      <th>IMG/center_2016_12_01_13_30_48_287.jpg</th>\n",
       "      <td>IMG/left_2016_12_01_13_30_48_287.jpg</td>\n",
       "      <td>IMG/right_2016_12_01_13_30_48_287.jpg</td>\n",
       "      <td>0.0</td>\n",
       "      <td>0.0</td>\n",
       "      <td>0.0</td>\n",
       "      <td>22.148290</td>\n",
       "    </tr>\n",
       "    <tr>\n",
       "      <th>IMG/center_2016_12_01_13_30_48_404.jpg</th>\n",
       "      <td>IMG/left_2016_12_01_13_30_48_404.jpg</td>\n",
       "      <td>IMG/right_2016_12_01_13_30_48_404.jpg</td>\n",
       "      <td>0.0</td>\n",
       "      <td>0.0</td>\n",
       "      <td>0.0</td>\n",
       "      <td>21.879630</td>\n",
       "    </tr>\n",
       "    <tr>\n",
       "      <th>IMG/center_2016_12_01_13_31_12_937.jpg</th>\n",
       "      <td>IMG/left_2016_12_01_13_31_12_937.jpg</td>\n",
       "      <td>IMG/right_2016_12_01_13_31_12_937.jpg</td>\n",
       "      <td>0.0</td>\n",
       "      <td>0.0</td>\n",
       "      <td>0.0</td>\n",
       "      <td>1.453011</td>\n",
       "    </tr>\n",
       "    <tr>\n",
       "      <th>IMG/center_2016_12_01_13_31_13_037.jpg</th>\n",
       "      <td>IMG/left_2016_12_01_13_31_13_037.jpg</td>\n",
       "      <td>IMG/right_2016_12_01_13_31_13_037.jpg</td>\n",
       "      <td>0.0</td>\n",
       "      <td>0.0</td>\n",
       "      <td>0.0</td>\n",
       "      <td>1.438419</td>\n",
       "    </tr>\n",
       "    <tr>\n",
       "      <th>IMG/center_2016_12_01_13_31_13_177.jpg</th>\n",
       "      <td>IMG/left_2016_12_01_13_31_13_177.jpg</td>\n",
       "      <td>IMG/right_2016_12_01_13_31_13_177.jpg</td>\n",
       "      <td>0.0</td>\n",
       "      <td>0.0</td>\n",
       "      <td>0.0</td>\n",
       "      <td>1.418236</td>\n",
       "    </tr>\n",
       "  </tbody>\n",
       "</table>\n",
       "</div>"
      ],
      "text/plain": [
       "                                                                         left  \\\n",
       "center                                                                          \n",
       "IMG/center_2016_12_01_13_30_48_287.jpg   IMG/left_2016_12_01_13_30_48_287.jpg   \n",
       "IMG/center_2016_12_01_13_30_48_404.jpg   IMG/left_2016_12_01_13_30_48_404.jpg   \n",
       "IMG/center_2016_12_01_13_31_12_937.jpg   IMG/left_2016_12_01_13_31_12_937.jpg   \n",
       "IMG/center_2016_12_01_13_31_13_037.jpg   IMG/left_2016_12_01_13_31_13_037.jpg   \n",
       "IMG/center_2016_12_01_13_31_13_177.jpg   IMG/left_2016_12_01_13_31_13_177.jpg   \n",
       "\n",
       "                                                                         right  \\\n",
       "center                                                                           \n",
       "IMG/center_2016_12_01_13_30_48_287.jpg   IMG/right_2016_12_01_13_30_48_287.jpg   \n",
       "IMG/center_2016_12_01_13_30_48_404.jpg   IMG/right_2016_12_01_13_30_48_404.jpg   \n",
       "IMG/center_2016_12_01_13_31_12_937.jpg   IMG/right_2016_12_01_13_31_12_937.jpg   \n",
       "IMG/center_2016_12_01_13_31_13_037.jpg   IMG/right_2016_12_01_13_31_13_037.jpg   \n",
       "IMG/center_2016_12_01_13_31_13_177.jpg   IMG/right_2016_12_01_13_31_13_177.jpg   \n",
       "\n",
       "                                        steering  throttle  brake      speed  \n",
       "center                                                                        \n",
       "IMG/center_2016_12_01_13_30_48_287.jpg       0.0       0.0    0.0  22.148290  \n",
       "IMG/center_2016_12_01_13_30_48_404.jpg       0.0       0.0    0.0  21.879630  \n",
       "IMG/center_2016_12_01_13_31_12_937.jpg       0.0       0.0    0.0   1.453011  \n",
       "IMG/center_2016_12_01_13_31_13_037.jpg       0.0       0.0    0.0   1.438419  \n",
       "IMG/center_2016_12_01_13_31_13_177.jpg       0.0       0.0    0.0   1.418236  "
      ]
     },
     "execution_count": 2,
     "metadata": {},
     "output_type": "execute_result"
    }
   ],
   "source": [
    "driving_log = pd.DataFrame.from_csv('sample_data/driving_log.csv')\n",
    "driving_log.head()"
   ]
  },
  {
   "cell_type": "code",
   "execution_count": 3,
   "metadata": {},
   "outputs": [
    {
     "name": "stdout",
     "output_type": "stream",
     "text": [
      "\n"
     ]
    }
   ],
   "source": [
    "# initial loop, no augmentation\n",
    "\n",
    "\"\"\"\n",
    "for line in lines[1:]:\n",
    "    fn = line[0] #.split('/')[-1]\n",
    "    img = cv2.imread('sample_data/'+fn)\n",
    "    images.append(img)\n",
    "    measurements.append(float(line[3]))    \n",
    "\"\"\"\n",
    "print()"
   ]
  },
  {
   "cell_type": "code",
   "execution_count": 4,
   "metadata": {},
   "outputs": [
    {
     "name": "stdout",
     "output_type": "stream",
     "text": [
      "\n"
     ]
    }
   ],
   "source": [
    "# second loopo, added flipping\n",
    "\n",
    "\"\"\"\n",
    "for line in lines[1:]:\n",
    "    fn = line[0] #.split('/')[-1]\n",
    "    img = cv2.imread('sample_data/'+fn)\n",
    "    \n",
    "    images.append(img)\n",
    "    measurements.append(float(line[3]))    \n",
    "        \n",
    "    images.append(cv2.flip(img,1))\n",
    "    measurements.append( -1.0 * float(line[3])) \n",
    "\"\"\"\n",
    "print()"
   ]
  },
  {
   "cell_type": "code",
   "execution_count": 5,
   "metadata": {},
   "outputs": [],
   "source": [
    "# third loop, added multiple cameras\n",
    "\n",
    "CORRECTION = 0.2\n",
    "\n",
    "images = []\n",
    "measurements = []\n",
    "\n",
    "with open('sample_data/driving_log.csv', 'r') as f:\n",
    "    reader = csv.reader(f)\n",
    "    next(reader, None)\n",
    "    #c = 0\n",
    "    for row in reader:\n",
    "        img_center = cv2.imread('sample_data/' + row[0].strip())\n",
    "        img_left = cv2.imread('sample_data/' + row[1].strip())\n",
    "        img_right = cv2.imread('sample_data/' + row[2].strip())\n",
    "        img = [img_center, img_left, img_right]\n",
    "        \n",
    "        steer_center = float(row[3])\n",
    "        steer_left = steer_center + CORRECTION\n",
    "        steer_right = steer_center - CORRECTION\n",
    "        steer = [steer_center, steer_left, steer_right]\n",
    "\n",
    "        # normal\n",
    "        images.extend(img)\n",
    "        # images.append(img_center)\n",
    "        measurements.extend(steer)    \n",
    "\n",
    "        # flipped\n",
    "        images.extend([cv2.flip(i,1) for i in img])\n",
    "        measurements.extend([-1.0 * s for s in steer])   \n",
    "        #c+=1\n",
    "        #if c > 5000: break"
   ]
  },
  {
   "cell_type": "code",
   "execution_count": 6,
   "metadata": {},
   "outputs": [],
   "source": [
    "X_train = np.array(images)\n",
    "y_train = np.array(measurements)"
   ]
  },
  {
   "cell_type": "code",
   "execution_count": 7,
   "metadata": {},
   "outputs": [
    {
     "data": {
      "text/plain": [
       "(48216, 160, 320, 3)"
      ]
     },
     "execution_count": 7,
     "metadata": {},
     "output_type": "execute_result"
    }
   ],
   "source": [
    "X_train.shape"
   ]
  },
  {
   "cell_type": "markdown",
   "metadata": {},
   "source": [
    "---\n",
    "# Model Architecture"
   ]
  },
  {
   "cell_type": "code",
   "execution_count": 8,
   "metadata": {},
   "outputs": [
    {
     "name": "stderr",
     "output_type": "stream",
     "text": [
      "Using TensorFlow backend.\n"
     ]
    }
   ],
   "source": [
    "from keras.models import Sequential\n",
    "from keras.layers.core import Dense, Activation, Flatten, Lambda\n",
    "from keras.layers.convolutional import Convolution2D\n",
    "from keras.layers import Cropping2D\n",
    "\n",
    "#from keras.layers.pooling"
   ]
  },
  {
   "cell_type": "code",
   "execution_count": 9,
   "metadata": {
    "collapsed": true
   },
   "outputs": [],
   "source": [
    "EPOCHS = 10"
   ]
  },
  {
   "cell_type": "code",
   "execution_count": 10,
   "metadata": {
    "collapsed": true
   },
   "outputs": [],
   "source": [
    "model = Sequential()\n",
    "\n",
    "# normalize\n",
    "model.add(Lambda(lambda x: x/255.0 - 0.5, input_shape=(160, 320, 3)))\n",
    "\n",
    "# crop\n",
    "model.add(Cropping2D(cropping=((70,25), (0,0))))"
   ]
  },
  {
   "cell_type": "code",
   "execution_count": 11,
   "metadata": {},
   "outputs": [
    {
     "data": {
      "text/plain": [
       "'\\nmodel.add(Flatten())\\nmodel.add(Dense(1))\\n'"
      ]
     },
     "execution_count": 11,
     "metadata": {},
     "output_type": "execute_result"
    }
   ],
   "source": [
    "# dummy architecture\n",
    "\"\"\"\n",
    "model.add(Flatten())\n",
    "model.add(Dense(1))\n",
    "\"\"\""
   ]
  },
  {
   "cell_type": "code",
   "execution_count": null,
   "metadata": {},
   "outputs": [],
   "source": [
    "# nvidia architecture\n",
    "\n",
    "model.add(Convolution2D(nb_filter=24,  nb_row=5, nb_col=5, subsample=(2,2), activation='relu'))\n",
    "model.add(Convolution2D(nb_filter=36,  nb_row=5, nb_col=5, subsample=(2,2), activation='relu'))\n",
    "model.add(Convolution2D(nb_filter=48,  nb_row=5, nb_col=5, subsample=(2,2), activation='relu'))\n",
    "\n",
    "model.add(Convolution2D(nb_filter=64,  nb_row=3, nb_col=3, activation='relu'))\n",
    "model.add(Convolution2D(nb_filter=64,  nb_row=3, nb_col=3, activation='relu'))\n",
    "\n",
    "model.add(Flatten())\n",
    "\n",
    "model.add(Dense(100))\n",
    "model.add(Dense(50))\n",
    "model.add(Dense(1))"
   ]
  },
  {
   "cell_type": "code",
   "execution_count": null,
   "metadata": {},
   "outputs": [
    {
     "name": "stdout",
     "output_type": "stream",
     "text": [
      "Train on 38572 samples, validate on 9644 samples\n",
      "Epoch 1/10\n"
     ]
    }
   ],
   "source": [
    "model.compile(loss='mse', optimizer='adam')\n",
    "\n",
    "model.fit(X_train, y_train, validation_split=0.2, shuffle=True, nb_epoch=EPOCHS, verbose=1)"
   ]
  },
  {
   "cell_type": "code",
   "execution_count": null,
   "metadata": {},
   "outputs": [],
   "source": [
    "model.save('models/momo2.h5')"
   ]
  }
 ],
 "metadata": {
  "kernelspec": {
   "display_name": "Python 3",
   "language": "python",
   "name": "python3"
  },
  "language_info": {
   "codemirror_mode": {
    "name": "ipython",
    "version": 3
   },
   "file_extension": ".py",
   "mimetype": "text/x-python",
   "name": "python",
   "nbconvert_exporter": "python",
   "pygments_lexer": "ipython3",
   "version": "3.5.2"
  },
  "widgets": {
   "state": {},
   "version": "1.1.2"
  }
 },
 "nbformat": 4,
 "nbformat_minor": 2
}
